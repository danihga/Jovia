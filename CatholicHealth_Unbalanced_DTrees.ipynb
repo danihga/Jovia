{
  "nbformat": 4,
  "nbformat_minor": 0,
  "metadata": {
    "colab": {
      "provenance": [],
      "authorship_tag": "ABX9TyMfCYM2XRQsTi8fD6xHp1vf",
      "include_colab_link": true
    },
    "kernelspec": {
      "name": "python3",
      "display_name": "Python 3"
    },
    "language_info": {
      "name": "python"
    }
  },
  "cells": [
    {
      "cell_type": "markdown",
      "metadata": {
        "id": "view-in-github",
        "colab_type": "text"
      },
      "source": [
        "<a href=\"https://colab.research.google.com/github/danihga/Jovia/blob/main/CatholicHealth_Unbalanced_DTrees.ipynb\" target=\"_parent\"><img src=\"https://colab.research.google.com/assets/colab-badge.svg\" alt=\"Open In Colab\"/></a>"
      ]
    },
    {
      "cell_type": "code",
      "execution_count": 30,
      "metadata": {
        "id": "jpAl_YEOQXjE"
      },
      "outputs": [],
      "source": [
        "import numpy as np\n",
        "import pandas as pd\n",
        "from sklearn.preprocessing import OneHotEncoder\n",
        "import matplotlib.pyplot as plt\n",
        "import seaborn as sns\n",
        "import os\n",
        "from sklearn.tree import DecisionTreeClassifier\n",
        "from sklearn import tree\n",
        "from sklearn.metrics import accuracy_score\n",
        "from sklearn.metrics import classification_report, confusion_matrix, ConfusionMatrixDisplay\n"
      ]
    },
    {
      "cell_type": "markdown",
      "source": [
        "# Data Preprocessing\n",
        "Data Split, Train-test Split, etc..."
      ],
      "metadata": {
        "id": "1yq_aLJCfWIR"
      }
    },
    {
      "cell_type": "code",
      "source": [
        "#Import Data\n",
        "\n",
        "data = pd.read_excel(r'/content/DeidentifiedSDOHPatientData-v1.xlsx')\n",
        "\n",
        "data.sample(6)\n",
        "\n",
        "data.columns = ['id', 'age', 'race', 'ethnicity', 'gender',\n",
        "       'food would run out',\n",
        "       'Food didn’t last and no money for more',\n",
        "       'Lack transportation kept from medical appointments or medications?',\n",
        "       'Lack transportation kept from meetings, work, or things needed for daily living?',\n",
        "       'Not able to pay the mortgage or rent on time?',\n",
        "       'Not have a steady place to sleep or slept in a shelter?',\n",
        "       'Electric, gas, oil, or water company threatened to shut off services?',\n",
        "       'Fearful of physical/emotional abuse from relative?']\n",
        "\n",
        "# Only get the first three columns - predictor, and only question column - label\n",
        "data = data[['age', 'race', 'ethnicity', 'gender',\n",
        "       'food would run out']]\n",
        "\n",
        "# Drop NAs\n",
        "data = data.dropna()"
      ],
      "metadata": {
        "id": "JwFf4MzlRIiV"
      },
      "execution_count": 61,
      "outputs": []
    },
    {
      "cell_type": "markdown",
      "source": [
        "**Targe - Feature Split**"
      ],
      "metadata": {
        "id": "XlJYqDxdE2J8"
      }
    },
    {
      "cell_type": "code",
      "source": [
        "# Drop Patient declined, Patient unable to answer\n",
        "target_rows     = (data['food would run out']=='Patient declined')| (data['food would run out']=='Patient unable to answer')\n",
        "\n",
        "future_predict  = data[target_rows]\n",
        "\n",
        "tree_data       = data[~target_rows]"
      ],
      "metadata": {
        "id": "6M2uvNvEFNLe"
      },
      "execution_count": 93,
      "outputs": []
    },
    {
      "cell_type": "code",
      "source": [
        "X = tree_data.drop(columns = 'food would run out')\n",
        "y = tree_data['food would run out']"
      ],
      "metadata": {
        "id": "LLFfdy2keOXK"
      },
      "execution_count": 94,
      "outputs": []
    },
    {
      "cell_type": "markdown",
      "source": [
        "**Label Encoding**\n",
        "\n",
        "\n",
        "```\n",
        "{'Never True':0, 'Sometimes True':1, 'Often True':1}\n",
        "```\n",
        "\n"
      ],
      "metadata": {
        "id": "71rw5FmZZ1MX"
      }
    },
    {
      "cell_type": "code",
      "source": [
        "mapping = {'Never True':0,\n",
        "       'Sometimes True':1, 'Often True':1}\n",
        "\n",
        "reverse_mapping = {0:'Patient unable to answer', 1:'Patient declined', 2:'Never True',3:'Sometimes True', 4:'Often True'}\n",
        "\n",
        "y = y.map(mapping)"
      ],
      "metadata": {
        "id": "77w7Dx41W5Fr"
      },
      "execution_count": 95,
      "outputs": []
    },
    {
      "cell_type": "code",
      "source": [
        "categorical_columns = X[['race', 'ethnicity']]\n",
        "\n",
        "# One-hot encoding for the categorical columns\n",
        "encoder = OneHotEncoder(sparse_output = False)\n",
        "categorical_encoded = encoder.fit_transform(categorical_columns)\n",
        "\n",
        "col_one_hot = list(encoder.get_feature_names_out())\n",
        "# Convert the one-hot encoded array into a DataFrame with the created column names\n",
        "one_hot_df = pd.DataFrame(categorical_encoded, columns=col_one_hot)\n",
        "\n",
        "one_hot_df['age'] = list(X['age'])\n",
        "X = one_hot_df.copy()"
      ],
      "metadata": {
        "id": "PSKqexwQic-i"
      },
      "execution_count": 96,
      "outputs": []
    },
    {
      "cell_type": "code",
      "source": [
        "from sklearn.model_selection import train_test_split\n",
        "\n",
        "# Data Split\n",
        "X_train, X_test, y_train, y_test = train_test_split(X, y, test_size = 0.4, random_state = 0, stratify=y)"
      ],
      "metadata": {
        "id": "haiWPH5zaMvw"
      },
      "execution_count": 97,
      "outputs": []
    },
    {
      "cell_type": "markdown",
      "source": [
        "# Functions"
      ],
      "metadata": {
        "id": "CImvwJBAfhU4"
      }
    },
    {
      "cell_type": "code",
      "source": [
        "from sklearn.model_selection import GridSearchCV\n",
        "import sklearn\n",
        "# define model\n",
        "def do_grid(X_train, y_train, metric):\n",
        "  model = DecisionTreeClassifier()\n",
        "\n",
        "  # define grid\n",
        "  param_grid = {\n",
        "      'class_weight': [None, 'balanced',{0:100,1:1}, {0:10,1:1}, {0:1,1:1}, {0:1,1:10}, {0:1,1:100}],\n",
        "      'max_depth': [None, 3, 6, 10, 20, 30],\n",
        "      #'min_samples_split': [2, 5, 10],\n",
        "      'min_samples_leaf': [1, 2, 4]\n",
        "  }\n",
        "\n",
        "  # define evaluation procedure\n",
        "  cv = RepeatedStratifiedKFold(n_splits=10, n_repeats=3, random_state=1)\n",
        "\n",
        "  # define grid search\n",
        "  grid = GridSearchCV(estimator=model, param_grid=param_grid, n_jobs=-1, cv=cv, scoring=metric)\n",
        "\n",
        "  # execute the grid search\n",
        "  grid_result = grid.fit(X_train, y_train)\n",
        "\n",
        "  # report the best configuration\n",
        "  print(\"Best: %f using %s\" % (grid_result.best_score_, grid_result.best_params_))\n",
        "\n",
        "  # report all configurations\n",
        "  means = grid_result.cv_results_['mean_test_score']\n",
        "  stds = grid_result.cv_results_['std_test_score']\n",
        "  params = grid_result.cv_results_['params']\n",
        "  for mean, stdev, param in zip(means, stds, params):\n",
        "      print(\"%f (%f) with: %r\" % (mean, stdev, param))"
      ],
      "metadata": {
        "id": "-gh7DXTpH-1p"
      },
      "execution_count": 125,
      "outputs": []
    },
    {
      "cell_type": "code",
      "source": [
        "sklearn.metrics.get_scorer_names()"
      ],
      "metadata": {
        "colab": {
          "base_uri": "https://localhost:8080/"
        },
        "id": "DsNjuaezVmCe",
        "outputId": "a8562fab-ee64-47fe-d0ed-37e58ccade4c"
      },
      "execution_count": 82,
      "outputs": [
        {
          "output_type": "execute_result",
          "data": {
            "text/plain": [
              "['accuracy',\n",
              " 'adjusted_mutual_info_score',\n",
              " 'adjusted_rand_score',\n",
              " 'average_precision',\n",
              " 'balanced_accuracy',\n",
              " 'completeness_score',\n",
              " 'explained_variance',\n",
              " 'f1',\n",
              " 'f1_macro',\n",
              " 'f1_micro',\n",
              " 'f1_samples',\n",
              " 'f1_weighted',\n",
              " 'fowlkes_mallows_score',\n",
              " 'homogeneity_score',\n",
              " 'jaccard',\n",
              " 'jaccard_macro',\n",
              " 'jaccard_micro',\n",
              " 'jaccard_samples',\n",
              " 'jaccard_weighted',\n",
              " 'matthews_corrcoef',\n",
              " 'max_error',\n",
              " 'mutual_info_score',\n",
              " 'neg_brier_score',\n",
              " 'neg_log_loss',\n",
              " 'neg_mean_absolute_error',\n",
              " 'neg_mean_absolute_percentage_error',\n",
              " 'neg_mean_gamma_deviance',\n",
              " 'neg_mean_poisson_deviance',\n",
              " 'neg_mean_squared_error',\n",
              " 'neg_mean_squared_log_error',\n",
              " 'neg_median_absolute_error',\n",
              " 'neg_negative_likelihood_ratio',\n",
              " 'neg_root_mean_squared_error',\n",
              " 'normalized_mutual_info_score',\n",
              " 'positive_likelihood_ratio',\n",
              " 'precision',\n",
              " 'precision_macro',\n",
              " 'precision_micro',\n",
              " 'precision_samples',\n",
              " 'precision_weighted',\n",
              " 'r2',\n",
              " 'rand_score',\n",
              " 'recall',\n",
              " 'recall_macro',\n",
              " 'recall_micro',\n",
              " 'recall_samples',\n",
              " 'recall_weighted',\n",
              " 'roc_auc',\n",
              " 'roc_auc_ovo',\n",
              " 'roc_auc_ovo_weighted',\n",
              " 'roc_auc_ovr',\n",
              " 'roc_auc_ovr_weighted',\n",
              " 'top_k_accuracy',\n",
              " 'v_measure_score']"
            ]
          },
          "metadata": {},
          "execution_count": 82
        }
      ]
    },
    {
      "cell_type": "code",
      "source": [
        "from sklearn.metrics import classification_report, confusion_matrix, ConfusionMatrixDisplay\n",
        "def dt(X_train, y_train, X_test, y_test, weights={0: 100, 1: 1},max_depth=3, min_samples_leaf=4):\n",
        "  model1 = DecisionTreeClassifier(class_weight=weights,\n",
        "                                  max_depth=max_depth,\n",
        "                                  min_samples_leaf=min_samples_leaf\n",
        "                                  #min_samples_split=2\n",
        "                                  ).fit(X_train,y_train)\n",
        "  #'class_weight': {0: 100, 1: 1}, 'max_depth': None, 'min_samples_leaf': 4\n",
        "  # Make predictions on the testing data\n",
        "  y_train_pred = model1.predict(X_train)\n",
        "  y_test_pred = model1.predict(X_test)\n",
        "\n",
        "  print(accuracy_score(y_train, y_train_pred))\n",
        "  print(accuracy_score(y_test, y_test_pred))\n",
        "  print(classification_report(y_test, y_test_pred))\n",
        "  cm = confusion_matrix(y_test, y_test_pred)\n",
        "  dist= ConfusionMatrixDisplay(cm, display_labels=model1.classes_)\n",
        "  dist.plot()"
      ],
      "metadata": {
        "id": "fDFlOG9_eBpQ"
      },
      "execution_count": 126,
      "outputs": []
    },
    {
      "cell_type": "markdown",
      "source": [
        "# Try Different Sampling Techniques"
      ],
      "metadata": {
        "id": "q-OUhU5Afn_K"
      }
    },
    {
      "cell_type": "markdown",
      "source": [
        "**Smote**"
      ],
      "metadata": {
        "id": "L2j3vG6IWiit"
      }
    },
    {
      "cell_type": "code",
      "source": [
        "from imblearn.over_sampling import SMOTE\n",
        "oversample = SMOTE()\n",
        "X_smt_train, y_smt_train = oversample.fit_resample(X_train, y_train)"
      ],
      "metadata": {
        "id": "2JZuQj6O4ob-"
      },
      "execution_count": 98,
      "outputs": []
    },
    {
      "cell_type": "code",
      "source": [
        "from sklearn.metrics import classification_report, confusion_matrix, ConfusionMatrixDisplay\n",
        "model1 = DecisionTreeClassifier(class_weight={0: 1, 1: 1},\n",
        "                                max_depth=30,\n",
        "                                min_samples_leaf=2,\n",
        "                                #min_samples_split=2\n",
        "                                ).fit(X_train,y_train)\n",
        "\n",
        "# Make predictions on the testing data\n",
        "y_train_pred = model1.predict(X_smt_train)\n",
        "y_test_pred = model1.predict(X_test)\n",
        "\n",
        "print(accuracy_score(y_smt_train, y_train_pred))\n",
        "print(accuracy_score(y_test, y_test_pred))\n",
        "print(classification_report(y_test, y_test_pred))\n",
        "cm = confusion_matrix(y_test, y_test_pred)\n",
        "dist= ConfusionMatrixDisplay(cm, display_labels=model1.classes_)\n",
        "dist.plot()"
      ],
      "metadata": {
        "colab": {
          "base_uri": "https://localhost:8080/",
          "height": 657
        },
        "id": "ud0TnH60SIco",
        "outputId": "3e0893d8-701c-4e66-b392-dbfeb28547bd"
      },
      "execution_count": 99,
      "outputs": [
        {
          "output_type": "stream",
          "name": "stdout",
          "text": [
            "0.509328968903437\n",
            "0.985006045949214\n",
            "              precision    recall  f1-score   support\n",
            "\n",
            "           0       0.99      1.00      0.99      4074\n",
            "           1       0.00      0.00      0.00        61\n",
            "\n",
            "    accuracy                           0.99      4135\n",
            "   macro avg       0.49      0.50      0.50      4135\n",
            "weighted avg       0.97      0.99      0.98      4135\n",
            "\n"
          ]
        },
        {
          "output_type": "execute_result",
          "data": {
            "text/plain": [
              "<sklearn.metrics._plot.confusion_matrix.ConfusionMatrixDisplay at 0x7df75ddeb400>"
            ]
          },
          "metadata": {},
          "execution_count": 99
        },
        {
          "output_type": "display_data",
          "data": {
            "text/plain": [
              "<Figure size 640x480 with 2 Axes>"
            ],
            "image/png": "[encoded data removed]"
          },
          "metadata": {}
        }
      ]
    },
    {
      "cell_type": "code",
      "source": [
        "y_smt_train.value_counts()"
      ],
      "metadata": {
        "colab": {
          "base_uri": "https://localhost:8080/"
        },
        "id": "VMFFKma7T5Kf",
        "outputId": "d39fa7fb-6a66-477e-9c96-7cdf701bea3f"
      },
      "execution_count": 92,
      "outputs": [
        {
          "output_type": "execute_result",
          "data": {
            "text/plain": [
              "0    6110\n",
              "1    6110\n",
              "Name: food would run out, dtype: int64"
            ]
          },
          "metadata": {},
          "execution_count": 92
        }
      ]
    },
    {
      "cell_type": "markdown",
      "source": [
        "**Under-Sampling -- imblearn**"
      ],
      "metadata": {
        "id": "ObBMsO3MYfo7"
      }
    },
    {
      "cell_type": "code",
      "source": [
        "from imblearn.under_sampling import RandomUnderSampler\n",
        "\n",
        "rus = RandomUnderSampler(random_state=42, replacement=True)# fit predictor and target variable\n",
        "x_rus, y_rus = rus.fit_resample(X_train, y_train)"
      ],
      "metadata": {
        "id": "emER3_hwYihi"
      },
      "execution_count": 101,
      "outputs": []
    },
    {
      "cell_type": "code",
      "source": [
        "from sklearn.metrics import classification_report, confusion_matrix, ConfusionMatrixDisplay\n",
        "model1 = DecisionTreeClassifier(class_weight={0: 100, 1: 1},\n",
        "                                max_depth=3,\n",
        "                                min_samples_leaf=4,\n",
        "                                #min_samples_split=2\n",
        "                                ).fit(x_rus,y_rus)\n",
        "#'class_weight': {0: 100, 1: 1}, 'max_depth': None, 'min_samples_leaf': 4\n",
        "# Make predictions on the testing data\n",
        "y_train_pred = model1.predict(X_smt_train)\n",
        "y_test_pred = model1.predict(X_test)\n",
        "\n",
        "print(accuracy_score(y_smt_train, y_train_pred))\n",
        "print(accuracy_score(y_test, y_test_pred))\n",
        "print(classification_report(y_test, y_test_pred))\n",
        "cm = confusion_matrix(y_test, y_test_pred)\n",
        "dist= ConfusionMatrixDisplay(cm, display_labels=model1.classes_)\n",
        "dist.plot()"
      ],
      "metadata": {
        "colab": {
          "base_uri": "https://localhost:8080/",
          "height": 657
        },
        "id": "9BmcbhD4ZtFE",
        "outputId": "ceba981b-5e99-4b22-d515-d92709114379"
      },
      "execution_count": 110,
      "outputs": [
        {
          "output_type": "stream",
          "name": "stdout",
          "text": [
            "0.5656301145662848\n",
            "0.9114873035066505\n",
            "              precision    recall  f1-score   support\n",
            "\n",
            "           0       0.99      0.92      0.95      4074\n",
            "           1       0.03      0.16      0.05        61\n",
            "\n",
            "    accuracy                           0.91      4135\n",
            "   macro avg       0.51      0.54      0.50      4135\n",
            "weighted avg       0.97      0.91      0.94      4135\n",
            "\n"
          ]
        },
        {
          "output_type": "execute_result",
          "data": {
            "text/plain": [
              "<sklearn.metrics._plot.confusion_matrix.ConfusionMatrixDisplay at 0x7df75c333760>"
            ]
          },
          "metadata": {},
          "execution_count": 110
        },
        {
          "output_type": "display_data",
          "data": {
            "text/plain": [
              "<Figure size 640x480 with 2 Axes>"
            ],
            "image/png": "[encoded data removed]"
          },
          "metadata": {}
        }
      ]
    },
    {
      "cell_type": "markdown",
      "source": [
        "[Dealing with Unbalanced Classes](https://www.analyticsvidhya.com/blog/2020/07/10-techniques-to-deal-with-class-imbalance-in-machine-learning/)"
      ],
      "metadata": {
        "id": "e6NnitXmb0pN"
      }
    },
    {
      "cell_type": "markdown",
      "source": [
        "Tomek links are pairs of very close instances but of opposite classes. Removing the instances of the majority class of each pair increases the space between the two classes, facilitating the classification process."
      ],
      "metadata": {
        "id": "ET7UL12Jb9iH"
      }
    },
    {
      "cell_type": "markdown",
      "source": [
        "**Nearmiss under-sampling**"
      ],
      "metadata": {
        "id": "1PDj8399fz5U"
      }
    },
    {
      "cell_type": "code",
      "source": [
        "from imblearn.under_sampling import NearMiss\n",
        "\n",
        "nm = NearMiss()\n",
        "\n",
        "x_nm, y_nm = nm.fit_resample(X_train, y_train)\n",
        "\n",
        "print('Original dataset shape:', y_train.value_counts())\n",
        "print('Resample dataset shape:', y_nm.value_counts())"
      ],
      "metadata": {
        "colab": {
          "base_uri": "https://localhost:8080/"
        },
        "id": "zp0_XohFczdN",
        "outputId": "76e8aa26-11a8-497b-fb24-4b91d3e1cf3d"
      },
      "execution_count": 122,
      "outputs": [
        {
          "output_type": "stream",
          "name": "stdout",
          "text": [
            "Original dataset shape: 0    6110\n",
            "1      91\n",
            "Name: food would run out, dtype: int64\n",
            "Resample dataset shape: 0    91\n",
            "1    91\n",
            "Name: food would run out, dtype: int64\n"
          ]
        }
      ]
    },
    {
      "cell_type": "code",
      "source": [
        "do_grid(x_nm, y_nm, 'f1')"
      ],
      "metadata": {
        "id": "lA22E28ZdhiP"
      },
      "execution_count": null,
      "outputs": []
    },
    {
      "cell_type": "code",
      "source": [
        "dt(x_nm, y_nm, X_test, y_test, weights={0: 10, 1: 1},max_depth=30, min_samples_leaf=1)"
      ],
      "metadata": {
        "colab": {
          "base_uri": "https://localhost:8080/",
          "height": 640
        },
        "id": "LGAyr-TDe58V",
        "outputId": "a8000cde-6912-41e7-c76a-28ac56bd37be"
      },
      "execution_count": 127,
      "outputs": [
        {
          "output_type": "stream",
          "name": "stdout",
          "text": [
            "0.8956043956043956\n",
            "0.09455864570737606\n",
            "              precision    recall  f1-score   support\n",
            "\n",
            "           0       0.98      0.08      0.15      4074\n",
            "           1       0.01      0.90      0.03        61\n",
            "\n",
            "    accuracy                           0.09      4135\n",
            "   macro avg       0.50      0.49      0.09      4135\n",
            "weighted avg       0.97      0.09      0.15      4135\n",
            "\n"
          ]
        },
        {
          "output_type": "display_data",
          "data": {
            "text/plain": [
              "<Figure size 640x480 with 2 Axes>"
            ],
            "image/png": "[encoded data removed]"
          },
          "metadata": {}
        }
      ]
    }
  ]
}