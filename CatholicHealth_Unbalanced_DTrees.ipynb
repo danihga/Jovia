{
  "cells": [
    {
      "cell_type": "markdown",
      "metadata": {
        "id": "view-in-github",
        "colab_type": "text"
      },
      "source": [
        "<a href=\"https://colab.research.google.com/github/danihga/Jovia/blob/main/CatholicHealth_Unbalanced_DTrees.ipynb\" target=\"_parent\"><img src=\"https://colab.research.google.com/assets/colab-badge.svg\" alt=\"Open In Colab\"/></a>"
      ]
    },
    {
      "cell_type": "markdown",
      "metadata": {
        "id": "e6NnitXmb0pN"
      },
      "source": [
        "[Dealing with Unbalanced Classes](https://www.analyticsvidhya.com/blog/2020/07/10-techniques-to-deal-with-class-imbalance-in-machine-learning/)"
      ]
    },
    {
      "cell_type": "markdown",
      "metadata": {
        "id": "ET7UL12Jb9iH"
      },
      "source": [
        "Tomek links are pairs of very close instances but of opposite classes. Removing the instances of the majority class of each pair increases the space between the two classes, facilitating the classification process."
      ]
    },
    {
      "cell_type": "code",
      "execution_count": null,
      "metadata": {
        "id": "jpAl_YEOQXjE"
      },
      "outputs": [],
      "source": [
        "import numpy as np\n",
        "import pandas as pd\n",
        "from sklearn.preprocessing import OneHotEncoder\n",
        "import matplotlib.pyplot as plt\n",
        "import seaborn as sns\n",
        "import os\n",
        "from sklearn.tree import DecisionTreeClassifier\n",
        "from sklearn import tree\n",
        "from sklearn.metrics import accuracy_score\n",
        "from sklearn.metrics import classification_report, confusion_matrix, ConfusionMatrixDisplay\n"
      ]
    },
    {
      "cell_type": "markdown",
      "metadata": {
        "id": "1yq_aLJCfWIR"
      },
      "source": [
        "# Data Preprocessing\n",
        "Data Split, Train-test Split, etc..."
      ]
    },
    {
      "cell_type": "code",
      "execution_count": null,
      "metadata": {
        "id": "JwFf4MzlRIiV"
      },
      "outputs": [],
      "source": [
        "#Import Data\n",
        "\n",
        "data = pd.read_excel(r'/content/DeidentifiedSDOHPatientData-v1.xlsx')\n",
        "\n",
        "data.sample(6)\n",
        "\n",
        "data.columns = ['id', 'age', 'race', 'ethnicity', 'gender',\n",
        "       'food would run out',\n",
        "       'Food didn’t last and no money for more',\n",
        "       'Lack transportation kept from medical appointments or medications?',\n",
        "       'Lack transportation kept from meetings, work, or things needed for daily living?',\n",
        "       'Not able to pay the mortgage or rent on time?',\n",
        "       'Not have a steady place to sleep or slept in a shelter?',\n",
        "       'Electric, gas, oil, or water company threatened to shut off services?',\n",
        "       'Fearful of physical/emotional abuse from relative?']\n",
        "\n",
        "# Only get the first three columns - predictor, and only question column - label\n",
        "data = data[['age', 'race', 'ethnicity', 'gender',\n",
        "       'food would run out']]\n",
        "\n",
        "# Drop NAs\n",
        "\n",
        "#data = data.dropna()"
      ]
    },
    {
      "cell_type": "markdown",
      "metadata": {
        "id": "XlJYqDxdE2J8"
      },
      "source": [
        "**Targe - Feature Split**"
      ]
    },
    {
      "cell_type": "code",
      "execution_count": null,
      "metadata": {
        "id": "6M2uvNvEFNLe"
      },
      "outputs": [],
      "source": [
        "# Drop Patient declined, Patient unable to answer\n",
        "target_rows     = (data['food would run out']=='Patient declined')| (data['food would run out']=='Patient unable to answer') | (data['food would run out'].isnull())\n",
        "\n",
        "future_predict  = data[target_rows]\n",
        "\n",
        "future_predict.drop(columns = ['food would run out'])\n",
        "\n",
        "tree_data       = data[~target_rows]"
      ]
    },
    {
      "cell_type": "code",
      "execution_count": null,
      "metadata": {
        "id": "LLFfdy2keOXK"
      },
      "outputs": [],
      "source": [
        "X = tree_data.drop(columns = 'food would run out')\n",
        "y = tree_data['food would run out']"
      ]
    },
    {
      "cell_type": "markdown",
      "metadata": {
        "id": "71rw5FmZZ1MX"
      },
      "source": [
        "**Label Encoding**\n",
        "\n",
        "\n",
        "```\n",
        "{'Never True':0, 'Sometimes True':1, 'Often True':1}\n",
        "```\n",
        "\n"
      ]
    },
    {
      "cell_type": "code",
      "execution_count": null,
      "metadata": {
        "id": "77w7Dx41W5Fr"
      },
      "outputs": [],
      "source": [
        "mapping = {'Never True':0,\n",
        "       'Sometimes True':1, 'Often True':1}\n",
        "\n",
        "reverse_mapping = {0:'Patient unable to answer', 1:'Patient declined', 2:'Never True',3:'Sometimes True', 4:'Often True'}\n",
        "\n",
        "y = y.map(mapping)"
      ]
    },
    {
      "cell_type": "code",
      "execution_count": null,
      "metadata": {
        "id": "PSKqexwQic-i"
      },
      "outputs": [],
      "source": [
        "from sklearn.preprocessing import StandardScaler\n",
        "\n",
        "categorical_columns = X[['race', 'ethnicity']]\n",
        "\n",
        "# One-hot encoding for the categorical columns\n",
        "encoder = OneHotEncoder(sparse_output = False)\n",
        "categorical_encoded = encoder.fit_transform(categorical_columns)\n",
        "\n",
        "col_one_hot = list(encoder.get_feature_names_out())\n",
        "# Convert the one-hot encoded array into a DataFrame with the created column names\n",
        "one_hot_df = pd.DataFrame(categorical_encoded, columns=col_one_hot)\n",
        "\n",
        "scaled_age = (X['age']-X['age'].mean())/X['age'].std()\n",
        "\n",
        "one_hot_df['age'] =list(scaled_age)\n",
        "X = one_hot_df.copy()"
      ]
    },
    {
      "cell_type": "code",
      "execution_count": null,
      "metadata": {
        "id": "haiWPH5zaMvw"
      },
      "outputs": [],
      "source": [
        "from sklearn.model_selection import train_test_split\n",
        "\n",
        "# Data Split\n",
        "X_train, X_test, y_train, y_test = train_test_split(X, y, test_size = 0.4, random_state = 0, stratify=y)"
      ]
    },
    {
      "cell_type": "markdown",
      "metadata": {
        "id": "CImvwJBAfhU4"
      },
      "source": [
        "# Functions"
      ]
    },
    {
      "cell_type": "code",
      "execution_count": null,
      "metadata": {
        "id": "-gh7DXTpH-1p"
      },
      "outputs": [],
      "source": [
        "from sklearn.model_selection import GridSearchCV\n",
        "from sklearn.model_selection import RepeatedStratifiedKFold\n",
        "import sklearn\n",
        "# define model\n",
        "def do_grid(X_train, y_train, metric):\n",
        "  model = DecisionTreeClassifier()\n",
        "\n",
        "  # define grid\n",
        "  param_grid = {\n",
        "      'class_weight': [None, 'balanced',{0:100,1:1}, {0:10,1:1}, {0:1,1:1}, {0:1,1:10}, {0:1,1:100}],\n",
        "      'max_depth': [None, 3, 6, 10, 20, 30],\n",
        "      #'min_samples_split': [2, 5, 10],\n",
        "      'min_samples_leaf': [1, 2, 4]\n",
        "  }\n",
        "\n",
        "  # define evaluation procedure\n",
        "  cv = RepeatedStratifiedKFold(n_splits=10, n_repeats=3, random_state=1)\n",
        "\n",
        "  # define grid search\n",
        "  grid = GridSearchCV(estimator=model, param_grid=param_grid, n_jobs=-1, cv=cv, scoring=metric)\n",
        "\n",
        "  # execute the grid search\n",
        "  grid_result = grid.fit(X_train, y_train)\n",
        "\n",
        "  # report the best configuration\n",
        "  print(\"Best: %f using %s\" % (grid_result.best_score_, grid_result.best_params_))\n",
        "\n",
        "  # report all configurations\n",
        "  '''\n",
        "  means = grid_result.cv_results_['mean_test_score']\n",
        "  stds = grid_result.cv_results_['std_test_score']\n",
        "  params = grid_result.cv_results_['params']\n",
        "  for mean, stdev, param in zip(means, stds, params):\n",
        "      print(\"%f (%f) with: %r\" % (mean, stdev, param))'''"
      ]
    },
    {
      "cell_type": "code",
      "execution_count": null,
      "metadata": {
        "colab": {
          "base_uri": "https://localhost:8080/"
        },
        "id": "DsNjuaezVmCe",
        "outputId": "e262cdc9-7034-429c-e931-270ded84ab17"
      },
      "outputs": [
        {
          "output_type": "execute_result",
          "data": {
            "text/plain": [
              "['accuracy',\n",
              " 'adjusted_mutual_info_score',\n",
              " 'adjusted_rand_score',\n",
              " 'average_precision',\n",
              " 'balanced_accuracy',\n",
              " 'completeness_score',\n",
              " 'explained_variance',\n",
              " 'f1',\n",
              " 'f1_macro',\n",
              " 'f1_micro',\n",
              " 'f1_samples',\n",
              " 'f1_weighted',\n",
              " 'fowlkes_mallows_score',\n",
              " 'homogeneity_score',\n",
              " 'jaccard',\n",
              " 'jaccard_macro',\n",
              " 'jaccard_micro',\n",
              " 'jaccard_samples',\n",
              " 'jaccard_weighted',\n",
              " 'matthews_corrcoef',\n",
              " 'max_error',\n",
              " 'mutual_info_score',\n",
              " 'neg_brier_score',\n",
              " 'neg_log_loss',\n",
              " 'neg_mean_absolute_error',\n",
              " 'neg_mean_absolute_percentage_error',\n",
              " 'neg_mean_gamma_deviance',\n",
              " 'neg_mean_poisson_deviance',\n",
              " 'neg_mean_squared_error',\n",
              " 'neg_mean_squared_log_error',\n",
              " 'neg_median_absolute_error',\n",
              " 'neg_negative_likelihood_ratio',\n",
              " 'neg_root_mean_squared_error',\n",
              " 'normalized_mutual_info_score',\n",
              " 'positive_likelihood_ratio',\n",
              " 'precision',\n",
              " 'precision_macro',\n",
              " 'precision_micro',\n",
              " 'precision_samples',\n",
              " 'precision_weighted',\n",
              " 'r2',\n",
              " 'rand_score',\n",
              " 'recall',\n",
              " 'recall_macro',\n",
              " 'recall_micro',\n",
              " 'recall_samples',\n",
              " 'recall_weighted',\n",
              " 'roc_auc',\n",
              " 'roc_auc_ovo',\n",
              " 'roc_auc_ovo_weighted',\n",
              " 'roc_auc_ovr',\n",
              " 'roc_auc_ovr_weighted',\n",
              " 'top_k_accuracy',\n",
              " 'v_measure_score']"
            ]
          },
          "metadata": {},
          "execution_count": 140
        }
      ],
      "source": [
        "sklearn.metrics.get_scorer_names()"
      ]
    },
    {
      "cell_type": "code",
      "execution_count": null,
      "metadata": {
        "id": "fDFlOG9_eBpQ"
      },
      "outputs": [],
      "source": [
        "from sklearn.metrics import classification_report, confusion_matrix, ConfusionMatrixDisplay\n",
        "def dt(X_train, y_train, X_test, y_test, weights={0: 100, 1: 1},max_depth=3, min_samples_leaf=4):\n",
        "  model1 = DecisionTreeClassifier(class_weight=weights,\n",
        "                                  max_depth=max_depth,\n",
        "                                  min_samples_leaf=min_samples_leaf\n",
        "                                  #min_samples_split=2\n",
        "                                  ).fit(X_train,y_train)\n",
        "  #'class_weight': {0: 100, 1: 1}, 'max_depth': None, 'min_samples_leaf': 4\n",
        "  # Make predictions on the testing data\n",
        "  y_train_pred = model1.predict(X_train)\n",
        "  y_test_pred = model1.predict(X_test)\n",
        "\n",
        "  print(accuracy_score(y_train, y_train_pred))\n",
        "  print(accuracy_score(y_test, y_test_pred))\n",
        "  print(classification_report(y_test, y_test_pred))\n",
        "  cm = confusion_matrix(y_test, y_test_pred)\n",
        "  dist= ConfusionMatrixDisplay(cm, display_labels=model1.classes_)\n",
        "  dist.plot()"
      ]
    },
    {
      "cell_type": "markdown",
      "metadata": {
        "id": "q-OUhU5Afn_K"
      },
      "source": [
        "# Try Different Sampling Techniques"
      ]
    },
    {
      "cell_type": "markdown",
      "metadata": {
        "id": "L2j3vG6IWiit"
      },
      "source": [
        "**Smote**"
      ]
    },
    {
      "cell_type": "code",
      "execution_count": null,
      "metadata": {
        "id": "2JZuQj6O4ob-"
      },
      "outputs": [],
      "source": [
        "from imblearn.over_sampling import SMOTE\n",
        "oversample = SMOTE()\n",
        "X_smt_train, y_smt_train = oversample.fit_resample(X_train, y_train)"
      ]
    },
    {
      "cell_type": "code",
      "execution_count": null,
      "metadata": {
        "id": "Ay3HoXiHgxc_"
      },
      "outputs": [],
      "source": [
        "from sklearn.metrics import make_scorer\n",
        "from sklearn.metrics import make_scorer, precision_score, recall_score\n",
        "\n",
        "def custom_scorer(y_true, y_pred):\n",
        "    recall_label_0 = recall_score(y_true, y_pred, pos_label=0)\n",
        "    recall_label_1 = recall_score(y_true, y_pred, pos_label=1)\n",
        "    weighted_recall = 0.8 * recall_label_1 + 0.2 * recall_label_0  # Weighted average with more weight on label 1\n",
        "    return weighted_recall\n",
        "scorer = make_scorer(custom_scorer)"
      ]
    },
    {
      "cell_type": "code",
      "execution_count": null,
      "metadata": {
        "colab": {
          "background_save": true
        },
        "id": "MCJQzngmVj8O",
        "outputId": "00bfd223-5d1f-4677-a04c-47dd3edfb9ff"
      },
      "outputs": [
        {
          "name": "stdout",
          "output_type": "stream",
          "text": [
            "Best: 0.952319 using {'class_weight': {0: 1, 1: 10}, 'max_depth': None, 'min_samples_leaf': 2}\n"
          ]
        }
      ],
      "source": [
        "do_grid(X_smt_train, y_smt_train, scorer)"
      ]
    },
    {
      "cell_type": "code",
      "execution_count": null,
      "metadata": {
        "colab": {
          "base_uri": "https://localhost:8080/",
          "height": 645
        },
        "id": "ud0TnH60SIco",
        "outputId": "5be729db-a8f5-4943-ed3b-63e20c0f9fa4"
      },
      "outputs": [
        {
          "name": "stdout",
          "output_type": "stream",
          "text": [
            "0.5175122749590835\n",
            "0.05054413542926239\n",
            "              precision    recall  f1-score   support\n",
            "\n",
            "           0       0.99      0.04      0.07      4074\n",
            "           1       0.02      0.98      0.03        61\n",
            "\n",
            "    accuracy                           0.05      4135\n",
            "   macro avg       0.50      0.51      0.05      4135\n",
            "weighted avg       0.98      0.05      0.07      4135\n",
            "\n"
          ]
        },
        {
          "data": {
            "image/png": "[encoded data removed]",
            "text/plain": [
              "<Figure size 640x480 with 2 Axes>"
            ]
          },
          "metadata": {},
          "output_type": "display_data"
        }
      ],
      "source": [
        "from sklearn.metrics import classification_report, confusion_matrix, ConfusionMatrixDisplay\n",
        "\n",
        "dt(X_smt_train, y_smt_train, X_test, y_test, weights={0: 1, 1: 100},max_depth=3, min_samples_leaf=1)"
      ]
    },
    {
      "cell_type": "markdown",
      "metadata": {
        "id": "ObBMsO3MYfo7"
      },
      "source": [
        "**Under-Sampling -- imblearn**"
      ]
    },
    {
      "cell_type": "code",
      "execution_count": null,
      "metadata": {
        "id": "emER3_hwYihi"
      },
      "outputs": [],
      "source": [
        "from imblearn.under_sampling import RandomUnderSampler\n",
        "\n",
        "rus = RandomUnderSampler(random_state=42, replacement=True)# fit predictor and target variable\n",
        "x_rus, y_rus = rus.fit_resample(X_train, y_train)"
      ]
    },
    {
      "cell_type": "code",
      "execution_count": null,
      "metadata": {
        "id": "QJWK8Z1eXF_U"
      },
      "outputs": [],
      "source": [
        "do_grid(x_rus, y_rus, 'f1')"
      ]
    },
    {
      "cell_type": "code",
      "execution_count": null,
      "metadata": {
        "id": "9BmcbhD4ZtFE"
      },
      "outputs": [],
      "source": [
        "dt(x_rus, y_rus, X_test, y_test,\n",
        "   weights={0: 1, 1: 10},\n",
        "   max_depth=3,\n",
        "   min_samples_leaf=1)"
      ]
    },
    {
      "cell_type": "code",
      "execution_count": null,
      "metadata": {
        "id": "xm3T-5A_Xtkj"
      },
      "outputs": [],
      "source": [
        "y_rus.value_counts()"
      ]
    },
    {
      "cell_type": "markdown",
      "metadata": {
        "id": "1PDj8399fz5U"
      },
      "source": [
        "**Nearmiss under-sampling**"
      ]
    },
    {
      "cell_type": "code",
      "execution_count": null,
      "metadata": {
        "id": "zp0_XohFczdN"
      },
      "outputs": [],
      "source": [
        "from imblearn.under_sampling import NearMiss\n",
        "\n",
        "nm = NearMiss()\n",
        "\n",
        "x_nm, y_nm = nm.fit_resample(X_train, y_train)\n",
        "\n",
        "print('Original dataset shape:', y_train.value_counts())\n",
        "print('Resample dataset shape:', y_nm.value_counts())"
      ]
    },
    {
      "cell_type": "code",
      "execution_count": null,
      "metadata": {
        "id": "lA22E28ZdhiP"
      },
      "outputs": [],
      "source": [
        "do_grid(x_nm, y_nm, 'f1')"
      ]
    },
    {
      "cell_type": "code",
      "execution_count": null,
      "metadata": {
        "id": "LGAyr-TDe58V"
      },
      "outputs": [],
      "source": [
        "dt(x_nm, y_nm, X_test, y_test, weights='balanced',max_depth=310, min_samples_leaf=2)"
      ]
    }
  ],
  "metadata": {
    "colab": {
      "provenance": [],
      "authorship_tag": "ABX9TyPFw74S5faoLkjmIA0sbJtr",
      "include_colab_link": true
    },
    "kernelspec": {
      "display_name": "Python 3",
      "name": "python3"
    },
    "language_info": {
      "name": "python"
    }
  },
  "nbformat": 4,
  "nbformat_minor": 0
}