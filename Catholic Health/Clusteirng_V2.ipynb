{
  "nbformat": 4,
  "nbformat_minor": 0,
  "metadata": {
    "colab": {
      "provenance": [],
      "authorship_tag": "ABX9TyPM6zGZb083OOtiCuA9Gket",
      "include_colab_link": true
    },
    "kernelspec": {
      "name": "python3",
      "display_name": "Python 3"
    },
    "language_info": {
      "name": "python"
    }
  },
  "cells": [
    {
      "cell_type": "markdown",
      "metadata": {
        "id": "view-in-github",
        "colab_type": "text"
      },
      "source": [
        "<a href=\"https://colab.research.google.com/github/danihga/Jovia/blob/main/Clusteirng_V2.ipynb\" target=\"_parent\"><img src=\"https://colab.research.google.com/assets/colab-badge.svg\" alt=\"Open In Colab\"/></a>"
      ]
    },
    {
      "cell_type": "markdown",
      "source": [
        "# Explore the association between the questions answered"
      ],
      "metadata": {
        "id": "vzgVHzm4-CWA"
      }
    },
    {
      "cell_type": "code",
      "execution_count": null,
      "metadata": {
        "id": "jpAl_YEOQXjE"
      },
      "outputs": [],
      "source": [
        "import numpy as np\n",
        "import pandas as pd\n",
        "from sklearn.preprocessing import OneHotEncoder\n",
        "import matplotlib.pyplot as plt\n",
        "import seaborn as sns\n",
        "import os\n",
        "from sklearn.tree import DecisionTreeClassifier\n",
        "from sklearn import tree\n",
        "from sklearn.metrics import accuracy_score"
      ]
    },
    {
      "cell_type": "code",
      "source": [
        "#Import Data\n",
        "\n",
        "data = pd.read_excel(r'/content/DeidentifiedSDOHPatientData-v1.xlsx')\n",
        "\n",
        "data.sample(6)\n",
        "\n",
        "data.columns = ['id', 'age', 'race', 'ethnicity', 'gender',\n",
        "       'food would run out',\n",
        "       'Food didn’t last and no money for more',\n",
        "       'Lack transportation kept from medical appointments or medications?',\n",
        "       'Lack transportation kept from meetings, work, or things needed for daily living?',\n",
        "       'Not able to pay the mortgage or rent on time?',\n",
        "       'Not have a steady place to sleep or slept in a shelter?',\n",
        "       'Electric, gas, oil, or water company threatened to shut off services?',\n",
        "       'Fearful of physical/emotional abuse from relative?']\n",
        "\n",
        "# Drop id, age, race, ethnicity, gender\n",
        "data.drop(columns = ['id', 'age', 'race', 'ethnicity', 'gender'], inplace = True)\n",
        "\n",
        "data.sample(6)"
      ],
      "metadata": {
        "colab": {
          "base_uri": "https://localhost:8080/",
          "height": 428
        },
        "id": "JwFf4MzlRIiV",
        "outputId": "bf939f03-bb87-4fdb-a4cb-e672c475655a"
      },
      "execution_count": null,
      "outputs": [
        {
          "output_type": "execute_result",
          "data": {
            "text/plain": [
              "      food would run out Food didn’t last and no money for more  \\\n",
              "6026                 NaN                                    NaN   \n",
              "13604         Never True                             Never True   \n",
              "15684         Never True                             Never True   \n",
              "12059         Never True                             Never True   \n",
              "6826          Never True                             Never True   \n",
              "14216         Never True                             Never True   \n",
              "\n",
              "      Lack transportation kept from medical appointments or medications?  \\\n",
              "6026                                                 NaN                   \n",
              "13604                                                NaN                   \n",
              "15684                                                 No                   \n",
              "12059                                                 No                   \n",
              "6826                                                  No                   \n",
              "14216                                                 No                   \n",
              "\n",
              "      Lack transportation kept from meetings, work, or things needed for daily living?  \\\n",
              "6026                                                 NaN                                 \n",
              "13604                                                NaN                                 \n",
              "15684                                                 No                                 \n",
              "12059                                                 No                                 \n",
              "6826                                                  No                                 \n",
              "14216                                                 No                                 \n",
              "\n",
              "      Not able to pay the mortgage or rent on time?  \\\n",
              "6026                                            NaN   \n",
              "13604                                           NaN   \n",
              "15684                                            No   \n",
              "12059                                            No   \n",
              "6826                                             No   \n",
              "14216                                            No   \n",
              "\n",
              "      Not have a steady place to sleep or slept in a shelter?  \\\n",
              "6026                                                 NaN        \n",
              "13604                                                NaN        \n",
              "15684                                                 No        \n",
              "12059                                                 No        \n",
              "6826                                                  No        \n",
              "14216                                                 No        \n",
              "\n",
              "      Electric, gas, oil, or water company threatened to shut off services?  \\\n",
              "6026                                                 NaN                      \n",
              "13604                                                NaN                      \n",
              "15684                                                 No                      \n",
              "12059                                                 No                      \n",
              "6826                                                  No                      \n",
              "14216                                                 No                      \n",
              "\n",
              "      Fearful of physical/emotional abuse from relative?  \n",
              "6026                                                 NaN  \n",
              "13604                                                NaN  \n",
              "15684                                                NaN  \n",
              "12059                                                 No  \n",
              "6826                                                  No  \n",
              "14216                                                NaN  "
            ],
            "text/html": [
              "\n",
              "  <div id=\"df-38a2f450-6998-4b4f-a4f1-dde2360556c9\" class=\"colab-df-container\">\n",
              "    <div>\n",
              "<style scoped>\n",
              "    .dataframe tbody tr th:only-of-type {\n",
              "        vertical-align: middle;\n",
              "    }\n",
              "\n",
              "    .dataframe tbody tr th {\n",
              "        vertical-align: top;\n",
              "    }\n",
              "\n",
              "    .dataframe thead th {\n",
              "        text-align: right;\n",
              "    }\n",
              "</style>\n",
              "<table border=\"1\" class=\"dataframe\">\n",
              "  <thead>\n",
              "    <tr style=\"text-align: right;\">\n",
              "      <th></th>\n",
              "      <th>food would run out</th>\n",
              "      <th>Food didn’t last and no money for more</th>\n",
              "      <th>Lack transportation kept from medical appointments or medications?</th>\n",
              "      <th>Lack transportation kept from meetings, work, or things needed for daily living?</th>\n",
              "      <th>Not able to pay the mortgage or rent on time?</th>\n",
              "      <th>Not have a steady place to sleep or slept in a shelter?</th>\n",
              "      <th>Electric, gas, oil, or water company threatened to shut off services?</th>\n",
              "      <th>Fearful of physical/emotional abuse from relative?</th>\n",
              "    </tr>\n",
              "  </thead>\n",
              "  <tbody>\n",
              "    <tr>\n",
              "      <th>6026</th>\n",
              "      <td>NaN</td>\n",
              "      <td>NaN</td>\n",
              "      <td>NaN</td>\n",
              "      <td>NaN</td>\n",
              "      <td>NaN</td>\n",
              "      <td>NaN</td>\n",
              "      <td>NaN</td>\n",
              "      <td>NaN</td>\n",
              "    </tr>\n",
              "    <tr>\n",
              "      <th>13604</th>\n",
              "      <td>Never True</td>\n",
              "      <td>Never True</td>\n",
              "      <td>NaN</td>\n",
              "      <td>NaN</td>\n",
              "      <td>NaN</td>\n",
              "      <td>NaN</td>\n",
              "      <td>NaN</td>\n",
              "      <td>NaN</td>\n",
              "    </tr>\n",
              "    <tr>\n",
              "      <th>15684</th>\n",
              "      <td>Never True</td>\n",
              "      <td>Never True</td>\n",
              "      <td>No</td>\n",
              "      <td>No</td>\n",
              "      <td>No</td>\n",
              "      <td>No</td>\n",
              "      <td>No</td>\n",
              "      <td>NaN</td>\n",
              "    </tr>\n",
              "    <tr>\n",
              "      <th>12059</th>\n",
              "      <td>Never True</td>\n",
              "      <td>Never True</td>\n",
              "      <td>No</td>\n",
              "      <td>No</td>\n",
              "      <td>No</td>\n",
              "      <td>No</td>\n",
              "      <td>No</td>\n",
              "      <td>No</td>\n",
              "    </tr>\n",
              "    <tr>\n",
              "      <th>6826</th>\n",
              "      <td>Never True</td>\n",
              "      <td>Never True</td>\n",
              "      <td>No</td>\n",
              "      <td>No</td>\n",
              "      <td>No</td>\n",
              "      <td>No</td>\n",
              "      <td>No</td>\n",
              "      <td>No</td>\n",
              "    </tr>\n",
              "    <tr>\n",
              "      <th>14216</th>\n",
              "      <td>Never True</td>\n",
              "      <td>Never True</td>\n",
              "      <td>No</td>\n",
              "      <td>No</td>\n",
              "      <td>No</td>\n",
              "      <td>No</td>\n",
              "      <td>No</td>\n",
              "      <td>NaN</td>\n",
              "    </tr>\n",
              "  </tbody>\n",
              "</table>\n",
              "</div>\n",
              "    <div class=\"colab-df-buttons\">\n",
              "\n",
              "  <div class=\"colab-df-container\">\n",
              "    <button class=\"colab-df-convert\" onclick=\"convertToInteractive('df-38a2f450-6998-4b4f-a4f1-dde2360556c9')\"\n",
              "            title=\"Convert this dataframe to an interactive table.\"\n",
              "            style=\"display:none;\">\n",
              "\n",
              "  <svg xmlns=\"http://www.w3.org/2000/svg\" height=\"24px\" viewBox=\"0 -960 960 960\">\n",
              "    <path d=\"M120-120v-720h720v720H120Zm60-500h600v-160H180v160Zm220 220h160v-160H400v160Zm0 220h160v-160H400v160ZM180-400h160v-160H180v160Zm440 0h160v-160H620v160ZM180-180h160v-160H180v160Zm440 0h160v-160H620v160Z\"/>\n",
              "  </svg>\n",
              "    </button>\n",
              "\n",
              "  <style>\n",
              "    .colab-df-container {\n",
              "      display:flex;\n",
              "      gap: 12px;\n",
              "    }\n",
              "\n",
              "    .colab-df-convert {\n",
              "      background-color: #E8F0FE;\n",
              "      border: none;\n",
              "      border-radius: 50%;\n",
              "      cursor: pointer;\n",
              "      display: none;\n",
              "      fill: #1967D2;\n",
              "      height: 32px;\n",
              "      padding: 0 0 0 0;\n",
              "      width: 32px;\n",
              "    }\n",
              "\n",
              "    .colab-df-convert:hover {\n",
              "      background-color: #E2EBFA;\n",
              "      box-shadow: 0px 1px 2px rgba(60, 64, 67, 0.3), 0px 1px 3px 1px rgba(60, 64, 67, 0.15);\n",
              "      fill: #174EA6;\n",
              "    }\n",
              "\n",
              "    .colab-df-buttons div {\n",
              "      margin-bottom: 4px;\n",
              "    }\n",
              "\n",
              "    [theme=dark] .colab-df-convert {\n",
              "      background-color: #3B4455;\n",
              "      fill: #D2E3FC;\n",
              "    }\n",
              "\n",
              "    [theme=dark] .colab-df-convert:hover {\n",
              "      background-color: #434B5C;\n",
              "      box-shadow: 0px 1px 3px 1px rgba(0, 0, 0, 0.15);\n",
              "      filter: drop-shadow(0px 1px 2px rgba(0, 0, 0, 0.3));\n",
              "      fill: #FFFFFF;\n",
              "    }\n",
              "  </style>\n",
              "\n",
              "    <script>\n",
              "      const buttonEl =\n",
              "        document.querySelector('#df-38a2f450-6998-4b4f-a4f1-dde2360556c9 button.colab-df-convert');\n",
              "      buttonEl.style.display =\n",
              "        google.colab.kernel.accessAllowed ? 'block' : 'none';\n",
              "\n",
              "      async function convertToInteractive(key) {\n",
              "        const element = document.querySelector('#df-38a2f450-6998-4b4f-a4f1-dde2360556c9');\n",
              "        const dataTable =\n",
              "          await google.colab.kernel.invokeFunction('convertToInteractive',\n",
              "                                                    [key], {});\n",
              "        if (!dataTable) return;\n",
              "\n",
              "        const docLinkHtml = 'Like what you see? Visit the ' +\n",
              "          '<a target=\"_blank\" href=https://colab.research.google.com/notebooks/data_table.ipynb>data table notebook</a>'\n",
              "          + ' to learn more about interactive tables.';\n",
              "        element.innerHTML = '';\n",
              "        dataTable['output_type'] = 'display_data';\n",
              "        await google.colab.output.renderOutput(dataTable, element);\n",
              "        const docLink = document.createElement('div');\n",
              "        docLink.innerHTML = docLinkHtml;\n",
              "        element.appendChild(docLink);\n",
              "      }\n",
              "    </script>\n",
              "  </div>\n",
              "\n",
              "\n",
              "<div id=\"df-4973a5a3-8ecb-4d86-8163-93242365c7f8\">\n",
              "  <button class=\"colab-df-quickchart\" onclick=\"quickchart('df-4973a5a3-8ecb-4d86-8163-93242365c7f8')\"\n",
              "            title=\"Suggest charts\"\n",
              "            style=\"display:none;\">\n",
              "\n",
              "<svg xmlns=\"http://www.w3.org/2000/svg\" height=\"24px\"viewBox=\"0 0 24 24\"\n",
              "     width=\"24px\">\n",
              "    <g>\n",
              "        <path d=\"M19 3H5c-1.1 0-2 .9-2 2v14c0 1.1.9 2 2 2h14c1.1 0 2-.9 2-2V5c0-1.1-.9-2-2-2zM9 17H7v-7h2v7zm4 0h-2V7h2v10zm4 0h-2v-4h2v4z\"/>\n",
              "    </g>\n",
              "</svg>\n",
              "  </button>\n",
              "\n",
              "<style>\n",
              "  .colab-df-quickchart {\n",
              "      --bg-color: #E8F0FE;\n",
              "      --fill-color: #1967D2;\n",
              "      --hover-bg-color: #E2EBFA;\n",
              "      --hover-fill-color: #174EA6;\n",
              "      --disabled-fill-color: #AAA;\n",
              "      --disabled-bg-color: #DDD;\n",
              "  }\n",
              "\n",
              "  [theme=dark] .colab-df-quickchart {\n",
              "      --bg-color: #3B4455;\n",
              "      --fill-color: #D2E3FC;\n",
              "      --hover-bg-color: #434B5C;\n",
              "      --hover-fill-color: #FFFFFF;\n",
              "      --disabled-bg-color: #3B4455;\n",
              "      --disabled-fill-color: #666;\n",
              "  }\n",
              "\n",
              "  .colab-df-quickchart {\n",
              "    background-color: var(--bg-color);\n",
              "    border: none;\n",
              "    border-radius: 50%;\n",
              "    cursor: pointer;\n",
              "    display: none;\n",
              "    fill: var(--fill-color);\n",
              "    height: 32px;\n",
              "    padding: 0;\n",
              "    width: 32px;\n",
              "  }\n",
              "\n",
              "  .colab-df-quickchart:hover {\n",
              "    background-color: var(--hover-bg-color);\n",
              "    box-shadow: 0 1px 2px rgba(60, 64, 67, 0.3), 0 1px 3px 1px rgba(60, 64, 67, 0.15);\n",
              "    fill: var(--button-hover-fill-color);\n",
              "  }\n",
              "\n",
              "  .colab-df-quickchart-complete:disabled,\n",
              "  .colab-df-quickchart-complete:disabled:hover {\n",
              "    background-color: var(--disabled-bg-color);\n",
              "    fill: var(--disabled-fill-color);\n",
              "    box-shadow: none;\n",
              "  }\n",
              "\n",
              "  .colab-df-spinner {\n",
              "    border: 2px solid var(--fill-color);\n",
              "    border-color: transparent;\n",
              "    border-bottom-color: var(--fill-color);\n",
              "    animation:\n",
              "      spin 1s steps(1) infinite;\n",
              "  }\n",
              "\n",
              "  @keyframes spin {\n",
              "    0% {\n",
              "      border-color: transparent;\n",
              "      border-bottom-color: var(--fill-color);\n",
              "      border-left-color: var(--fill-color);\n",
              "    }\n",
              "    20% {\n",
              "      border-color: transparent;\n",
              "      border-left-color: var(--fill-color);\n",
              "      border-top-color: var(--fill-color);\n",
              "    }\n",
              "    30% {\n",
              "      border-color: transparent;\n",
              "      border-left-color: var(--fill-color);\n",
              "      border-top-color: var(--fill-color);\n",
              "      border-right-color: var(--fill-color);\n",
              "    }\n",
              "    40% {\n",
              "      border-color: transparent;\n",
              "      border-right-color: var(--fill-color);\n",
              "      border-top-color: var(--fill-color);\n",
              "    }\n",
              "    60% {\n",
              "      border-color: transparent;\n",
              "      border-right-color: var(--fill-color);\n",
              "    }\n",
              "    80% {\n",
              "      border-color: transparent;\n",
              "      border-right-color: var(--fill-color);\n",
              "      border-bottom-color: var(--fill-color);\n",
              "    }\n",
              "    90% {\n",
              "      border-color: transparent;\n",
              "      border-bottom-color: var(--fill-color);\n",
              "    }\n",
              "  }\n",
              "</style>\n",
              "\n",
              "  <script>\n",
              "    async function quickchart(key) {\n",
              "      const quickchartButtonEl =\n",
              "        document.querySelector('#' + key + ' button');\n",
              "      quickchartButtonEl.disabled = true;  // To prevent multiple clicks.\n",
              "      quickchartButtonEl.classList.add('colab-df-spinner');\n",
              "      try {\n",
              "        const charts = await google.colab.kernel.invokeFunction(\n",
              "            'suggestCharts', [key], {});\n",
              "      } catch (error) {\n",
              "        console.error('Error during call to suggestCharts:', error);\n",
              "      }\n",
              "      quickchartButtonEl.classList.remove('colab-df-spinner');\n",
              "      quickchartButtonEl.classList.add('colab-df-quickchart-complete');\n",
              "    }\n",
              "    (() => {\n",
              "      let quickchartButtonEl =\n",
              "        document.querySelector('#df-4973a5a3-8ecb-4d86-8163-93242365c7f8 button');\n",
              "      quickchartButtonEl.style.display =\n",
              "        google.colab.kernel.accessAllowed ? 'block' : 'none';\n",
              "    })();\n",
              "  </script>\n",
              "</div>\n",
              "    </div>\n",
              "  </div>\n"
            ],
            "application/vnd.google.colaboratory.intrinsic+json": {
              "type": "dataframe",
              "summary": "{\n  \"name\": \"data\",\n  \"rows\": 6,\n  \"fields\": [\n    {\n      \"column\": \"food would run out\",\n      \"properties\": {\n        \"dtype\": \"category\",\n        \"num_unique_values\": 1,\n        \"samples\": [\n          \"Never True\"\n        ],\n        \"semantic_type\": \"\",\n        \"description\": \"\"\n      }\n    },\n    {\n      \"column\": \"Food didn\\u2019t last and no money for more\",\n      \"properties\": {\n        \"dtype\": \"category\",\n        \"num_unique_values\": 1,\n        \"samples\": [\n          \"Never True\"\n        ],\n        \"semantic_type\": \"\",\n        \"description\": \"\"\n      }\n    },\n    {\n      \"column\": \"Lack transportation kept from medical appointments or medications?\",\n      \"properties\": {\n        \"dtype\": \"category\",\n        \"num_unique_values\": 1,\n        \"samples\": [\n          \"No\"\n        ],\n        \"semantic_type\": \"\",\n        \"description\": \"\"\n      }\n    },\n    {\n      \"column\": \"Lack transportation kept from meetings, work, or things needed for daily living?\",\n      \"properties\": {\n        \"dtype\": \"category\",\n        \"num_unique_values\": 1,\n        \"samples\": [\n          \"No\"\n        ],\n        \"semantic_type\": \"\",\n        \"description\": \"\"\n      }\n    },\n    {\n      \"column\": \"Not able to pay the mortgage or rent on time?\",\n      \"properties\": {\n        \"dtype\": \"category\",\n        \"num_unique_values\": 1,\n        \"samples\": [\n          \"No\"\n        ],\n        \"semantic_type\": \"\",\n        \"description\": \"\"\n      }\n    },\n    {\n      \"column\": \"Not have a steady place to sleep or slept in a shelter?\",\n      \"properties\": {\n        \"dtype\": \"category\",\n        \"num_unique_values\": 1,\n        \"samples\": [\n          \"No\"\n        ],\n        \"semantic_type\": \"\",\n        \"description\": \"\"\n      }\n    },\n    {\n      \"column\": \"Electric, gas, oil, or water company threatened to shut off services?\",\n      \"properties\": {\n        \"dtype\": \"category\",\n        \"num_unique_values\": 1,\n        \"samples\": [\n          \"No\"\n        ],\n        \"semantic_type\": \"\",\n        \"description\": \"\"\n      }\n    },\n    {\n      \"column\": \"Fearful of physical/emotional abuse from relative?\",\n      \"properties\": {\n        \"dtype\": \"category\",\n        \"num_unique_values\": 1,\n        \"samples\": [\n          \"No\"\n        ],\n        \"semantic_type\": \"\",\n        \"description\": \"\"\n      }\n    }\n  ]\n}"
            }
          },
          "metadata": {},
          "execution_count": 3
        }
      ]
    },
    {
      "cell_type": "code",
      "source": [
        "data.shape"
      ],
      "metadata": {
        "colab": {
          "base_uri": "https://localhost:8080/"
        },
        "id": "RkgaDSBvT2Ej",
        "outputId": "8ea5ea09-4677-4a06-8052-28db0723b748"
      },
      "execution_count": null,
      "outputs": [
        {
          "output_type": "execute_result",
          "data": {
            "text/plain": [
              "(15843, 8)"
            ]
          },
          "metadata": {},
          "execution_count": 18
        }
      ]
    },
    {
      "cell_type": "code",
      "source": [
        "data.isnull().sum()/15843"
      ],
      "metadata": {
        "colab": {
          "base_uri": "https://localhost:8080/"
        },
        "id": "R3hntZ4Y-Zn6",
        "outputId": "94cbbf54-fb09-49b7-d9a6-fad80a9a69b9"
      },
      "execution_count": null,
      "outputs": [
        {
          "output_type": "execute_result",
          "data": {
            "text/plain": [
              "food would run out                                                                  0.296598\n",
              "Food didn’t last and no money for more                                              0.297166\n",
              "Lack transportation kept from medical appointments or medications?                  0.436660\n",
              "Lack transportation kept from meetings, work, or things needed for daily living?    0.437102\n",
              "Not able to pay the mortgage or rent on time?                                       0.457552\n",
              "Not have a steady place to sleep or slept in a shelter?                             0.457931\n",
              "Electric, gas, oil, or water company threatened to shut off services?               0.437796\n",
              "Fearful of physical/emotional abuse from relative?                                  0.734267\n",
              "dtype: float64"
            ]
          },
          "metadata": {},
          "execution_count": 5
        }
      ]
    },
    {
      "cell_type": "markdown",
      "source": [
        "## Label Encoding Approach"
      ],
      "metadata": {
        "id": "aY5lO-YbAvQi"
      }
    },
    {
      "cell_type": "markdown",
      "source": [
        "**Proportions of the answers to the questions and Encode Questions**"
      ],
      "metadata": {
        "id": "g_fQCURbWkH6"
      }
    },
    {
      "cell_type": "code",
      "source": [
        "data['food would run out'].value_counts(normalize=True, dropna=False)#.cumsum()"
      ],
      "metadata": {
        "colab": {
          "base_uri": "https://localhost:8080/"
        },
        "id": "vo9BaKhkVXKd",
        "outputId": "0458ca8b-6814-42b4-a42e-72d90fbc96b1"
      },
      "execution_count": null,
      "outputs": [
        {
          "output_type": "execute_result",
          "data": {
            "text/plain": [
              "Never True                  0.642808\n",
              "NaN                         0.296598\n",
              "Patient declined            0.036609\n",
              "Patient unable to answer    0.014391\n",
              "Sometimes True              0.006691\n",
              "Often True                  0.002903\n",
              "Name: food would run out, dtype: float64"
            ]
          },
          "metadata": {},
          "execution_count": 20
        }
      ]
    },
    {
      "cell_type": "code",
      "source": [
        "data['food would run out'] = data['food would run out'].map({'Never True':1, 'Patient unable to answer':0, 'Patient declined':0,\n",
        "       'Sometimes True':1, 'Often True':2})"
      ],
      "metadata": {
        "id": "L9RrSNvB_xLk"
      },
      "execution_count": null,
      "outputs": []
    },
    {
      "cell_type": "code",
      "source": [
        "data['Food didn’t last and no money for more'].value_counts(normalize=True,dropna=False)#.cumsum()"
      ],
      "metadata": {
        "colab": {
          "base_uri": "https://localhost:8080/"
        },
        "id": "hEN58VrUVnlG",
        "outputId": "115a3775-9b3d-40bc-af01-7b94999cb6ab"
      },
      "execution_count": null,
      "outputs": [
        {
          "output_type": "execute_result",
          "data": {
            "text/plain": [
              "Never True                  0.642871\n",
              "NaN                         0.297166\n",
              "Patient declined            0.036546\n",
              "Patient unable to answer    0.014265\n",
              "Sometimes True              0.006186\n",
              "Often True                  0.002967\n",
              "Name: Food didn’t last and no money for more, dtype: float64"
            ]
          },
          "metadata": {},
          "execution_count": 11
        }
      ]
    },
    {
      "cell_type": "code",
      "source": [
        "data['food would run out'] = data['food would run out'].map({'Never True':1, 'Patient unable to answer':0, 'Patient declined':0,\n",
        "       'Sometimes True':1, 'Often True':2})"
      ],
      "metadata": {
        "id": "1BqzQ3SYA_nR"
      },
      "execution_count": null,
      "outputs": []
    },
    {
      "cell_type": "code",
      "source": [
        "data['Lack transportation kept from medical appointments or medications?'].value_counts(normalize=True,dropna=False)#.cumsum()"
      ],
      "metadata": {
        "colab": {
          "base_uri": "https://localhost:8080/"
        },
        "id": "dHxWH8jCVnpV",
        "outputId": "e83ca83d-4b7a-4c45-9d50-765b071a05ac"
      },
      "execution_count": null,
      "outputs": [
        {
          "output_type": "execute_result",
          "data": {
            "text/plain": [
              "No                          0.500978\n",
              "NaN                         0.436660\n",
              "Patient declined            0.039513\n",
              "Patient unable to answer    0.014139\n",
              "Yes                         0.008710\n",
              "Name: Lack transportation kept from medical appointments or medications?, dtype: float64"
            ]
          },
          "metadata": {},
          "execution_count": 12
        }
      ]
    },
    {
      "cell_type": "code",
      "source": [
        "data['food would run out'] = data['food would run out'].map({'Never True':1, 'Patient unable to answer':0, 'Patient declined':0,\n",
        "       'Sometimes True':1, 'Often True':2})"
      ],
      "metadata": {
        "id": "jlW4EA19BAoB"
      },
      "execution_count": null,
      "outputs": []
    },
    {
      "cell_type": "code",
      "source": [
        "data['Lack transportation kept from meetings, work, or things needed for daily living?'].value_counts(normalize=True,dropna=False)#.cumsum()"
      ],
      "metadata": {
        "colab": {
          "base_uri": "https://localhost:8080/"
        },
        "id": "MdUbNggGVnt8",
        "outputId": "611f81cc-a94c-44c9-8222-a6b65a882a4d"
      },
      "execution_count": null,
      "outputs": [
        {
          "output_type": "execute_result",
          "data": {
            "text/plain": [
              "No                          0.501988\n",
              "NaN                         0.437102\n",
              "Patient declined            0.039008\n",
              "Patient unable to answer    0.014328\n",
              "Yes                         0.007574\n",
              "Name: Lack transportation kept from meetings, work, or things needed for daily living?, dtype: float64"
            ]
          },
          "metadata": {},
          "execution_count": 13
        }
      ]
    },
    {
      "cell_type": "code",
      "source": [
        "data['food would run out'] = data['food would run out'].map({'Never True':1, 'Patient unable to answer':0, 'Patient declined':0,\n",
        "       'Sometimes True':1, 'Often True':2})"
      ],
      "metadata": {
        "id": "f9Ytt-0TBBmE"
      },
      "execution_count": null,
      "outputs": []
    },
    {
      "cell_type": "code",
      "source": [
        "data['Not able to pay the mortgage or rent on time?'].value_counts(normalize=True,dropna=False)#.cumsum()"
      ],
      "metadata": {
        "colab": {
          "base_uri": "https://localhost:8080/"
        },
        "id": "2NoczpGxVnzV",
        "outputId": "3e55a73e-0102-4515-f81c-22cf5dbe7809"
      },
      "execution_count": null,
      "outputs": [
        {
          "output_type": "execute_result",
          "data": {
            "text/plain": [
              "No                          0.498769\n",
              "NaN                         0.457552\n",
              "Patient declined            0.019756\n",
              "Patient unable to answer    0.014391\n",
              "Yes                         0.009531\n",
              "Name: Not able to pay the mortgage or rent on time?, dtype: float64"
            ]
          },
          "metadata": {},
          "execution_count": 14
        }
      ]
    },
    {
      "cell_type": "code",
      "source": [
        "data['food would run out'] = data['food would run out'].map({'Never True':1, 'Patient unable to answer':0, 'Patient declined':0,\n",
        "       'Sometimes True':1, 'Often True':2})"
      ],
      "metadata": {
        "id": "9IrD5k_BBCYc"
      },
      "execution_count": null,
      "outputs": []
    },
    {
      "cell_type": "code",
      "source": [
        "data['Not have a steady place to sleep or slept in a shelter?'].value_counts(normalize=True,dropna=False)#.cumsum()"
      ],
      "metadata": {
        "colab": {
          "base_uri": "https://localhost:8080/"
        },
        "id": "cX9KUAxPVn39",
        "outputId": "e12098d0-afa7-4aab-ffca-abec9f20973f"
      },
      "execution_count": null,
      "outputs": [
        {
          "output_type": "execute_result",
          "data": {
            "text/plain": [
              "No                          0.501736\n",
              "NaN                         0.457931\n",
              "Patient declined            0.019441\n",
              "Patient unable to answer    0.014076\n",
              "Yes                         0.006817\n",
              "Name: Not have a steady place to sleep or slept in a shelter?, dtype: float64"
            ]
          },
          "metadata": {},
          "execution_count": 15
        }
      ]
    },
    {
      "cell_type": "code",
      "source": [
        "data['food would run out'] = data['food would run out'].map({'Never True':1, 'Patient unable to answer':0, 'Patient declined':0,\n",
        "       'Sometimes True':1, 'Often True':2})"
      ],
      "metadata": {
        "id": "BO63vDY3BDVE"
      },
      "execution_count": null,
      "outputs": []
    },
    {
      "cell_type": "code",
      "source": [
        "data['Electric, gas, oil, or water company threatened to shut off services?'].value_counts(normalize=True,dropna=False)#.cumsum()"
      ],
      "metadata": {
        "colab": {
          "base_uri": "https://localhost:8080/"
        },
        "id": "HMkwcjyRVn78",
        "outputId": "2a685dc1-77a4-40de-eec8-1a608a203e17"
      },
      "execution_count": null,
      "outputs": [
        {
          "output_type": "execute_result",
          "data": {
            "text/plain": [
              "No                          0.502556\n",
              "NaN                         0.437796\n",
              "Patient declined            0.038629\n",
              "Patient unable to answer    0.014896\n",
              "Yes                         0.005113\n",
              "Already Shut Off            0.001010\n",
              "Name: Electric, gas, oil, or water company threatened to shut off services?, dtype: float64"
            ]
          },
          "metadata": {},
          "execution_count": 16
        }
      ]
    },
    {
      "cell_type": "code",
      "source": [
        "data['food would run out'] = data['food would run out'].map({'Never True':1, 'Patient unable to answer':0, 'Patient declined':0,\n",
        "       'Sometimes True':1, 'Often True':2})"
      ],
      "metadata": {
        "id": "RQsOncLNBD-k"
      },
      "execution_count": null,
      "outputs": []
    },
    {
      "cell_type": "code",
      "source": [
        "data['Fearful of physical/emotional abuse from relative?'].value_counts(normalize=True,dropna=False)#.cumsum()"
      ],
      "metadata": {
        "colab": {
          "base_uri": "https://localhost:8080/"
        },
        "id": "WzQaDTYnVoBG",
        "outputId": "bb355392-4688-4f28-d29b-bd209955c718"
      },
      "execution_count": null,
      "outputs": [
        {
          "output_type": "execute_result",
          "data": {
            "text/plain": [
              "NaN                 0.734267\n",
              "No                  0.240169\n",
              "Patient declined    0.021082\n",
              "Yes                 0.004481\n",
              "Name: Fearful of physical/emotional abuse from relative?, dtype: float64"
            ]
          },
          "metadata": {},
          "execution_count": 17
        }
      ]
    },
    {
      "cell_type": "code",
      "source": [
        "data['food would run out'] = data['food would run out'].map({'Never True':1, 'Patient unable to answer':0, 'Patient declined':0,\n",
        "       'Sometimes True':1, 'Often True':2})"
      ],
      "metadata": {
        "id": "SkpN6DXCBEa0"
      },
      "execution_count": null,
      "outputs": []
    }
  ]
}