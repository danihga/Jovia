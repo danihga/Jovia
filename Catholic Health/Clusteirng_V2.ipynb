{
  "cells": [
    {
      "cell_type": "markdown",
      "metadata": {
        "colab_type": "text",
        "id": "view-in-github"
      },
      "source": [
        "<a href=\"https://colab.research.google.com/github/danihga/Jovia/blob/main/Clusteirng_V2.ipynb\" target=\"_parent\"><img src=\"https://colab.research.google.com/assets/colab-badge.svg\" alt=\"Open In Colab\"/></a>"
      ]
    },
    {
      "cell_type": "markdown",
      "metadata": {
        "id": "vzgVHzm4-CWA"
      },
      "source": [
        "# Explore the association between the questions answered"
      ]
    },
    {
      "cell_type": "code",
      "execution_count": 78,
      "metadata": {
        "id": "jpAl_YEOQXjE"
      },
      "outputs": [],
      "source": [
        "import numpy as np\n",
        "import pandas as pd\n",
        "from sklearn.preprocessing import OneHotEncoder\n",
        "import matplotlib.pyplot as plt\n",
        "import seaborn as sns\n",
        "import os\n",
        "from sklearn.tree import DecisionTreeClassifier\n",
        "from sklearn import tree\n",
        "from sklearn.metrics import accuracy_score"
      ]
    },
    {
      "cell_type": "code",
      "execution_count": 90,
      "metadata": {
        "colab": {
          "base_uri": "https://localhost:8080/",
          "height": 428
        },
        "id": "JwFf4MzlRIiV",
        "outputId": "bf939f03-bb87-4fdb-a4cb-e672c475655a"
      },
      "outputs": [
        {
          "data": {
            "text/html": [
              "<div>\n",
              "<style scoped>\n",
              "    .dataframe tbody tr th:only-of-type {\n",
              "        vertical-align: middle;\n",
              "    }\n",
              "\n",
              "    .dataframe tbody tr th {\n",
              "        vertical-align: top;\n",
              "    }\n",
              "\n",
              "    .dataframe thead th {\n",
              "        text-align: right;\n",
              "    }\n",
              "</style>\n",
              "<table border=\"1\" class=\"dataframe\">\n",
              "  <thead>\n",
              "    <tr style=\"text-align: right;\">\n",
              "      <th></th>\n",
              "      <th>food would run out</th>\n",
              "      <th>Food didn’t last and no money for more</th>\n",
              "      <th>Lack transportation kept from medical appointments or medications?</th>\n",
              "      <th>Lack transportation kept from meetings, work, or things needed for daily living?</th>\n",
              "      <th>Not able to pay the mortgage or rent on time?</th>\n",
              "      <th>Not have a steady place to sleep or slept in a shelter?</th>\n",
              "      <th>Electric, gas, oil, or water company threatened to shut off services?</th>\n",
              "      <th>Fearful of physical/emotional abuse from relative?</th>\n",
              "    </tr>\n",
              "  </thead>\n",
              "  <tbody>\n",
              "    <tr>\n",
              "      <th>151</th>\n",
              "      <td>NaN</td>\n",
              "      <td>NaN</td>\n",
              "      <td>NaN</td>\n",
              "      <td>NaN</td>\n",
              "      <td>NaN</td>\n",
              "      <td>NaN</td>\n",
              "      <td>NaN</td>\n",
              "      <td>NaN</td>\n",
              "    </tr>\n",
              "    <tr>\n",
              "      <th>4461</th>\n",
              "      <td>NaN</td>\n",
              "      <td>NaN</td>\n",
              "      <td>NaN</td>\n",
              "      <td>NaN</td>\n",
              "      <td>NaN</td>\n",
              "      <td>NaN</td>\n",
              "      <td>NaN</td>\n",
              "      <td>NaN</td>\n",
              "    </tr>\n",
              "    <tr>\n",
              "      <th>9420</th>\n",
              "      <td>NaN</td>\n",
              "      <td>NaN</td>\n",
              "      <td>NaN</td>\n",
              "      <td>NaN</td>\n",
              "      <td>NaN</td>\n",
              "      <td>NaN</td>\n",
              "      <td>NaN</td>\n",
              "      <td>NaN</td>\n",
              "    </tr>\n",
              "    <tr>\n",
              "      <th>3519</th>\n",
              "      <td>Never True</td>\n",
              "      <td>Never True</td>\n",
              "      <td>No</td>\n",
              "      <td>No</td>\n",
              "      <td>No</td>\n",
              "      <td>No</td>\n",
              "      <td>No</td>\n",
              "      <td>No</td>\n",
              "    </tr>\n",
              "    <tr>\n",
              "      <th>14822</th>\n",
              "      <td>NaN</td>\n",
              "      <td>NaN</td>\n",
              "      <td>NaN</td>\n",
              "      <td>NaN</td>\n",
              "      <td>NaN</td>\n",
              "      <td>NaN</td>\n",
              "      <td>NaN</td>\n",
              "      <td>NaN</td>\n",
              "    </tr>\n",
              "    <tr>\n",
              "      <th>9271</th>\n",
              "      <td>NaN</td>\n",
              "      <td>NaN</td>\n",
              "      <td>NaN</td>\n",
              "      <td>NaN</td>\n",
              "      <td>NaN</td>\n",
              "      <td>NaN</td>\n",
              "      <td>NaN</td>\n",
              "      <td>NaN</td>\n",
              "    </tr>\n",
              "  </tbody>\n",
              "</table>\n",
              "</div>"
            ],
            "text/plain": [
              "      food would run out Food didn’t last and no money for more  \\\n",
              "151                  NaN                                    NaN   \n",
              "4461                 NaN                                    NaN   \n",
              "9420                 NaN                                    NaN   \n",
              "3519          Never True                             Never True   \n",
              "14822                NaN                                    NaN   \n",
              "9271                 NaN                                    NaN   \n",
              "\n",
              "      Lack transportation kept from medical appointments or medications?  \\\n",
              "151                                                  NaN                   \n",
              "4461                                                 NaN                   \n",
              "9420                                                 NaN                   \n",
              "3519                                                  No                   \n",
              "14822                                                NaN                   \n",
              "9271                                                 NaN                   \n",
              "\n",
              "      Lack transportation kept from meetings, work, or things needed for daily living?  \\\n",
              "151                                                  NaN                                 \n",
              "4461                                                 NaN                                 \n",
              "9420                                                 NaN                                 \n",
              "3519                                                  No                                 \n",
              "14822                                                NaN                                 \n",
              "9271                                                 NaN                                 \n",
              "\n",
              "      Not able to pay the mortgage or rent on time?  \\\n",
              "151                                             NaN   \n",
              "4461                                            NaN   \n",
              "9420                                            NaN   \n",
              "3519                                             No   \n",
              "14822                                           NaN   \n",
              "9271                                            NaN   \n",
              "\n",
              "      Not have a steady place to sleep or slept in a shelter?  \\\n",
              "151                                                  NaN        \n",
              "4461                                                 NaN        \n",
              "9420                                                 NaN        \n",
              "3519                                                  No        \n",
              "14822                                                NaN        \n",
              "9271                                                 NaN        \n",
              "\n",
              "      Electric, gas, oil, or water company threatened to shut off services?  \\\n",
              "151                                                  NaN                      \n",
              "4461                                                 NaN                      \n",
              "9420                                                 NaN                      \n",
              "3519                                                  No                      \n",
              "14822                                                NaN                      \n",
              "9271                                                 NaN                      \n",
              "\n",
              "      Fearful of physical/emotional abuse from relative?  \n",
              "151                                                  NaN  \n",
              "4461                                                 NaN  \n",
              "9420                                                 NaN  \n",
              "3519                                                  No  \n",
              "14822                                                NaN  \n",
              "9271                                                 NaN  "
            ]
          },
          "execution_count": 90,
          "metadata": {},
          "output_type": "execute_result"
        }
      ],
      "source": [
        "#Import Data\n",
        "\n",
        "data = pd.read_excel(r'/Users/familiadelasherasgarciahijosdanielnuriapablo/Documents/Applied Math and Data Science/Jovia/DeidentifiedSDOHPatientData-v1.xlsx')\n",
        "\n",
        "data.sample(6)\n",
        "\n",
        "data.columns = ['id', 'age', 'race', 'ethnicity', 'gender',\n",
        "       'food would run out',\n",
        "       'Food didn’t last and no money for more',\n",
        "       'Lack transportation kept from medical appointments or medications?',\n",
        "       'Lack transportation kept from meetings, work, or things needed for daily living?',\n",
        "       'Not able to pay the mortgage or rent on time?',\n",
        "       'Not have a steady place to sleep or slept in a shelter?',\n",
        "       'Electric, gas, oil, or water company threatened to shut off services?',\n",
        "       'Fearful of physical/emotional abuse from relative?']\n",
        "\n",
        "# Drop id, age, race, ethnicity, gender\n",
        "data.drop(columns = ['id', 'age', 'race', 'ethnicity', 'gender'], inplace = True)\n",
        "\n",
        "data.sample(6)"
      ]
    },
    {
      "cell_type": "code",
      "execution_count": 91,
      "metadata": {
        "colab": {
          "base_uri": "https://localhost:8080/"
        },
        "id": "RkgaDSBvT2Ej",
        "outputId": "8ea5ea09-4677-4a06-8052-28db0723b748"
      },
      "outputs": [
        {
          "data": {
            "text/plain": [
              "(15843, 8)"
            ]
          },
          "execution_count": 91,
          "metadata": {},
          "output_type": "execute_result"
        }
      ],
      "source": [
        "data.shape"
      ]
    },
    {
      "cell_type": "code",
      "execution_count": 81,
      "metadata": {
        "colab": {
          "base_uri": "https://localhost:8080/"
        },
        "id": "R3hntZ4Y-Zn6",
        "outputId": "94cbbf54-fb09-49b7-d9a6-fad80a9a69b9"
      },
      "outputs": [
        {
          "data": {
            "text/plain": [
              "food would run out                                                                  0.296598\n",
              "Food didn’t last and no money for more                                              0.297166\n",
              "Lack transportation kept from medical appointments or medications?                  0.436660\n",
              "Lack transportation kept from meetings, work, or things needed for daily living?    0.437102\n",
              "Not able to pay the mortgage or rent on time?                                       0.457552\n",
              "Not have a steady place to sleep or slept in a shelter?                             0.457931\n",
              "Electric, gas, oil, or water company threatened to shut off services?               0.437796\n",
              "Fearful of physical/emotional abuse from relative?                                  0.734267\n",
              "dtype: float64"
            ]
          },
          "execution_count": 81,
          "metadata": {},
          "output_type": "execute_result"
        }
      ],
      "source": [
        "data.isnull().sum()/15843"
      ]
    },
    {
      "cell_type": "code",
      "execution_count": 92,
      "metadata": {},
      "outputs": [],
      "source": [
        "for i in data.columns:\n",
        "    data[i] = data[i].map({'Never True':1, 'Patient unable to answer':0, 'Patient declined':0,\n",
        "       'Sometimes True':1, 'Often True':2, 'No':1, 'Yes':2, 'Already Shut Off':2 })"
      ]
    },
    {
      "cell_type": "code",
      "execution_count": 93,
      "metadata": {},
      "outputs": [],
      "source": [
        "data.fillna(0, inplace = True)"
      ]
    },
    {
      "cell_type": "markdown",
      "metadata": {
        "id": "aY5lO-YbAvQi"
      },
      "source": [
        "## Label Encoding Approach"
      ]
    },
    {
      "cell_type": "markdown",
      "metadata": {
        "id": "g_fQCURbWkH6"
      },
      "source": [
        "**Proportions of the answers to the questions and Encode Questions**"
      ]
    },
    {
      "cell_type": "code",
      "execution_count": 94,
      "metadata": {
        "colab": {
          "base_uri": "https://localhost:8080/"
        },
        "id": "vo9BaKhkVXKd",
        "outputId": "0458ca8b-6814-42b4-a42e-72d90fbc96b1"
      },
      "outputs": [
        {
          "data": {
            "text/plain": [
              "food would run out\n",
              "1.0    0.649498\n",
              "0.0    0.347598\n",
              "2.0    0.002903\n",
              "Name: proportion, dtype: float64"
            ]
          },
          "execution_count": 94,
          "metadata": {},
          "output_type": "execute_result"
        }
      ],
      "source": [
        "data['food would run out'].value_counts(normalize=True, dropna=False)#.cumsum()\n"
      ]
    },
    {
      "cell_type": "code",
      "execution_count": 95,
      "metadata": {
        "colab": {
          "base_uri": "https://localhost:8080/"
        },
        "id": "hEN58VrUVnlG",
        "outputId": "115a3775-9b3d-40bc-af01-7b94999cb6ab"
      },
      "outputs": [
        {
          "data": {
            "text/plain": [
              "Food didn’t last and no money for more\n",
              "1.0    0.649056\n",
              "0.0    0.347977\n",
              "2.0    0.002967\n",
              "Name: proportion, dtype: float64"
            ]
          },
          "execution_count": 95,
          "metadata": {},
          "output_type": "execute_result"
        }
      ],
      "source": [
        "data['Food didn’t last and no money for more'].value_counts(normalize=True,dropna=False)#.cumsum()"
      ]
    },
    {
      "cell_type": "code",
      "execution_count": 96,
      "metadata": {
        "colab": {
          "base_uri": "https://localhost:8080/"
        },
        "id": "dHxWH8jCVnpV",
        "outputId": "e83ca83d-4b7a-4c45-9d50-765b071a05ac"
      },
      "outputs": [
        {
          "data": {
            "text/plain": [
              "Lack transportation kept from medical appointments or medications?\n",
              "1.0    0.500978\n",
              "0.0    0.490311\n",
              "2.0    0.008710\n",
              "Name: proportion, dtype: float64"
            ]
          },
          "execution_count": 96,
          "metadata": {},
          "output_type": "execute_result"
        }
      ],
      "source": [
        "data['Lack transportation kept from medical appointments or medications?'].value_counts(normalize=True,dropna=False)#.cumsum()"
      ]
    },
    {
      "cell_type": "code",
      "execution_count": 97,
      "metadata": {
        "colab": {
          "base_uri": "https://localhost:8080/"
        },
        "id": "MdUbNggGVnt8",
        "outputId": "611f81cc-a94c-44c9-8222-a6b65a882a4d"
      },
      "outputs": [
        {
          "data": {
            "text/plain": [
              "Lack transportation kept from meetings, work, or things needed for daily living?\n",
              "1.0    0.501988\n",
              "0.0    0.490437\n",
              "2.0    0.007574\n",
              "Name: proportion, dtype: float64"
            ]
          },
          "execution_count": 97,
          "metadata": {},
          "output_type": "execute_result"
        }
      ],
      "source": [
        "data['Lack transportation kept from meetings, work, or things needed for daily living?'].value_counts(normalize=True,dropna=False)#.cumsum()"
      ]
    },
    {
      "cell_type": "code",
      "execution_count": 98,
      "metadata": {
        "colab": {
          "base_uri": "https://localhost:8080/"
        },
        "id": "2NoczpGxVnzV",
        "outputId": "3e55a73e-0102-4515-f81c-22cf5dbe7809"
      },
      "outputs": [
        {
          "data": {
            "text/plain": [
              "Not able to pay the mortgage or rent on time?\n",
              "1.0    0.498769\n",
              "0.0    0.491700\n",
              "2.0    0.009531\n",
              "Name: proportion, dtype: float64"
            ]
          },
          "execution_count": 98,
          "metadata": {},
          "output_type": "execute_result"
        }
      ],
      "source": [
        "data['Not able to pay the mortgage or rent on time?'].value_counts(normalize=True,dropna=False)#.cumsum()"
      ]
    },
    {
      "cell_type": "code",
      "execution_count": 99,
      "metadata": {
        "colab": {
          "base_uri": "https://localhost:8080/"
        },
        "id": "cX9KUAxPVn39",
        "outputId": "e12098d0-afa7-4aab-ffca-abec9f20973f"
      },
      "outputs": [
        {
          "data": {
            "text/plain": [
              "Not have a steady place to sleep or slept in a shelter?\n",
              "1.0    0.501736\n",
              "0.0    0.491447\n",
              "2.0    0.006817\n",
              "Name: proportion, dtype: float64"
            ]
          },
          "execution_count": 99,
          "metadata": {},
          "output_type": "execute_result"
        }
      ],
      "source": [
        "data['Not have a steady place to sleep or slept in a shelter?'].value_counts(normalize=True,dropna=False)#.cumsum()"
      ]
    },
    {
      "cell_type": "code",
      "execution_count": 100,
      "metadata": {
        "colab": {
          "base_uri": "https://localhost:8080/"
        },
        "id": "HMkwcjyRVn78",
        "outputId": "2a685dc1-77a4-40de-eec8-1a608a203e17"
      },
      "outputs": [
        {
          "data": {
            "text/plain": [
              "Electric, gas, oil, or water company threatened to shut off services?\n",
              "1.0    0.502556\n",
              "0.0    0.491321\n",
              "2.0    0.006123\n",
              "Name: proportion, dtype: float64"
            ]
          },
          "execution_count": 100,
          "metadata": {},
          "output_type": "execute_result"
        }
      ],
      "source": [
        "data['Electric, gas, oil, or water company threatened to shut off services?'].value_counts(normalize=True,dropna=False)#.cumsum()"
      ]
    },
    {
      "cell_type": "code",
      "execution_count": 101,
      "metadata": {
        "colab": {
          "base_uri": "https://localhost:8080/"
        },
        "id": "WzQaDTYnVoBG",
        "outputId": "bb355392-4688-4f28-d29b-bd209955c718"
      },
      "outputs": [
        {
          "data": {
            "text/plain": [
              "Fearful of physical/emotional abuse from relative?\n",
              "0.0    0.755349\n",
              "1.0    0.240169\n",
              "2.0    0.004481\n",
              "Name: proportion, dtype: float64"
            ]
          },
          "execution_count": 101,
          "metadata": {},
          "output_type": "execute_result"
        }
      ],
      "source": [
        "data['Fearful of physical/emotional abuse from relative?'].value_counts(normalize=True,dropna=False)#.cumsum()"
      ]
    },
    {
      "cell_type": "markdown",
      "metadata": {},
      "source": [
        "## Clustering"
      ]
    },
    {
      "cell_type": "markdown",
      "metadata": {},
      "source": [
        "### PCA"
      ]
    },
    {
      "cell_type": "code",
      "execution_count": 120,
      "metadata": {},
      "outputs": [],
      "source": [
        "# Applying PCA function on training\n",
        "# and testing set of X component\n",
        "from sklearn.decomposition import PCA\n",
        "\n",
        "# get the 3 Principal Components\n",
        "pca = PCA()\n",
        "\n",
        "# Map data to the principal compomponents\n",
        "pca_data = pd.DataFrame(data = pca.fit_transform(data))\n",
        "\n",
        "columns = [f'PCA {i+1}' for i in pca_data.columns]\n",
        "\n",
        "pca_data.columns = columns\n",
        "\n",
        "# Explained Variance By the three principal components\n",
        "explained_variance = pca.explained_variance_ratio_\n"
      ]
    },
    {
      "cell_type": "code",
      "execution_count": 123,
      "metadata": {},
      "outputs": [
        {
          "data": {
            "text/html": [
              "<div>\n",
              "<style scoped>\n",
              "    .dataframe tbody tr th:only-of-type {\n",
              "        vertical-align: middle;\n",
              "    }\n",
              "\n",
              "    .dataframe tbody tr th {\n",
              "        vertical-align: top;\n",
              "    }\n",
              "\n",
              "    .dataframe thead th {\n",
              "        text-align: right;\n",
              "    }\n",
              "</style>\n",
              "<table border=\"1\" class=\"dataframe\">\n",
              "  <thead>\n",
              "    <tr style=\"text-align: right;\">\n",
              "      <th></th>\n",
              "      <th>PCA 1</th>\n",
              "      <th>PCA 2</th>\n",
              "      <th>PCA 3</th>\n",
              "      <th>PCA 4</th>\n",
              "      <th>PCA 5</th>\n",
              "      <th>PCA 6</th>\n",
              "      <th>PCA 7</th>\n",
              "      <th>PCA 8</th>\n",
              "    </tr>\n",
              "  </thead>\n",
              "  <tbody>\n",
              "    <tr>\n",
              "      <th>13779</th>\n",
              "      <td>-0.849674</td>\n",
              "      <td>0.931460</td>\n",
              "      <td>0.212777</td>\n",
              "      <td>-0.002582</td>\n",
              "      <td>0.000638</td>\n",
              "      <td>-0.003444</td>\n",
              "      <td>0.000099</td>\n",
              "      <td>0.000912</td>\n",
              "    </tr>\n",
              "    <tr>\n",
              "      <th>7293</th>\n",
              "      <td>1.312552</td>\n",
              "      <td>-0.193120</td>\n",
              "      <td>0.457530</td>\n",
              "      <td>0.006900</td>\n",
              "      <td>-0.003774</td>\n",
              "      <td>0.005739</td>\n",
              "      <td>0.000119</td>\n",
              "      <td>-0.000264</td>\n",
              "    </tr>\n",
              "    <tr>\n",
              "      <th>9471</th>\n",
              "      <td>1.109372</td>\n",
              "      <td>0.102234</td>\n",
              "      <td>-0.475972</td>\n",
              "      <td>0.000080</td>\n",
              "      <td>-0.004400</td>\n",
              "      <td>0.006769</td>\n",
              "      <td>-0.002867</td>\n",
              "      <td>-0.000295</td>\n",
              "    </tr>\n",
              "    <tr>\n",
              "      <th>2038</th>\n",
              "      <td>1.312552</td>\n",
              "      <td>-0.193120</td>\n",
              "      <td>0.457530</td>\n",
              "      <td>0.006900</td>\n",
              "      <td>-0.003774</td>\n",
              "      <td>0.005739</td>\n",
              "      <td>0.000119</td>\n",
              "      <td>-0.000264</td>\n",
              "    </tr>\n",
              "    <tr>\n",
              "      <th>13660</th>\n",
              "      <td>1.109372</td>\n",
              "      <td>0.102234</td>\n",
              "      <td>-0.475972</td>\n",
              "      <td>0.000080</td>\n",
              "      <td>-0.004400</td>\n",
              "      <td>0.006769</td>\n",
              "      <td>-0.002867</td>\n",
              "      <td>-0.000295</td>\n",
              "    </tr>\n",
              "    <tr>\n",
              "      <th>14959</th>\n",
              "      <td>-1.467941</td>\n",
              "      <td>-0.313701</td>\n",
              "      <td>-0.046640</td>\n",
              "      <td>0.000914</td>\n",
              "      <td>0.003085</td>\n",
              "      <td>-0.001212</td>\n",
              "      <td>0.000177</td>\n",
              "      <td>0.000489</td>\n",
              "    </tr>\n",
              "  </tbody>\n",
              "</table>\n",
              "</div>"
            ],
            "text/plain": [
              "          PCA 1     PCA 2     PCA 3     PCA 4     PCA 5     PCA 6     PCA 7  \\\n",
              "13779 -0.849674  0.931460  0.212777 -0.002582  0.000638 -0.003444  0.000099   \n",
              "7293   1.312552 -0.193120  0.457530  0.006900 -0.003774  0.005739  0.000119   \n",
              "9471   1.109372  0.102234 -0.475972  0.000080 -0.004400  0.006769 -0.002867   \n",
              "2038   1.312552 -0.193120  0.457530  0.006900 -0.003774  0.005739  0.000119   \n",
              "13660  1.109372  0.102234 -0.475972  0.000080 -0.004400  0.006769 -0.002867   \n",
              "14959 -1.467941 -0.313701 -0.046640  0.000914  0.003085 -0.001212  0.000177   \n",
              "\n",
              "          PCA 8  \n",
              "13779  0.000912  \n",
              "7293  -0.000264  \n",
              "9471  -0.000295  \n",
              "2038  -0.000264  \n",
              "13660 -0.000295  \n",
              "14959  0.000489  "
            ]
          },
          "execution_count": 123,
          "metadata": {},
          "output_type": "execute_result"
        }
      ],
      "source": [
        "pca_data.sample(6)"
      ]
    },
    {
      "cell_type": "code",
      "execution_count": null,
      "metadata": {},
      "outputs": [],
      "source": [
        "#pip install yellowbrick"
      ]
    },
    {
      "cell_type": "code",
      "execution_count": 130,
      "metadata": {},
      "outputs": [
        {
          "name": "stdout",
          "output_type": "stream",
          "text": [
            "Elbow Method to determine the number of clusters to be formed:\n"
          ]
        },
        {
          "data": {
            "image/png": "[encoded data removed]",
            "text/plain": [
              "<Figure size 800x550 with 2 Axes>"
            ]
          },
          "metadata": {},
          "output_type": "display_data"
        },
        {
          "data": {
            "text/plain": [
              "<Axes: title={'center': 'Distortion Score Elbow for KMeans Clustering'}, xlabel='k', ylabel='distortion score'>"
            ]
          },
          "execution_count": 130,
          "metadata": {},
          "output_type": "execute_result"
        }
      ],
      "source": [
        "from yellowbrick.cluster import KElbowVisualizer\n",
        "# Quick examination of elbow method to find numbers of clusters to make.\n",
        "print('Elbow Method to determine the number of clusters to be formed:')\n",
        "Elbow_M = KElbowVisualizer(KMeans(), k=10)\n",
        "Elbow_M.fit(pca_data.iloc[:,:3])\n",
        "Elbow_M.show()"
      ]
    },
    {
      "cell_type": "code",
      "execution_count": 124,
      "metadata": {},
      "outputs": [],
      "source": [
        "# Elbow method to determine the appropiate number of clusters\n",
        "from sklearn.cluster import KMeans\n",
        "from sklearn.cluster import AgglomerativeClustering"
      ]
    },
    {
      "cell_type": "code",
      "execution_count": null,
      "metadata": {},
      "outputs": [],
      "source": [
        "def do_kmeans(data, clusters: int = 3):"
      ]
    }
  ],
  "metadata": {
    "colab": {
      "authorship_tag": "ABX9TyPM6zGZb083OOtiCuA9Gket",
      "include_colab_link": true,
      "provenance": []
    },
    "kernelspec": {
      "display_name": "Python 3",
      "name": "python3"
    },
    "language_info": {
      "codemirror_mode": {
        "name": "ipython",
        "version": 3
      },
      "file_extension": ".py",
      "mimetype": "text/x-python",
      "name": "python",
      "nbconvert_exporter": "python",
      "pygments_lexer": "ipython3",
      "version": "3.11.7"
    }
  },
  "nbformat": 4,
  "nbformat_minor": 0
}
