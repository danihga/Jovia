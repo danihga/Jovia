{
  "cells": [
    {
      "cell_type": "markdown",
      "metadata": {
        "colab_type": "text",
        "id": "view-in-github"
      },
      "source": [
        "<a href=\"https://colab.research.google.com/github/danihga/Jovia/blob/main/Clusteirng_V2.ipynb\" target=\"_parent\"><img src=\"https://colab.research.google.com/assets/colab-badge.svg\" alt=\"Open In Colab\"/></a>"
      ]
    },
    {
      "cell_type": "markdown",
      "metadata": {
        "id": "vzgVHzm4-CWA"
      },
      "source": [
        "# Explore the association between the questions answered"
      ]
    },
    {
      "cell_type": "code",
      "execution_count": 1,
      "metadata": {
        "id": "jpAl_YEOQXjE"
      },
      "outputs": [
        {
          "name": "stderr",
          "output_type": "stream",
          "text": [
            "/var/folders/g3/ncfg5yhn47v7z7k0wmn723zc0000gn/T/ipykernel_2134/216586363.py:2: DeprecationWarning: \n",
            "Pyarrow will become a required dependency of pandas in the next major release of pandas (pandas 3.0),\n",
            "(to allow more performant data types, such as the Arrow string type, and better interoperability with other libraries)\n",
            "but was not found to be installed on your system.\n",
            "If this would cause problems for you,\n",
            "please provide us feedback at https://github.com/pandas-dev/pandas/issues/54466\n",
            "        \n",
            "  import pandas as pd\n"
          ]
        }
      ],
      "source": [
        "import numpy as np\n",
        "import pandas as pd\n",
        "from sklearn.preprocessing import OneHotEncoder\n",
        "import matplotlib.pyplot as plt\n",
        "import seaborn as sns\n",
        "import os\n",
        "from sklearn.tree import DecisionTreeClassifier\n",
        "from sklearn import tree\n",
        "from sklearn.metrics import accuracy_score\n",
        "from sklearn.preprocessing import StandardScaler\n",
        "import pandas as pd"
      ]
    },
    {
      "cell_type": "code",
      "execution_count": 2,
      "metadata": {
        "colab": {
          "base_uri": "https://localhost:8080/",
          "height": 428
        },
        "id": "JwFf4MzlRIiV",
        "outputId": "bf939f03-bb87-4fdb-a4cb-e672c475655a"
      },
      "outputs": [
        {
          "data": {
            "text/html": [
              "<div>\n",
              "<style scoped>\n",
              "    .dataframe tbody tr th:only-of-type {\n",
              "        vertical-align: middle;\n",
              "    }\n",
              "\n",
              "    .dataframe tbody tr th {\n",
              "        vertical-align: top;\n",
              "    }\n",
              "\n",
              "    .dataframe thead th {\n",
              "        text-align: right;\n",
              "    }\n",
              "</style>\n",
              "<table border=\"1\" class=\"dataframe\">\n",
              "  <thead>\n",
              "    <tr style=\"text-align: right;\">\n",
              "      <th></th>\n",
              "      <th>Q1</th>\n",
              "      <th>Q2</th>\n",
              "      <th>Q3</th>\n",
              "      <th>Q4</th>\n",
              "      <th>Q5</th>\n",
              "      <th>Q6</th>\n",
              "      <th>Q7</th>\n",
              "      <th>Q8</th>\n",
              "    </tr>\n",
              "  </thead>\n",
              "  <tbody>\n",
              "    <tr>\n",
              "      <th>13059</th>\n",
              "      <td>Never True</td>\n",
              "      <td>Never True</td>\n",
              "      <td>No</td>\n",
              "      <td>No</td>\n",
              "      <td>No</td>\n",
              "      <td>No</td>\n",
              "      <td>No</td>\n",
              "      <td>No</td>\n",
              "    </tr>\n",
              "    <tr>\n",
              "      <th>13672</th>\n",
              "      <td>Sometimes True</td>\n",
              "      <td>Sometimes True</td>\n",
              "      <td>Yes</td>\n",
              "      <td>No</td>\n",
              "      <td>Yes</td>\n",
              "      <td>Yes</td>\n",
              "      <td>No</td>\n",
              "      <td>No</td>\n",
              "    </tr>\n",
              "    <tr>\n",
              "      <th>3234</th>\n",
              "      <td>Never True</td>\n",
              "      <td>Never True</td>\n",
              "      <td>NaN</td>\n",
              "      <td>NaN</td>\n",
              "      <td>NaN</td>\n",
              "      <td>NaN</td>\n",
              "      <td>NaN</td>\n",
              "      <td>NaN</td>\n",
              "    </tr>\n",
              "    <tr>\n",
              "      <th>4244</th>\n",
              "      <td>Never True</td>\n",
              "      <td>Never True</td>\n",
              "      <td>No</td>\n",
              "      <td>No</td>\n",
              "      <td>No</td>\n",
              "      <td>No</td>\n",
              "      <td>No</td>\n",
              "      <td>No</td>\n",
              "    </tr>\n",
              "    <tr>\n",
              "      <th>12188</th>\n",
              "      <td>NaN</td>\n",
              "      <td>NaN</td>\n",
              "      <td>NaN</td>\n",
              "      <td>NaN</td>\n",
              "      <td>NaN</td>\n",
              "      <td>NaN</td>\n",
              "      <td>NaN</td>\n",
              "      <td>NaN</td>\n",
              "    </tr>\n",
              "    <tr>\n",
              "      <th>11700</th>\n",
              "      <td>NaN</td>\n",
              "      <td>NaN</td>\n",
              "      <td>NaN</td>\n",
              "      <td>NaN</td>\n",
              "      <td>NaN</td>\n",
              "      <td>NaN</td>\n",
              "      <td>NaN</td>\n",
              "      <td>NaN</td>\n",
              "    </tr>\n",
              "  </tbody>\n",
              "</table>\n",
              "</div>"
            ],
            "text/plain": [
              "                   Q1              Q2   Q3   Q4   Q5   Q6   Q7   Q8\n",
              "13059      Never True      Never True   No   No   No   No   No   No\n",
              "13672  Sometimes True  Sometimes True  Yes   No  Yes  Yes   No   No\n",
              "3234       Never True      Never True  NaN  NaN  NaN  NaN  NaN  NaN\n",
              "4244       Never True      Never True   No   No   No   No   No   No\n",
              "12188             NaN             NaN  NaN  NaN  NaN  NaN  NaN  NaN\n",
              "11700             NaN             NaN  NaN  NaN  NaN  NaN  NaN  NaN"
            ]
          },
          "execution_count": 2,
          "metadata": {},
          "output_type": "execute_result"
        }
      ],
      "source": [
        "#Import Data\n",
        "\n",
        "data = pd.read_excel(r'/Users/familiadelasherasgarciahijosdanielnuriapablo/Documents/Applied Math and Data Science/Jovia/DeidentifiedSDOHPatientData-v1.xlsx')\n",
        "\n",
        "data.sample(6)\n",
        "\n",
        "# Drop id, age, race, ethnicity, gender\n",
        "data.drop(columns = ['PatIdentifier','AgeAtAdmit', 'Race', 'Ethnicity', 'Gender'], inplace = True)\n",
        "\n",
        "questions  = list(data.columns)\n",
        "\n",
        "data.columns = [f'Q{i+1}' for i in range(len(list(data.columns)))]\n",
        "\n",
        "questions_dict = dict(zip(data.columns, questions))\n",
        "\n",
        "data.sample(6)\n"
      ]
    },
    {
      "cell_type": "code",
      "execution_count": 3,
      "metadata": {
        "colab": {
          "base_uri": "https://localhost:8080/"
        },
        "id": "RkgaDSBvT2Ej",
        "outputId": "8ea5ea09-4677-4a06-8052-28db0723b748"
      },
      "outputs": [
        {
          "data": {
            "text/plain": [
              "(15843, 8)"
            ]
          },
          "execution_count": 3,
          "metadata": {},
          "output_type": "execute_result"
        }
      ],
      "source": [
        "data.shape"
      ]
    },
    {
      "cell_type": "code",
      "execution_count": 4,
      "metadata": {
        "colab": {
          "base_uri": "https://localhost:8080/"
        },
        "id": "R3hntZ4Y-Zn6",
        "outputId": "94cbbf54-fb09-49b7-d9a6-fad80a9a69b9"
      },
      "outputs": [
        {
          "data": {
            "text/plain": [
              "Q1    0.296598\n",
              "Q2    0.297166\n",
              "Q3    0.436660\n",
              "Q4    0.437102\n",
              "Q5    0.457552\n",
              "Q6    0.457931\n",
              "Q7    0.437796\n",
              "Q8    0.734267\n",
              "dtype: float64"
            ]
          },
          "execution_count": 4,
          "metadata": {},
          "output_type": "execute_result"
        }
      ],
      "source": [
        "data.isnull().sum()/15843"
      ]
    },
    {
      "cell_type": "code",
      "execution_count": 5,
      "metadata": {},
      "outputs": [],
      "source": [
        "for i in data.columns:\n",
        "    data[i] = data[i].map({'Never True':1, 'Patient unable to answer':0, 'Patient declined':0,\n",
        "       'Sometimes True':1, 'Often True':2, 'No':1, 'Yes':2, 'Already Shut Off':2 })"
      ]
    },
    {
      "cell_type": "code",
      "execution_count": 6,
      "metadata": {},
      "outputs": [],
      "source": [
        "data.fillna(0, inplace = True)"
      ]
    },
    {
      "cell_type": "markdown",
      "metadata": {
        "id": "aY5lO-YbAvQi"
      },
      "source": [
        "## Label Encoding Approach"
      ]
    },
    {
      "cell_type": "markdown",
      "metadata": {
        "id": "g_fQCURbWkH6"
      },
      "source": [
        "**Proportions of the answers to the questions and Encode Questions**"
      ]
    },
    {
      "cell_type": "code",
      "execution_count": 7,
      "metadata": {
        "colab": {
          "base_uri": "https://localhost:8080/"
        },
        "id": "vo9BaKhkVXKd",
        "outputId": "0458ca8b-6814-42b4-a42e-72d90fbc96b1"
      },
      "outputs": [
        {
          "data": {
            "text/plain": [
              "Q1\n",
              "1.0    0.649498\n",
              "0.0    0.347598\n",
              "2.0    0.002903\n",
              "Name: proportion, dtype: float64"
            ]
          },
          "execution_count": 7,
          "metadata": {},
          "output_type": "execute_result"
        }
      ],
      "source": [
        "data['Q1'].value_counts(normalize=True, dropna=False)#.cumsum()\n"
      ]
    },
    {
      "cell_type": "code",
      "execution_count": 8,
      "metadata": {
        "colab": {
          "base_uri": "https://localhost:8080/"
        },
        "id": "hEN58VrUVnlG",
        "outputId": "115a3775-9b3d-40bc-af01-7b94999cb6ab"
      },
      "outputs": [
        {
          "data": {
            "text/plain": [
              "Q2\n",
              "1.0    0.649056\n",
              "0.0    0.347977\n",
              "2.0    0.002967\n",
              "Name: proportion, dtype: float64"
            ]
          },
          "execution_count": 8,
          "metadata": {},
          "output_type": "execute_result"
        }
      ],
      "source": [
        "data['Q2'].value_counts(normalize=True,dropna=False)#.cumsum()"
      ]
    },
    {
      "cell_type": "code",
      "execution_count": 9,
      "metadata": {
        "colab": {
          "base_uri": "https://localhost:8080/"
        },
        "id": "dHxWH8jCVnpV",
        "outputId": "e83ca83d-4b7a-4c45-9d50-765b071a05ac"
      },
      "outputs": [
        {
          "data": {
            "text/plain": [
              "Q3\n",
              "1.0    0.500978\n",
              "0.0    0.490311\n",
              "2.0    0.008710\n",
              "Name: proportion, dtype: float64"
            ]
          },
          "execution_count": 9,
          "metadata": {},
          "output_type": "execute_result"
        }
      ],
      "source": [
        "data['Q3'].value_counts(normalize=True,dropna=False)#.cumsum()"
      ]
    },
    {
      "cell_type": "code",
      "execution_count": 10,
      "metadata": {
        "colab": {
          "base_uri": "https://localhost:8080/"
        },
        "id": "MdUbNggGVnt8",
        "outputId": "611f81cc-a94c-44c9-8222-a6b65a882a4d"
      },
      "outputs": [
        {
          "data": {
            "text/plain": [
              "Q4\n",
              "1.0    0.501988\n",
              "0.0    0.490437\n",
              "2.0    0.007574\n",
              "Name: proportion, dtype: float64"
            ]
          },
          "execution_count": 10,
          "metadata": {},
          "output_type": "execute_result"
        }
      ],
      "source": [
        "data['Q4'].value_counts(normalize=True,dropna=False)#.cumsum()"
      ]
    },
    {
      "cell_type": "code",
      "execution_count": 11,
      "metadata": {
        "colab": {
          "base_uri": "https://localhost:8080/"
        },
        "id": "2NoczpGxVnzV",
        "outputId": "3e55a73e-0102-4515-f81c-22cf5dbe7809"
      },
      "outputs": [
        {
          "data": {
            "text/plain": [
              "Q5\n",
              "1.0    0.498769\n",
              "0.0    0.491700\n",
              "2.0    0.009531\n",
              "Name: proportion, dtype: float64"
            ]
          },
          "execution_count": 11,
          "metadata": {},
          "output_type": "execute_result"
        }
      ],
      "source": [
        "data['Q5'].value_counts(normalize=True,dropna=False)#.cumsum()"
      ]
    },
    {
      "cell_type": "code",
      "execution_count": 12,
      "metadata": {
        "colab": {
          "base_uri": "https://localhost:8080/"
        },
        "id": "cX9KUAxPVn39",
        "outputId": "e12098d0-afa7-4aab-ffca-abec9f20973f"
      },
      "outputs": [
        {
          "data": {
            "text/plain": [
              "Q6\n",
              "1.0    0.501736\n",
              "0.0    0.491447\n",
              "2.0    0.006817\n",
              "Name: proportion, dtype: float64"
            ]
          },
          "execution_count": 12,
          "metadata": {},
          "output_type": "execute_result"
        }
      ],
      "source": [
        "data['Q6'].value_counts(normalize=True,dropna=False)#.cumsum()"
      ]
    },
    {
      "cell_type": "code",
      "execution_count": 13,
      "metadata": {
        "colab": {
          "base_uri": "https://localhost:8080/"
        },
        "id": "HMkwcjyRVn78",
        "outputId": "2a685dc1-77a4-40de-eec8-1a608a203e17"
      },
      "outputs": [
        {
          "data": {
            "text/plain": [
              "Q7\n",
              "1.0    0.502556\n",
              "0.0    0.491321\n",
              "2.0    0.006123\n",
              "Name: proportion, dtype: float64"
            ]
          },
          "execution_count": 13,
          "metadata": {},
          "output_type": "execute_result"
        }
      ],
      "source": [
        "data['Q7'].value_counts(normalize=True,dropna=False)#.cumsum()"
      ]
    },
    {
      "cell_type": "code",
      "execution_count": 14,
      "metadata": {
        "colab": {
          "base_uri": "https://localhost:8080/"
        },
        "id": "WzQaDTYnVoBG",
        "outputId": "bb355392-4688-4f28-d29b-bd209955c718"
      },
      "outputs": [
        {
          "data": {
            "text/plain": [
              "Q8\n",
              "0.0    0.755349\n",
              "1.0    0.240169\n",
              "2.0    0.004481\n",
              "Name: proportion, dtype: float64"
            ]
          },
          "execution_count": 14,
          "metadata": {},
          "output_type": "execute_result"
        }
      ],
      "source": [
        "data['Q8'].value_counts(normalize=True,dropna=False)#.cumsum()"
      ]
    },
    {
      "cell_type": "code",
      "execution_count": 15,
      "metadata": {},
      "outputs": [
        {
          "data": {
            "text/html": [
              "<div>\n",
              "<style scoped>\n",
              "    .dataframe tbody tr th:only-of-type {\n",
              "        vertical-align: middle;\n",
              "    }\n",
              "\n",
              "    .dataframe tbody tr th {\n",
              "        vertical-align: top;\n",
              "    }\n",
              "\n",
              "    .dataframe thead th {\n",
              "        text-align: right;\n",
              "    }\n",
              "</style>\n",
              "<table border=\"1\" class=\"dataframe\">\n",
              "  <thead>\n",
              "    <tr style=\"text-align: right;\">\n",
              "      <th></th>\n",
              "      <th>Q1</th>\n",
              "      <th>Q2</th>\n",
              "      <th>Q3</th>\n",
              "      <th>Q4</th>\n",
              "      <th>Q5</th>\n",
              "      <th>Q6</th>\n",
              "      <th>Q7</th>\n",
              "      <th>Q8</th>\n",
              "    </tr>\n",
              "  </thead>\n",
              "  <tbody>\n",
              "    <tr>\n",
              "      <th>0</th>\n",
              "      <td>1.0</td>\n",
              "      <td>1.0</td>\n",
              "      <td>0.0</td>\n",
              "      <td>0.0</td>\n",
              "      <td>0.0</td>\n",
              "      <td>0.0</td>\n",
              "      <td>0.0</td>\n",
              "      <td>0.0</td>\n",
              "    </tr>\n",
              "    <tr>\n",
              "      <th>1</th>\n",
              "      <td>1.0</td>\n",
              "      <td>1.0</td>\n",
              "      <td>1.0</td>\n",
              "      <td>1.0</td>\n",
              "      <td>1.0</td>\n",
              "      <td>1.0</td>\n",
              "      <td>1.0</td>\n",
              "      <td>0.0</td>\n",
              "    </tr>\n",
              "    <tr>\n",
              "      <th>2</th>\n",
              "      <td>1.0</td>\n",
              "      <td>1.0</td>\n",
              "      <td>1.0</td>\n",
              "      <td>1.0</td>\n",
              "      <td>1.0</td>\n",
              "      <td>1.0</td>\n",
              "      <td>1.0</td>\n",
              "      <td>1.0</td>\n",
              "    </tr>\n",
              "    <tr>\n",
              "      <th>3</th>\n",
              "      <td>0.0</td>\n",
              "      <td>0.0</td>\n",
              "      <td>0.0</td>\n",
              "      <td>0.0</td>\n",
              "      <td>0.0</td>\n",
              "      <td>0.0</td>\n",
              "      <td>0.0</td>\n",
              "      <td>0.0</td>\n",
              "    </tr>\n",
              "    <tr>\n",
              "      <th>4</th>\n",
              "      <td>1.0</td>\n",
              "      <td>1.0</td>\n",
              "      <td>1.0</td>\n",
              "      <td>1.0</td>\n",
              "      <td>1.0</td>\n",
              "      <td>1.0</td>\n",
              "      <td>1.0</td>\n",
              "      <td>0.0</td>\n",
              "    </tr>\n",
              "    <tr>\n",
              "      <th>...</th>\n",
              "      <td>...</td>\n",
              "      <td>...</td>\n",
              "      <td>...</td>\n",
              "      <td>...</td>\n",
              "      <td>...</td>\n",
              "      <td>...</td>\n",
              "      <td>...</td>\n",
              "      <td>...</td>\n",
              "    </tr>\n",
              "    <tr>\n",
              "      <th>15838</th>\n",
              "      <td>0.0</td>\n",
              "      <td>0.0</td>\n",
              "      <td>0.0</td>\n",
              "      <td>0.0</td>\n",
              "      <td>0.0</td>\n",
              "      <td>0.0</td>\n",
              "      <td>0.0</td>\n",
              "      <td>0.0</td>\n",
              "    </tr>\n",
              "    <tr>\n",
              "      <th>15839</th>\n",
              "      <td>1.0</td>\n",
              "      <td>1.0</td>\n",
              "      <td>1.0</td>\n",
              "      <td>1.0</td>\n",
              "      <td>1.0</td>\n",
              "      <td>1.0</td>\n",
              "      <td>1.0</td>\n",
              "      <td>0.0</td>\n",
              "    </tr>\n",
              "    <tr>\n",
              "      <th>15840</th>\n",
              "      <td>1.0</td>\n",
              "      <td>0.0</td>\n",
              "      <td>0.0</td>\n",
              "      <td>0.0</td>\n",
              "      <td>0.0</td>\n",
              "      <td>0.0</td>\n",
              "      <td>0.0</td>\n",
              "      <td>0.0</td>\n",
              "    </tr>\n",
              "    <tr>\n",
              "      <th>15841</th>\n",
              "      <td>1.0</td>\n",
              "      <td>1.0</td>\n",
              "      <td>1.0</td>\n",
              "      <td>1.0</td>\n",
              "      <td>1.0</td>\n",
              "      <td>1.0</td>\n",
              "      <td>1.0</td>\n",
              "      <td>0.0</td>\n",
              "    </tr>\n",
              "    <tr>\n",
              "      <th>15842</th>\n",
              "      <td>1.0</td>\n",
              "      <td>1.0</td>\n",
              "      <td>1.0</td>\n",
              "      <td>1.0</td>\n",
              "      <td>1.0</td>\n",
              "      <td>1.0</td>\n",
              "      <td>1.0</td>\n",
              "      <td>0.0</td>\n",
              "    </tr>\n",
              "  </tbody>\n",
              "</table>\n",
              "<p>15843 rows × 8 columns</p>\n",
              "</div>"
            ],
            "text/plain": [
              "        Q1   Q2   Q3   Q4   Q5   Q6   Q7   Q8\n",
              "0      1.0  1.0  0.0  0.0  0.0  0.0  0.0  0.0\n",
              "1      1.0  1.0  1.0  1.0  1.0  1.0  1.0  0.0\n",
              "2      1.0  1.0  1.0  1.0  1.0  1.0  1.0  1.0\n",
              "3      0.0  0.0  0.0  0.0  0.0  0.0  0.0  0.0\n",
              "4      1.0  1.0  1.0  1.0  1.0  1.0  1.0  0.0\n",
              "...    ...  ...  ...  ...  ...  ...  ...  ...\n",
              "15838  0.0  0.0  0.0  0.0  0.0  0.0  0.0  0.0\n",
              "15839  1.0  1.0  1.0  1.0  1.0  1.0  1.0  0.0\n",
              "15840  1.0  0.0  0.0  0.0  0.0  0.0  0.0  0.0\n",
              "15841  1.0  1.0  1.0  1.0  1.0  1.0  1.0  0.0\n",
              "15842  1.0  1.0  1.0  1.0  1.0  1.0  1.0  0.0\n",
              "\n",
              "[15843 rows x 8 columns]"
            ]
          },
          "execution_count": 15,
          "metadata": {},
          "output_type": "execute_result"
        }
      ],
      "source": [
        "data"
      ]
    },
    {
      "cell_type": "markdown",
      "metadata": {},
      "source": [
        "## Clustering"
      ]
    },
    {
      "cell_type": "markdown",
      "metadata": {},
      "source": [
        "### PCA"
      ]
    },
    {
      "cell_type": "code",
      "execution_count": 16,
      "metadata": {},
      "outputs": [],
      "source": [
        "#pip install yellowbrick"
      ]
    },
    {
      "cell_type": "code",
      "execution_count": 17,
      "metadata": {},
      "outputs": [],
      "source": [
        "# Elbow method to determine the appropiate number of clusters\n",
        "from sklearn.cluster import KMeans\n",
        "from sklearn.cluster import AgglomerativeClustering\n",
        "import matplotlib.pyplot as plt\n",
        "import mplcursors"
      ]
    },
    {
      "cell_type": "code",
      "execution_count": 18,
      "metadata": {},
      "outputs": [
        {
          "name": "stdout",
          "output_type": "stream",
          "text": [
            "Elbow Method to determine the number of clusters to be formed:\n"
          ]
        },
        {
          "data": {
            "image/png": "[encoded data removed]",
            "text/plain": [
              "<Figure size 800x550 with 2 Axes>"
            ]
          },
          "metadata": {},
          "output_type": "display_data"
        },
        {
          "data": {
            "text/plain": [
              "<Axes: title={'center': 'Distortion Score Elbow for KMeans Clustering'}, xlabel='k', ylabel='distortion score'>"
            ]
          },
          "execution_count": 18,
          "metadata": {},
          "output_type": "execute_result"
        }
      ],
      "source": [
        "from yellowbrick.cluster import KElbowVisualizer\n",
        "# Quick examination of elbow method to find numbers of clusters to make.\n",
        "print('Elbow Method to determine the number of clusters to be formed:')\n",
        "Elbow_M = KElbowVisualizer(KMeans(), k=10)\n",
        "Elbow_M.fit(data)\n",
        "Elbow_M.show()"
      ]
    },
    {
      "cell_type": "code",
      "execution_count": 19,
      "metadata": {},
      "outputs": [],
      "source": [
        "#pip install mplcursors"
      ]
    },
    {
      "cell_type": "code",
      "execution_count": 62,
      "metadata": {},
      "outputs": [],
      "source": [
        "from sklearn.cluster import KMeans, AgglomerativeClustering, DBSCAN\n",
        "\n",
        "def do_clustering(data: pd.DataFrame, method: str = 'KMeans', **kwargs)->pd.Series:\n",
        "    \n",
        "    d_frame = data.copy()\n",
        "\n",
        "    algorithms = {\n",
        "        'KMeans': KMeans,\n",
        "        'AgglomerativeClustering': AgglomerativeClustering,\n",
        "        'DBSCAN': DBSCAN\n",
        "        # Add more clustering algorithms as needed\n",
        "    }\n",
        "\n",
        "    if method in algorithms:\n",
        "        # Create the clustering algorithm object with specified parameters\n",
        "        algorithm = algorithms[method](**kwargs)\n",
        "        # Fit the algorithm to the data\n",
        "        algorithm.fit(data)\n",
        "        # Return the labels or clustering results\n",
        "        if method == 'DBSCAN':\n",
        "            return algorithm.labels_\n",
        "        else:\n",
        "            return algorithm.labels_.tolist()  # Convert labels to list for compatibility\n",
        "    else:\n",
        "        raise ValueError(f\"Unsupported clustering algorithm: {method}\")\n",
        "\n"
      ]
    },
    {
      "cell_type": "code",
      "execution_count": 66,
      "metadata": {},
      "outputs": [
        {
          "data": {
            "text/plain": [
              "3    0.343180\n",
              "1    0.263902\n",
              "0    0.247680\n",
              "2    0.145238\n",
              "Name: proportion, dtype: float64"
            ]
          },
          "execution_count": 66,
          "metadata": {},
          "output_type": "execute_result"
        }
      ],
      "source": [
        "ac_labels = do_clustering(data, method = 'AgglomerativeClustering', n_clusters = 4)\n",
        "pd.Series(ac_labels).value_counts(normalize = True)"
      ]
    },
    {
      "cell_type": "code",
      "execution_count": 26,
      "metadata": {},
      "outputs": [
        {
          "data": {
            "text/plain": [
              "1    0.344758\n",
              "2    0.266237\n",
              "0    0.243010\n",
              "3    0.145995\n",
              "Name: proportion, dtype: float64"
            ]
          },
          "execution_count": 26,
          "metadata": {},
          "output_type": "execute_result"
        }
      ],
      "source": [
        "km_labels = do_kmeans(data, clusters = 4, method = 'KMeans')\n",
        "pd.Series(km_labels).value_counts(normalize = True)"
      ]
    },
    {
      "cell_type": "code",
      "execution_count": 52,
      "metadata": {},
      "outputs": [],
      "source": [
        "def cluster_analysis(data: pd.DataFrame):\n",
        "    # Create a 2x2 grid of figures for each label\n",
        "    fig, axes = plt.subplots(nrows=2, ncols=2, figsize=(12, 8))\n",
        "\n",
        "    # Flatten the axes array for easier iteration\n",
        "    axes = axes.flatten()\n",
        "\n",
        "    # Create boxplot for each label\n",
        "    for label in range(4):  # Assuming labels are 0, 1, 2, 3\n",
        "        # Filter the data for the current label\n",
        "        df_label = data[data['Labels'] == label]\n",
        "        \n",
        "        # Create boxplot for each column in the current label on the corresponding axis\n",
        "        sns.boxplot(data=df_label.drop(columns='Labels'), ax=axes[label])\n",
        "        \n",
        "        # Set labels and title\n",
        "        axes[label].set_xlabel('Columns (Q1-Q8)')\n",
        "        axes[label].set_ylabel('Values')\n",
        "        axes[label].set_title(f'Boxplot for Cluster {label}')\n",
        "\n",
        "    # Adjust layout and show plot\n",
        "    plt.tight_layout()\n",
        "    plt.show()"
      ]
    },
    {
      "cell_type": "markdown",
      "metadata": {},
      "source": [
        "**Analysis of Clusters KMeans**"
      ]
    },
    {
      "cell_type": "code",
      "execution_count": 53,
      "metadata": {},
      "outputs": [
        {
          "data": {
            "image/png": "[encoded data removed]",
            "text/plain": [
              "<Figure size 1200x800 with 4 Axes>"
            ]
          },
          "metadata": {},
          "output_type": "display_data"
        }
      ],
      "source": [
        "km_data = data.copy()\n",
        "\n",
        "km_data['Labels'] = km_labels\n",
        "\n",
        "cluster_analysis(km_data)"
      ]
    },
    {
      "cell_type": "code",
      "execution_count": 54,
      "metadata": {},
      "outputs": [
        {
          "data": {
            "text/plain": [
              "0.018441558441558443"
            ]
          },
          "execution_count": 54,
          "metadata": {},
          "output_type": "execute_result"
        }
      ],
      "source": [
        "71/3850"
      ]
    },
    {
      "cell_type": "markdown",
      "metadata": {},
      "source": [
        "**Agglomerative Clustering**"
      ]
    },
    {
      "cell_type": "code",
      "execution_count": null,
      "metadata": {},
      "outputs": [],
      "source": []
    }
  ],
  "metadata": {
    "colab": {
      "authorship_tag": "ABX9TyPM6zGZb083OOtiCuA9Gket",
      "include_colab_link": true,
      "provenance": []
    },
    "kernelspec": {
      "display_name": "Python 3",
      "name": "python3"
    },
    "language_info": {
      "codemirror_mode": {
        "name": "ipython",
        "version": 3
      },
      "file_extension": ".py",
      "mimetype": "text/x-python",
      "name": "python",
      "nbconvert_exporter": "python",
      "pygments_lexer": "ipython3",
      "version": "3.11.7"
    }
  },
  "nbformat": 4,
  "nbformat_minor": 0
}
