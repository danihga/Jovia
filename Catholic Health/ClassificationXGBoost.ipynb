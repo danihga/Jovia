{
 "cells": [
  {
   "cell_type": "code",
   "execution_count": 59,
   "metadata": {},
   "outputs": [],
   "source": [
    "import numpy as np\n",
    "import pandas as pd\n",
    "from sklearn.preprocessing import OneHotEncoder\n",
    "import matplotlib.pyplot as plt\n",
    "import seaborn as sns\n",
    "from sklearn.metrics import accuracy_score\n",
    "from sklearn.metrics import classification_report, confusion_matrix, ConfusionMatrixDisplay\n",
    "import xgboost"
   ]
  },
  {
   "cell_type": "markdown",
   "metadata": {},
   "source": [
    "# Data Preprocessing\n",
    "Data Split, Train-test Split, etc..."
   ]
  },
  {
   "cell_type": "code",
   "execution_count": 87,
   "metadata": {},
   "outputs": [
    {
     "name": "stderr",
     "output_type": "stream",
     "text": [
      "/var/folders/g3/ncfg5yhn47v7z7k0wmn723zc0000gn/T/ipykernel_23504/3433434604.py:24: SettingWithCopyWarning: \n",
      "A value is trying to be set on a copy of a slice from a DataFrame\n",
      "\n",
      "See the caveats in the documentation: https://pandas.pydata.org/pandas-docs/stable/user_guide/indexing.html#returning-a-view-versus-a-copy\n",
      "  future_predict.drop(columns = ['Q1'], inplace = True)\n"
     ]
    }
   ],
   "source": [
    "#Import Data\n",
    "\n",
    "data = pd.read_excel(r'/Users/familiadelasherasgarciahijosdanielnuriapablo/Documents/Applied Math and Data Science/Jovia/DeidentifiedSDOHPatientData-v1.xlsx')\n",
    "\n",
    "data.columns = ['id', 'age', 'race', 'ethnicity', 'gender',\n",
    "       'Q1',\n",
    "       'Q2',\n",
    "       'Q3',\n",
    "       'Q4',\n",
    "       'Q5',\n",
    "       'Q6',\n",
    "       'Q7',\n",
    "       'Q8']\n",
    "\n",
    "# Only get the first three columns - predictor, and only question column - label\n",
    "data = data[['age', 'race', 'ethnicity', 'gender',\n",
    "       'Q1']]\n",
    "\n",
    "# Drop Patient declined, Patient unable to answer\n",
    "target_rows     = (data['Q1']=='Patient declined')| (data['Q1']=='Patient unable to answer') | (data['Q1'].isnull())\n",
    "\n",
    "future_predict  = data[target_rows]\n",
    "\n",
    "future_predict.drop(columns = ['Q1'], inplace = True)\n",
    "\n",
    "data       = data[~target_rows]"
   ]
  },
  {
   "cell_type": "code",
   "execution_count": 88,
   "metadata": {},
   "outputs": [],
   "source": [
    "# One Hot Encoding\n",
    "dummies = pd.get_dummies(data[['race', 'ethnicity', 'gender']], drop_first=True, dtype=float)\n",
    "\n",
    "data.drop(columns = ['race', 'ethnicity', 'gender'], inplace =True)\n",
    "\n",
    "data = pd.concat([data, dummies], axis = 1)"
   ]
  },
  {
   "cell_type": "code",
   "execution_count": 89,
   "metadata": {},
   "outputs": [],
   "source": [
    "X = data.drop(columns = 'Q1')\n",
    "y = data['Q1']\n",
    "\n",
    "# Label Encoding\n",
    "mapping = {'Never True':0,\n",
    "       'Sometimes True':1, 'Often True':1}\n",
    "\n",
    "reverse_mapping = {0:'False', 1:'True'}\n",
    "\n",
    "y = y.map(mapping)"
   ]
  },
  {
   "cell_type": "code",
   "execution_count": 90,
   "metadata": {},
   "outputs": [],
   "source": [
    "from sklearn.model_selection import train_test_split\n",
    "\n",
    "# Data Split\n",
    "X_train, X_test, y_train, y_test = train_test_split(X, y, test_size = 0.4, random_state = 0, stratify=y)"
   ]
  },
  {
   "cell_type": "code",
   "execution_count": 64,
   "metadata": {},
   "outputs": [],
   "source": [
    "from imblearn.over_sampling import SMOTE\n",
    "oversample = SMOTE()\n",
    "X_smt_train, y_smt_train = oversample.fit_resample(X_train, y_train)"
   ]
  },
  {
   "cell_type": "code",
   "execution_count": 65,
   "metadata": {},
   "outputs": [],
   "source": [
    "xg_train = xgboost.DMatrix(X_smt_train, label=y_smt_train)\n",
    "xg_test = xgboost.DMatrix(X_test, label=y_test)"
   ]
  },
  {
   "cell_type": "code",
   "execution_count": 78,
   "metadata": {},
   "outputs": [],
   "source": [
    "from sklearn.metrics import make_scorer, precision_score, recall_score\n",
    "\n",
    "def custom_scorer(y_true, y_pred):\n",
    "    recall_label_0 = recall_score(y_true, y_pred, pos_label=0)\n",
    "    recall_label_1 = recall_score(y_true, y_pred, pos_label=1)\n",
    "    precision_label_0 = precision_score(y_true, y_pred, pos_label=0)\n",
    "    precision_label_1 = precision_score(y_true, y_pred, pos_label=1)\n",
    "    weighted_recall = 0 * recall_label_1 + 0 * recall_label_0 +   1 * precision_label_0 + 0 * precision_label_1# Weighted average with more weight on label 1\n",
    "    return weighted_recall\n",
    "scorer = make_scorer(custom_scorer)"
   ]
  },
  {
   "cell_type": "code",
   "execution_count": 79,
   "metadata": {},
   "outputs": [
    {
     "name": "stdout",
     "output_type": "stream",
     "text": [
      "Fitting 5 folds for each of 5 candidates, totalling 25 fits\n",
      "[CV 2/5] END colsample_bytree=0.5, gamma=0.2, learning_rate=0.1, max_depth=6, min_child_weight=3, scale_pos_weight=60;, score=0.987 total time=   0.2s\n",
      "[CV 2/5] END colsample_bytree=0.3, gamma=0.1, learning_rate=0.25, max_depth=6, min_child_weight=3, scale_pos_weight=5;, score=0.985 total time=   0.1s\n",
      "[CV 3/5] END colsample_bytree=0.3, gamma=0.1, learning_rate=0.25, max_depth=6, min_child_weight=3, scale_pos_weight=5;, score=0.985 total time=   0.1s\n",
      "[CV 5/5] END colsample_bytree=0.5, gamma=0.2, learning_rate=0.1, max_depth=6, min_child_weight=3, scale_pos_weight=60;, score=0.989 total time=   0.2s\n",
      "[CV 3/5] END colsample_bytree=0.5, gamma=0.2, learning_rate=0.1, max_depth=6, min_child_weight=3, scale_pos_weight=60;, score=0.992 total time=   0.2s\n",
      "[CV 1/5] END colsample_bytree=0.5, gamma=0.2, learning_rate=0.1, max_depth=6, min_child_weight=3, scale_pos_weight=60;, score=0.985 total time=   0.2s\n",
      "[CV 4/5] END colsample_bytree=0.5, gamma=0.2, learning_rate=0.1, max_depth=6, min_child_weight=3, scale_pos_weight=60;, score=0.988 total time=   0.2s\n",
      "[CV 1/5] END colsample_bytree=0.3, gamma=0.1, learning_rate=0.25, max_depth=6, min_child_weight=3, scale_pos_weight=5;, score=0.985 total time=   0.2s\n",
      "[CV 4/5] END colsample_bytree=0.3, gamma=0.1, learning_rate=0.25, max_depth=6, min_child_weight=3, scale_pos_weight=5;, score=0.985 total time=   0.1s\n",
      "[CV 5/5] END colsample_bytree=0.3, gamma=0.1, learning_rate=0.25, max_depth=6, min_child_weight=3, scale_pos_weight=5;, score=0.985 total time=   0.1s\n",
      "[CV 1/5] END colsample_bytree=0.7, gamma=0.0, learning_rate=0.2, max_depth=3, min_child_weight=3, scale_pos_weight=20;, score=0.984 total time=   0.1s\n",
      "[CV 2/5] END colsample_bytree=0.4, gamma=0.4, learning_rate=0.3, max_depth=4, min_child_weight=7, scale_pos_weight=50;, score=0.988 total time=   0.1s\n",
      "[CV 3/5] END colsample_bytree=0.4, gamma=0.4, learning_rate=0.3, max_depth=4, min_child_weight=7, scale_pos_weight=50;, score=0.992 total time=   0.1s\n",
      "[CV 1/5] END colsample_bytree=0.4, gamma=0.4, learning_rate=0.3, max_depth=4, min_child_weight=7, scale_pos_weight=50;, score=0.986 total time=   0.1s\n",
      "[CV 4/5] END colsample_bytree=0.4, gamma=0.4, learning_rate=0.3, max_depth=4, min_child_weight=7, scale_pos_weight=50;, score=0.990 total time=   0.1s\n",
      "[CV 5/5] END colsample_bytree=0.4, gamma=0.4, learning_rate=0.3, max_depth=4, min_child_weight=7, scale_pos_weight=50;, score=0.990 total time=   0.1s\n",
      "[CV 2/5] END colsample_bytree=0.7, gamma=0.0, learning_rate=0.2, max_depth=3, min_child_weight=3, scale_pos_weight=20;, score=0.988 total time=   0.1s\n",
      "[CV 3/5] END colsample_bytree=0.7, gamma=0.0, learning_rate=0.2, max_depth=3, min_child_weight=3, scale_pos_weight=20;, score=0.989 total time=   0.1s\n",
      "[CV 4/5] END colsample_bytree=0.7, gamma=0.0, learning_rate=0.2, max_depth=3, min_child_weight=3, scale_pos_weight=20;, score=0.988 total time=   0.1s\n",
      "[CV 5/5] END colsample_bytree=0.7, gamma=0.0, learning_rate=0.2, max_depth=3, min_child_weight=3, scale_pos_weight=20;, score=0.990 total time=   0.1s\n",
      "[CV 1/5] END colsample_bytree=0.5, gamma=0.1, learning_rate=0.3, max_depth=4, min_child_weight=7, scale_pos_weight=50;, score=0.984 total time=   0.1s\n",
      "[CV 3/5] END colsample_bytree=0.5, gamma=0.1, learning_rate=0.3, max_depth=4, min_child_weight=7, scale_pos_weight=50;, score=0.993 total time=   0.1s\n",
      "[CV 2/5] END colsample_bytree=0.5, gamma=0.1, learning_rate=0.3, max_depth=4, min_child_weight=7, scale_pos_weight=50;, score=0.988 total time=   0.1s\n",
      "[CV 4/5] END colsample_bytree=0.5, gamma=0.1, learning_rate=0.3, max_depth=4, min_child_weight=7, scale_pos_weight=50;, score=0.989 total time=   0.1s\n",
      "[CV 5/5] END colsample_bytree=0.5, gamma=0.1, learning_rate=0.3, max_depth=4, min_child_weight=7, scale_pos_weight=50;, score=0.989 total time=   0.1s\n"
     ]
    },
    {
     "data": {
      "text/plain": [
       "{'scale_pos_weight': 50,\n",
       " 'min_child_weight': 7,\n",
       " 'max_depth': 4,\n",
       " 'learning_rate': 0.3,\n",
       " 'gamma': 0.4,\n",
       " 'colsample_bytree': 0.4}"
      ]
     },
     "execution_count": 79,
     "metadata": {},
     "output_type": "execute_result"
    }
   ],
   "source": [
    "from sklearn.model_selection import RandomizedSearchCV, GridSearchCV\n",
    "\n",
    "params={\n",
    " \"learning_rate\"    : [0.05, 0.10, 0.15, 0.20, 0.25, 0.30 ] ,\n",
    " \"max_depth\"        : [ 3, 4, 5, 6, 8, 10, 12, 15],\n",
    " \"min_child_weight\" : [ 1, 3, 5, 7 ],\n",
    " \"gamma\"            : [ 0.0, 0.1, 0.2 , 0.3, 0.4 ],\n",
    " \"colsample_bytree\" : [ 0.3, 0.4, 0.5 , 0.7 ],\n",
    " \"scale_pos_weight\" : [1,2,3,4,5,10,20,40,50,60,80,90,100,150,200]\n",
    "    \n",
    "}\n",
    "\n",
    "model = xgboost.XGBClassifier()\n",
    "\n",
    "random_search=RandomizedSearchCV(model,param_distributions=params,n_iter=5,scoring=scorer,n_jobs=-1,cv=5,verbose=3)\n",
    "\n",
    "random_search.fit(X_train,y_train)\n",
    "\n",
    "random_search.best_params_\n"
   ]
  },
  {
   "cell_type": "markdown",
   "metadata": {},
   "source": [
    "## XGBoost"
   ]
  },
  {
   "cell_type": "code",
   "execution_count": 80,
   "metadata": {},
   "outputs": [
    {
     "name": "stdout",
     "output_type": "stream",
     "text": [
      "0.5574365175332527\n",
      "              precision    recall  f1-score   support\n",
      "\n",
      "           0       0.99      0.56      0.71      4074\n",
      "           1       0.02      0.61      0.04        61\n",
      "\n",
      "    accuracy                           0.56      4135\n",
      "   macro avg       0.50      0.58      0.38      4135\n",
      "weighted avg       0.98      0.56      0.70      4135\n",
      "\n"
     ]
    },
    {
     "data": {
      "text/plain": [
       "<sklearn.metrics._plot.confusion_matrix.ConfusionMatrixDisplay at 0x290cda910>"
      ]
     },
     "execution_count": 80,
     "metadata": {},
     "output_type": "execute_result"
    },
    {
     "data": {
      "image/png": "[encoded data removed]",
      "text/plain": [
       "<Figure size 640x480 with 2 Axes>"
      ]
     },
     "metadata": {},
     "output_type": "display_data"
    }
   ],
   "source": [
    "xgb = xgboost.XGBClassifier(\n",
    "    scale_pos_weight=50,\n",
    "    min_child_weight= 7,\n",
    "    max_depth= 4,\n",
    "    learning_rate= 0.3,\n",
    "    gamma= 0.4,\n",
    "    colsample_bytree= 0.4\n",
    " )\n",
    "xgb.fit(X_smt_train,y_smt_train)\n",
    "\n",
    "y_pred = xgb.predict(X_test)\n",
    "\n",
    "print(accuracy_score(y_test,y_pred))\n",
    "from sklearn.metrics import classification_report, confusion_matrix, ConfusionMatrixDisplay\n",
    "\n",
    "print(classification_report(y_test, y_pred))\n",
    "cm = confusion_matrix(y_test, y_pred)\n",
    "dist= ConfusionMatrixDisplay(cm)\n",
    "dist.plot()"
   ]
  },
  {
   "cell_type": "markdown",
   "metadata": {},
   "source": [
    "## Naive Bayes"
   ]
  },
  {
   "cell_type": "code",
   "execution_count": 91,
   "metadata": {},
   "outputs": [
    {
     "name": "stdout",
     "output_type": "stream",
     "text": [
      "0.0249093107617896\n",
      "              precision    recall  f1-score   support\n",
      "\n",
      "           0       1.00      0.01      0.02      4074\n",
      "           1       0.01      1.00      0.03        61\n",
      "\n",
      "    accuracy                           0.02      4135\n",
      "   macro avg       0.51      0.51      0.02      4135\n",
      "weighted avg       0.99      0.02      0.02      4135\n",
      "\n"
     ]
    },
    {
     "data": {
      "text/plain": [
       "<sklearn.metrics._plot.confusion_matrix.ConfusionMatrixDisplay at 0x292a26b10>"
      ]
     },
     "execution_count": 91,
     "metadata": {},
     "output_type": "execute_result"
    },
    {
     "data": {
      "image/png": "[encoded data removed]",
      "text/plain": [
       "<Figure size 640x480 with 2 Axes>"
      ]
     },
     "metadata": {},
     "output_type": "display_data"
    }
   ],
   "source": [
    "from sklearn.naive_bayes import GaussianNB\n",
    "\n",
    "# Build a Gaussian Classifier\n",
    "model = GaussianNB()\n",
    "\n",
    "# Model training\n",
    "model.fit(X_train, y_train)\n",
    "\n",
    "# Predict Output\n",
    "predicted = model.predict(X_test)\n",
    "\n",
    "print(accuracy_score(y_test,predicted))\n",
    "from sklearn.metrics import classification_report, confusion_matrix, ConfusionMatrixDisplay\n",
    "\n",
    "print(classification_report(y_test, predicted))\n",
    "cm = confusion_matrix(y_test, predicted)\n",
    "dist= ConfusionMatrixDisplay(cm)\n",
    "dist.plot()"
   ]
  },
  {
   "cell_type": "code",
   "execution_count": null,
   "metadata": {},
   "outputs": [],
   "source": []
  }
 ],
 "metadata": {
  "kernelspec": {
   "display_name": "MTH695",
   "language": "python",
   "name": "python3"
  },
  "language_info": {
   "codemirror_mode": {
    "name": "ipython",
    "version": 3
   },
   "file_extension": ".py",
   "mimetype": "text/x-python",
   "name": "python",
   "nbconvert_exporter": "python",
   "pygments_lexer": "ipython3",
   "version": "3.11.7"
  }
 },
 "nbformat": 4,
 "nbformat_minor": 2
}
