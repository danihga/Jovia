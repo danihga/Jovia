{
  "cells": [
    {
      "cell_type": "markdown",
      "metadata": {
        "colab_type": "text",
        "id": "view-in-github"
      },
      "source": [
        "<a href=\"https://colab.research.google.com/github/danihga/Jovia/blob/main/CatholicHealth_DecisionTrees.ipynb\" target=\"_parent\"><img src=\"https://colab.research.google.com/assets/colab-badge.svg\" alt=\"Open In Colab\"/></a>"
      ]
    },
    {
      "cell_type": "code",
      "execution_count": null,
      "metadata": {
        "id": "jpAl_YEOQXjE"
      },
      "outputs": [],
      "source": [
        "import numpy as np\n",
        "import pandas as pd\n",
        "from sklearn.preprocessing import OneHotEncoder\n",
        "import matplotlib.pyplot as plt\n",
        "import seaborn as sns\n",
        "import os\n",
        "from sklearn.tree import DecisionTreeClassifier\n",
        "from sklearn import tree\n",
        "from sklearn.metrics import accuracy_score"
      ]
    },
    {
      "cell_type": "code",
      "execution_count": null,
      "metadata": {
        "colab": {
          "base_uri": "https://localhost:8080/",
          "height": 533
        },
        "id": "JwFf4MzlRIiV",
        "outputId": "f41703ef-bb8d-4c97-edfd-5353c574aa0f"
      },
      "outputs": [
        {
          "data": {
            "application/vnd.google.colaboratory.intrinsic+json": {
              "summary": "{\n  \"name\": \"data\",\n  \"rows\": 6,\n  \"fields\": [\n    {\n      \"column\": \"id\",\n      \"properties\": {\n        \"dtype\": \"number\",\n        \"std\": 5560,\n        \"min\": 3055,\n        \"max\": 16713,\n        \"num_unique_values\": 6,\n        \"samples\": [\n          9466,\n          4701,\n          3609\n        ],\n        \"semantic_type\": \"\",\n        \"description\": \"\"\n      }\n    },\n    {\n      \"column\": \"age\",\n      \"properties\": {\n        \"dtype\": \"number\",\n        \"std\": 16,\n        \"min\": 33,\n        \"max\": 79,\n        \"num_unique_values\": 6,\n        \"samples\": [\n          69,\n          63,\n          60\n        ],\n        \"semantic_type\": \"\",\n        \"description\": \"\"\n      }\n    },\n    {\n      \"column\": \"race\",\n      \"properties\": {\n        \"dtype\": \"category\",\n        \"num_unique_values\": 2,\n        \"samples\": [\n          \" White or Caucasian\",\n          \" Asian, Asian Indian\"\n        ],\n        \"semantic_type\": \"\",\n        \"description\": \"\"\n      }\n    },\n    {\n      \"column\": \"ethnicity\",\n      \"properties\": {\n        \"dtype\": \"category\",\n        \"num_unique_values\": 1,\n        \"samples\": [\n          \"Not Hispanic or Latino\"\n        ],\n        \"semantic_type\": \"\",\n        \"description\": \"\"\n      }\n    },\n    {\n      \"column\": \"gender\",\n      \"properties\": {\n        \"dtype\": \"category\",\n        \"num_unique_values\": 2,\n        \"samples\": [\n          \"Female\"\n        ],\n        \"semantic_type\": \"\",\n        \"description\": \"\"\n      }\n    },\n    {\n      \"column\": \"food would run out\",\n      \"properties\": {\n        \"dtype\": \"category\",\n        \"num_unique_values\": 1,\n        \"samples\": [\n          \"Never True\"\n        ],\n        \"semantic_type\": \"\",\n        \"description\": \"\"\n      }\n    },\n    {\n      \"column\": \"Food didn\\u2019t last and no money for more\",\n      \"properties\": {\n        \"dtype\": \"category\",\n        \"num_unique_values\": 1,\n        \"samples\": [\n          \"Never True\"\n        ],\n        \"semantic_type\": \"\",\n        \"description\": \"\"\n      }\n    },\n    {\n      \"column\": \"Lack transportation kept from medical appointments or medications?\",\n      \"properties\": {\n        \"dtype\": \"category\",\n        \"num_unique_values\": 1,\n        \"samples\": [\n          \"No\"\n        ],\n        \"semantic_type\": \"\",\n        \"description\": \"\"\n      }\n    },\n    {\n      \"column\": \"Lack transportation kept from meetings, work, or things needed for daily living?\",\n      \"properties\": {\n        \"dtype\": \"category\",\n        \"num_unique_values\": 1,\n        \"samples\": [\n          \"No\"\n        ],\n        \"semantic_type\": \"\",\n        \"description\": \"\"\n      }\n    },\n    {\n      \"column\": \"Not able to pay the mortgage or rent on time?\",\n      \"properties\": {\n        \"dtype\": \"category\",\n        \"num_unique_values\": 1,\n        \"samples\": [\n          \"No\"\n        ],\n        \"semantic_type\": \"\",\n        \"description\": \"\"\n      }\n    },\n    {\n      \"column\": \"Not have a steady place to sleep or slept in a shelter?\",\n      \"properties\": {\n        \"dtype\": \"category\",\n        \"num_unique_values\": 1,\n        \"samples\": [\n          \"No\"\n        ],\n        \"semantic_type\": \"\",\n        \"description\": \"\"\n      }\n    },\n    {\n      \"column\": \"Electric, gas, oil, or water company threatened to shut off services?\",\n      \"properties\": {\n        \"dtype\": \"category\",\n        \"num_unique_values\": 1,\n        \"samples\": [\n          \"No\"\n        ],\n        \"semantic_type\": \"\",\n        \"description\": \"\"\n      }\n    },\n    {\n      \"column\": \"Fearful of physical/emotional abuse from relative?\",\n      \"properties\": {\n        \"dtype\": \"category\",\n        \"num_unique_values\": 1,\n        \"samples\": [\n          \"No\"\n        ],\n        \"semantic_type\": \"\",\n        \"description\": \"\"\n      }\n    }\n  ]\n}",
              "type": "dataframe"
            },
            "text/html": [
              "\n",
              "  <div id=\"df-32a39240-fccd-45d1-adea-683a3916c811\" class=\"colab-df-container\">\n",
              "    <div>\n",
              "<style scoped>\n",
              "    .dataframe tbody tr th:only-of-type {\n",
              "        vertical-align: middle;\n",
              "    }\n",
              "\n",
              "    .dataframe tbody tr th {\n",
              "        vertical-align: top;\n",
              "    }\n",
              "\n",
              "    .dataframe thead th {\n",
              "        text-align: right;\n",
              "    }\n",
              "</style>\n",
              "<table border=\"1\" class=\"dataframe\">\n",
              "  <thead>\n",
              "    <tr style=\"text-align: right;\">\n",
              "      <th></th>\n",
              "      <th>id</th>\n",
              "      <th>age</th>\n",
              "      <th>race</th>\n",
              "      <th>ethnicity</th>\n",
              "      <th>gender</th>\n",
              "      <th>food would run out</th>\n",
              "      <th>Food didn’t last and no money for more</th>\n",
              "      <th>Lack transportation kept from medical appointments or medications?</th>\n",
              "      <th>Lack transportation kept from meetings, work, or things needed for daily living?</th>\n",
              "      <th>Not able to pay the mortgage or rent on time?</th>\n",
              "      <th>Not have a steady place to sleep or slept in a shelter?</th>\n",
              "      <th>Electric, gas, oil, or water company threatened to shut off services?</th>\n",
              "      <th>Fearful of physical/emotional abuse from relative?</th>\n",
              "    </tr>\n",
              "  </thead>\n",
              "  <tbody>\n",
              "    <tr>\n",
              "      <th>8466</th>\n",
              "      <td>9466</td>\n",
              "      <td>69</td>\n",
              "      <td>Asian, Asian Indian</td>\n",
              "      <td>Not Hispanic or Latino</td>\n",
              "      <td>Male</td>\n",
              "      <td>Never True</td>\n",
              "      <td>Never True</td>\n",
              "      <td>No</td>\n",
              "      <td>No</td>\n",
              "      <td>No</td>\n",
              "      <td>No</td>\n",
              "      <td>No</td>\n",
              "      <td>No</td>\n",
              "    </tr>\n",
              "    <tr>\n",
              "      <th>3701</th>\n",
              "      <td>4701</td>\n",
              "      <td>63</td>\n",
              "      <td>White or Caucasian</td>\n",
              "      <td>Not Hispanic or Latino</td>\n",
              "      <td>Male</td>\n",
              "      <td>Never True</td>\n",
              "      <td>Never True</td>\n",
              "      <td>No</td>\n",
              "      <td>No</td>\n",
              "      <td>No</td>\n",
              "      <td>No</td>\n",
              "      <td>No</td>\n",
              "      <td>NaN</td>\n",
              "    </tr>\n",
              "    <tr>\n",
              "      <th>15713</th>\n",
              "      <td>16713</td>\n",
              "      <td>76</td>\n",
              "      <td>White or Caucasian</td>\n",
              "      <td>Not Hispanic or Latino</td>\n",
              "      <td>Male</td>\n",
              "      <td>NaN</td>\n",
              "      <td>NaN</td>\n",
              "      <td>NaN</td>\n",
              "      <td>NaN</td>\n",
              "      <td>NaN</td>\n",
              "      <td>NaN</td>\n",
              "      <td>NaN</td>\n",
              "      <td>NaN</td>\n",
              "    </tr>\n",
              "    <tr>\n",
              "      <th>11774</th>\n",
              "      <td>12774</td>\n",
              "      <td>79</td>\n",
              "      <td>White or Caucasian</td>\n",
              "      <td>Not Hispanic or Latino</td>\n",
              "      <td>Female</td>\n",
              "      <td>NaN</td>\n",
              "      <td>NaN</td>\n",
              "      <td>NaN</td>\n",
              "      <td>NaN</td>\n",
              "      <td>NaN</td>\n",
              "      <td>NaN</td>\n",
              "      <td>NaN</td>\n",
              "      <td>NaN</td>\n",
              "    </tr>\n",
              "    <tr>\n",
              "      <th>2055</th>\n",
              "      <td>3055</td>\n",
              "      <td>33</td>\n",
              "      <td>White or Caucasian</td>\n",
              "      <td>Not Hispanic or Latino</td>\n",
              "      <td>Female</td>\n",
              "      <td>Never True</td>\n",
              "      <td>Never True</td>\n",
              "      <td>No</td>\n",
              "      <td>No</td>\n",
              "      <td>No</td>\n",
              "      <td>No</td>\n",
              "      <td>No</td>\n",
              "      <td>NaN</td>\n",
              "    </tr>\n",
              "    <tr>\n",
              "      <th>2609</th>\n",
              "      <td>3609</td>\n",
              "      <td>60</td>\n",
              "      <td>White or Caucasian</td>\n",
              "      <td>Not Hispanic or Latino</td>\n",
              "      <td>Female</td>\n",
              "      <td>NaN</td>\n",
              "      <td>NaN</td>\n",
              "      <td>NaN</td>\n",
              "      <td>NaN</td>\n",
              "      <td>NaN</td>\n",
              "      <td>NaN</td>\n",
              "      <td>NaN</td>\n",
              "      <td>NaN</td>\n",
              "    </tr>\n",
              "  </tbody>\n",
              "</table>\n",
              "</div>\n",
              "    <div class=\"colab-df-buttons\">\n",
              "\n",
              "  <div class=\"colab-df-container\">\n",
              "    <button class=\"colab-df-convert\" onclick=\"convertToInteractive('df-32a39240-fccd-45d1-adea-683a3916c811')\"\n",
              "            title=\"Convert this dataframe to an interactive table.\"\n",
              "            style=\"display:none;\">\n",
              "\n",
              "  <svg xmlns=\"http://www.w3.org/2000/svg\" height=\"24px\" viewBox=\"0 -960 960 960\">\n",
              "    <path d=\"M120-120v-720h720v720H120Zm60-500h600v-160H180v160Zm220 220h160v-160H400v160Zm0 220h160v-160H400v160ZM180-400h160v-160H180v160Zm440 0h160v-160H620v160ZM180-180h160v-160H180v160Zm440 0h160v-160H620v160Z\"/>\n",
              "  </svg>\n",
              "    </button>\n",
              "\n",
              "  <style>\n",
              "    .colab-df-container {\n",
              "      display:flex;\n",
              "      gap: 12px;\n",
              "    }\n",
              "\n",
              "    .colab-df-convert {\n",
              "      background-color: #E8F0FE;\n",
              "      border: none;\n",
              "      border-radius: 50%;\n",
              "      cursor: pointer;\n",
              "      display: none;\n",
              "      fill: #1967D2;\n",
              "      height: 32px;\n",
              "      padding: 0 0 0 0;\n",
              "      width: 32px;\n",
              "    }\n",
              "\n",
              "    .colab-df-convert:hover {\n",
              "      background-color: #E2EBFA;\n",
              "      box-shadow: 0px 1px 2px rgba(60, 64, 67, 0.3), 0px 1px 3px 1px rgba(60, 64, 67, 0.15);\n",
              "      fill: #174EA6;\n",
              "    }\n",
              "\n",
              "    .colab-df-buttons div {\n",
              "      margin-bottom: 4px;\n",
              "    }\n",
              "\n",
              "    [theme=dark] .colab-df-convert {\n",
              "      background-color: #3B4455;\n",
              "      fill: #D2E3FC;\n",
              "    }\n",
              "\n",
              "    [theme=dark] .colab-df-convert:hover {\n",
              "      background-color: #434B5C;\n",
              "      box-shadow: 0px 1px 3px 1px rgba(0, 0, 0, 0.15);\n",
              "      filter: drop-shadow(0px 1px 2px rgba(0, 0, 0, 0.3));\n",
              "      fill: #FFFFFF;\n",
              "    }\n",
              "  </style>\n",
              "\n",
              "    <script>\n",
              "      const buttonEl =\n",
              "        document.querySelector('#df-32a39240-fccd-45d1-adea-683a3916c811 button.colab-df-convert');\n",
              "      buttonEl.style.display =\n",
              "        google.colab.kernel.accessAllowed ? 'block' : 'none';\n",
              "\n",
              "      async function convertToInteractive(key) {\n",
              "        const element = document.querySelector('#df-32a39240-fccd-45d1-adea-683a3916c811');\n",
              "        const dataTable =\n",
              "          await google.colab.kernel.invokeFunction('convertToInteractive',\n",
              "                                                    [key], {});\n",
              "        if (!dataTable) return;\n",
              "\n",
              "        const docLinkHtml = 'Like what you see? Visit the ' +\n",
              "          '<a target=\"_blank\" href=https://colab.research.google.com/notebooks/data_table.ipynb>data table notebook</a>'\n",
              "          + ' to learn more about interactive tables.';\n",
              "        element.innerHTML = '';\n",
              "        dataTable['output_type'] = 'display_data';\n",
              "        await google.colab.output.renderOutput(dataTable, element);\n",
              "        const docLink = document.createElement('div');\n",
              "        docLink.innerHTML = docLinkHtml;\n",
              "        element.appendChild(docLink);\n",
              "      }\n",
              "    </script>\n",
              "  </div>\n",
              "\n",
              "\n",
              "<div id=\"df-ab72edaa-1e8b-4512-810c-04ce03c10da2\">\n",
              "  <button class=\"colab-df-quickchart\" onclick=\"quickchart('df-ab72edaa-1e8b-4512-810c-04ce03c10da2')\"\n",
              "            title=\"Suggest charts\"\n",
              "            style=\"display:none;\">\n",
              "\n",
              "<svg xmlns=\"http://www.w3.org/2000/svg\" height=\"24px\"viewBox=\"0 0 24 24\"\n",
              "     width=\"24px\">\n",
              "    <g>\n",
              "        <path d=\"M19 3H5c-1.1 0-2 .9-2 2v14c0 1.1.9 2 2 2h14c1.1 0 2-.9 2-2V5c0-1.1-.9-2-2-2zM9 17H7v-7h2v7zm4 0h-2V7h2v10zm4 0h-2v-4h2v4z\"/>\n",
              "    </g>\n",
              "</svg>\n",
              "  </button>\n",
              "\n",
              "<style>\n",
              "  .colab-df-quickchart {\n",
              "      --bg-color: #E8F0FE;\n",
              "      --fill-color: #1967D2;\n",
              "      --hover-bg-color: #E2EBFA;\n",
              "      --hover-fill-color: #174EA6;\n",
              "      --disabled-fill-color: #AAA;\n",
              "      --disabled-bg-color: #DDD;\n",
              "  }\n",
              "\n",
              "  [theme=dark] .colab-df-quickchart {\n",
              "      --bg-color: #3B4455;\n",
              "      --fill-color: #D2E3FC;\n",
              "      --hover-bg-color: #434B5C;\n",
              "      --hover-fill-color: #FFFFFF;\n",
              "      --disabled-bg-color: #3B4455;\n",
              "      --disabled-fill-color: #666;\n",
              "  }\n",
              "\n",
              "  .colab-df-quickchart {\n",
              "    background-color: var(--bg-color);\n",
              "    border: none;\n",
              "    border-radius: 50%;\n",
              "    cursor: pointer;\n",
              "    display: none;\n",
              "    fill: var(--fill-color);\n",
              "    height: 32px;\n",
              "    padding: 0;\n",
              "    width: 32px;\n",
              "  }\n",
              "\n",
              "  .colab-df-quickchart:hover {\n",
              "    background-color: var(--hover-bg-color);\n",
              "    box-shadow: 0 1px 2px rgba(60, 64, 67, 0.3), 0 1px 3px 1px rgba(60, 64, 67, 0.15);\n",
              "    fill: var(--button-hover-fill-color);\n",
              "  }\n",
              "\n",
              "  .colab-df-quickchart-complete:disabled,\n",
              "  .colab-df-quickchart-complete:disabled:hover {\n",
              "    background-color: var(--disabled-bg-color);\n",
              "    fill: var(--disabled-fill-color);\n",
              "    box-shadow: none;\n",
              "  }\n",
              "\n",
              "  .colab-df-spinner {\n",
              "    border: 2px solid var(--fill-color);\n",
              "    border-color: transparent;\n",
              "    border-bottom-color: var(--fill-color);\n",
              "    animation:\n",
              "      spin 1s steps(1) infinite;\n",
              "  }\n",
              "\n",
              "  @keyframes spin {\n",
              "    0% {\n",
              "      border-color: transparent;\n",
              "      border-bottom-color: var(--fill-color);\n",
              "      border-left-color: var(--fill-color);\n",
              "    }\n",
              "    20% {\n",
              "      border-color: transparent;\n",
              "      border-left-color: var(--fill-color);\n",
              "      border-top-color: var(--fill-color);\n",
              "    }\n",
              "    30% {\n",
              "      border-color: transparent;\n",
              "      border-left-color: var(--fill-color);\n",
              "      border-top-color: var(--fill-color);\n",
              "      border-right-color: var(--fill-color);\n",
              "    }\n",
              "    40% {\n",
              "      border-color: transparent;\n",
              "      border-right-color: var(--fill-color);\n",
              "      border-top-color: var(--fill-color);\n",
              "    }\n",
              "    60% {\n",
              "      border-color: transparent;\n",
              "      border-right-color: var(--fill-color);\n",
              "    }\n",
              "    80% {\n",
              "      border-color: transparent;\n",
              "      border-right-color: var(--fill-color);\n",
              "      border-bottom-color: var(--fill-color);\n",
              "    }\n",
              "    90% {\n",
              "      border-color: transparent;\n",
              "      border-bottom-color: var(--fill-color);\n",
              "    }\n",
              "  }\n",
              "</style>\n",
              "\n",
              "  <script>\n",
              "    async function quickchart(key) {\n",
              "      const quickchartButtonEl =\n",
              "        document.querySelector('#' + key + ' button');\n",
              "      quickchartButtonEl.disabled = true;  // To prevent multiple clicks.\n",
              "      quickchartButtonEl.classList.add('colab-df-spinner');\n",
              "      try {\n",
              "        const charts = await google.colab.kernel.invokeFunction(\n",
              "            'suggestCharts', [key], {});\n",
              "      } catch (error) {\n",
              "        console.error('Error during call to suggestCharts:', error);\n",
              "      }\n",
              "      quickchartButtonEl.classList.remove('colab-df-spinner');\n",
              "      quickchartButtonEl.classList.add('colab-df-quickchart-complete');\n",
              "    }\n",
              "    (() => {\n",
              "      let quickchartButtonEl =\n",
              "        document.querySelector('#df-ab72edaa-1e8b-4512-810c-04ce03c10da2 button');\n",
              "      quickchartButtonEl.style.display =\n",
              "        google.colab.kernel.accessAllowed ? 'block' : 'none';\n",
              "    })();\n",
              "  </script>\n",
              "</div>\n",
              "    </div>\n",
              "  </div>\n"
            ],
            "text/plain": [
              "          id  age                  race               ethnicity  gender  \\\n",
              "8466    9466   69   Asian, Asian Indian  Not Hispanic or Latino    Male   \n",
              "3701    4701   63    White or Caucasian  Not Hispanic or Latino    Male   \n",
              "15713  16713   76    White or Caucasian  Not Hispanic or Latino    Male   \n",
              "11774  12774   79    White or Caucasian  Not Hispanic or Latino  Female   \n",
              "2055    3055   33    White or Caucasian  Not Hispanic or Latino  Female   \n",
              "2609    3609   60    White or Caucasian  Not Hispanic or Latino  Female   \n",
              "\n",
              "      food would run out Food didn’t last and no money for more  \\\n",
              "8466          Never True                             Never True   \n",
              "3701          Never True                             Never True   \n",
              "15713                NaN                                    NaN   \n",
              "11774                NaN                                    NaN   \n",
              "2055          Never True                             Never True   \n",
              "2609                 NaN                                    NaN   \n",
              "\n",
              "      Lack transportation kept from medical appointments or medications?  \\\n",
              "8466                                                  No                   \n",
              "3701                                                  No                   \n",
              "15713                                                NaN                   \n",
              "11774                                                NaN                   \n",
              "2055                                                  No                   \n",
              "2609                                                 NaN                   \n",
              "\n",
              "      Lack transportation kept from meetings, work, or things needed for daily living?  \\\n",
              "8466                                                  No                                 \n",
              "3701                                                  No                                 \n",
              "15713                                                NaN                                 \n",
              "11774                                                NaN                                 \n",
              "2055                                                  No                                 \n",
              "2609                                                 NaN                                 \n",
              "\n",
              "      Not able to pay the mortgage or rent on time?  \\\n",
              "8466                                             No   \n",
              "3701                                             No   \n",
              "15713                                           NaN   \n",
              "11774                                           NaN   \n",
              "2055                                             No   \n",
              "2609                                            NaN   \n",
              "\n",
              "      Not have a steady place to sleep or slept in a shelter?  \\\n",
              "8466                                                  No        \n",
              "3701                                                  No        \n",
              "15713                                                NaN        \n",
              "11774                                                NaN        \n",
              "2055                                                  No        \n",
              "2609                                                 NaN        \n",
              "\n",
              "      Electric, gas, oil, or water company threatened to shut off services?  \\\n",
              "8466                                                  No                      \n",
              "3701                                                  No                      \n",
              "15713                                                NaN                      \n",
              "11774                                                NaN                      \n",
              "2055                                                  No                      \n",
              "2609                                                 NaN                      \n",
              "\n",
              "      Fearful of physical/emotional abuse from relative?  \n",
              "8466                                                  No  \n",
              "3701                                                 NaN  \n",
              "15713                                                NaN  \n",
              "11774                                                NaN  \n",
              "2055                                                 NaN  \n",
              "2609                                                 NaN  "
            ]
          },
          "execution_count": 2,
          "metadata": {},
          "output_type": "execute_result"
        }
      ],
      "source": [
        "#Import Data\n",
        "\n",
        "data = pd.read_excel(r'/content/DeidentifiedSDOHPatientData-v1.xlsx')\n",
        "\n",
        "data.sample(6)\n",
        "\n",
        "data.columns = ['id', 'age', 'race', 'ethnicity', 'gender',\n",
        "       'food would run out',\n",
        "       'Food didn’t last and no money for more',\n",
        "       'Lack transportation kept from medical appointments or medications?',\n",
        "       'Lack transportation kept from meetings, work, or things needed for daily living?',\n",
        "       'Not able to pay the mortgage or rent on time?',\n",
        "       'Not have a steady place to sleep or slept in a shelter?',\n",
        "       'Electric, gas, oil, or water company threatened to shut off services?',\n",
        "       'Fearful of physical/emotional abuse from relative?']\n",
        "\n",
        "data.sample(6)"
      ]
    },
    {
      "cell_type": "code",
      "execution_count": null,
      "metadata": {
        "colab": {
          "base_uri": "https://localhost:8080/"
        },
        "id": "RkgaDSBvT2Ej",
        "outputId": "052b3fc2-612e-4e7b-eece-01a2bca43460"
      },
      "outputs": [
        {
          "data": {
            "text/plain": [
              "(15843, 13)"
            ]
          },
          "execution_count": 3,
          "metadata": {},
          "output_type": "execute_result"
        }
      ],
      "source": [
        "data.shape"
      ]
    },
    {
      "cell_type": "markdown",
      "metadata": {
        "id": "TXDochAdUs_7"
      },
      "source": [
        "**Proportions of Nulls**"
      ]
    },
    {
      "cell_type": "code",
      "execution_count": null,
      "metadata": {
        "colab": {
          "base_uri": "https://localhost:8080/"
        },
        "id": "Ui-rdTLGTmcO",
        "outputId": "1e2f5d0f-98a5-4c92-f732-85c3d93d3f13"
      },
      "outputs": [
        {
          "data": {
            "text/plain": [
              "id                                                                                  0.000000\n",
              "age                                                                                 0.000000\n",
              "race                                                                                0.000000\n",
              "ethnicity                                                                           0.000000\n",
              "gender                                                                              0.000000\n",
              "food would run out                                                                  0.296598\n",
              "Food didn’t last and no money for more                                              0.297166\n",
              "Lack transportation kept from medical appointments or medications?                  0.436660\n",
              "Lack transportation kept from meetings, work, or things needed for daily living?    0.437102\n",
              "Not able to pay the mortgage or rent on time?                                       0.457552\n",
              "Not have a steady place to sleep or slept in a shelter?                             0.457931\n",
              "Electric, gas, oil, or water company threatened to shut off services?               0.437796\n",
              "Fearful of physical/emotional abuse from relative?                                  0.734267\n",
              "dtype: float64"
            ]
          },
          "execution_count": 4,
          "metadata": {},
          "output_type": "execute_result"
        }
      ],
      "source": [
        "data.isnull().sum()/15843"
      ]
    },
    {
      "cell_type": "markdown",
      "metadata": {
        "id": "CM9aV5-SUke-"
      },
      "source": [
        "**Drop some races?**"
      ]
    },
    {
      "cell_type": "code",
      "execution_count": null,
      "metadata": {
        "colab": {
          "base_uri": "https://localhost:8080/"
        },
        "id": "6__S6NHRTen2",
        "outputId": "920ca1e7-dc27-43ad-d441-2b15a2949274"
      },
      "outputs": [
        {
          "data": {
            "text/plain": [
              " White or Caucasian              0.718046\n",
              " Other                           0.128637\n",
              " Black or African American       0.109701\n",
              " Other Asian                     0.009847\n",
              " Asian Indian                    0.006943\n",
              "                                   ...   \n",
              " Other Asian, Vietnamese         0.000063\n",
              " Filipino, White or Caucasian    0.000063\n",
              " Samoan, Other Asian             0.000063\n",
              " Other, Samoan                   0.000063\n",
              " White or Caucasian, Korean      0.000063\n",
              "Name: race, Length: 65, dtype: float64"
            ]
          },
          "execution_count": 5,
          "metadata": {},
          "output_type": "execute_result"
        }
      ],
      "source": [
        "data['race'].value_counts(normalize=True)#.cumsum()"
      ]
    },
    {
      "cell_type": "markdown",
      "metadata": {
        "id": "C3sn3mJJVKwK"
      },
      "source": [
        "**Same for ethnicity?**"
      ]
    },
    {
      "cell_type": "code",
      "execution_count": null,
      "metadata": {
        "colab": {
          "base_uri": "https://localhost:8080/"
        },
        "id": "_bq0S_D0U9On",
        "outputId": "6d99aed7-f76a-4329-ddcf-6efffe8da01e"
      },
      "outputs": [
        {
          "data": {
            "text/plain": [
              "Not Hispanic or Latino                  0.846872\n",
              "Hispanic or Latino                      0.136148\n",
              "Unknown                                 0.015022\n",
              "Puerto Rican                            0.001199\n",
              "Patient Refused                         0.000379\n",
              "Mexican, Mexican American, Chicano/a    0.000252\n",
              "Cuban                                   0.000126\n",
              "Name: ethnicity, dtype: float64"
            ]
          },
          "execution_count": 6,
          "metadata": {},
          "output_type": "execute_result"
        }
      ],
      "source": [
        "data['ethnicity'].value_counts(normalize=True)#.cumsum()"
      ]
    },
    {
      "cell_type": "markdown",
      "metadata": {
        "id": "L-q_KNCAVUCs"
      },
      "source": [
        "**Gender proportions are fine**"
      ]
    },
    {
      "cell_type": "code",
      "execution_count": null,
      "metadata": {
        "colab": {
          "base_uri": "https://localhost:8080/"
        },
        "id": "LweSajI5VN_z",
        "outputId": "c8738940-0b53-4fd8-ab0c-e4f36b49f6c2"
      },
      "outputs": [
        {
          "data": {
            "text/plain": [
              "Female    0.547939\n",
              "Male      0.452061\n",
              "Name: gender, dtype: float64"
            ]
          },
          "execution_count": 7,
          "metadata": {},
          "output_type": "execute_result"
        }
      ],
      "source": [
        "data['gender'].value_counts(normalize=True)#.cumsum()"
      ]
    },
    {
      "cell_type": "markdown",
      "metadata": {
        "id": "g_fQCURbWkH6"
      },
      "source": [
        "**Proportions of the answers to the questions**"
      ]
    },
    {
      "cell_type": "code",
      "execution_count": null,
      "metadata": {
        "colab": {
          "base_uri": "https://localhost:8080/"
        },
        "id": "vo9BaKhkVXKd",
        "outputId": "21ab002e-11f8-4ee3-d3b1-f18f126a8002"
      },
      "outputs": [
        {
          "data": {
            "text/plain": [
              "Never True                  0.913855\n",
              "Patient declined            0.052046\n",
              "Patient unable to answer    0.020459\n",
              "Sometimes True              0.009512\n",
              "Often True                  0.004128\n",
              "Name: food would run out, dtype: float64"
            ]
          },
          "execution_count": 8,
          "metadata": {},
          "output_type": "execute_result"
        }
      ],
      "source": [
        "data['food would run out'].value_counts(normalize=True)#.cumsum()"
      ]
    },
    {
      "cell_type": "code",
      "execution_count": null,
      "metadata": {
        "colab": {
          "base_uri": "https://localhost:8080/"
        },
        "id": "hEN58VrUVnlG",
        "outputId": "ed1aaf8d-4eb8-4271-81f6-0f9df76cdfad"
      },
      "outputs": [
        {
          "data": {
            "text/plain": [
              "Never True                  0.914683\n",
              "Patient declined            0.051998\n",
              "Patient unable to answer    0.020296\n",
              "Sometimes True              0.008801\n",
              "Often True                  0.004221\n",
              "Name: Food didn’t last and no money for more, dtype: float64"
            ]
          },
          "execution_count": 9,
          "metadata": {},
          "output_type": "execute_result"
        }
      ],
      "source": [
        "data['Food didn’t last and no money for more'].value_counts(normalize=True)#.cumsum()"
      ]
    },
    {
      "cell_type": "code",
      "execution_count": null,
      "metadata": {
        "colab": {
          "base_uri": "https://localhost:8080/"
        },
        "id": "dHxWH8jCVnpV",
        "outputId": "4ba5aa51-40ee-424e-dece-7d126d6c4d4f"
      },
      "outputs": [
        {
          "data": {
            "text/plain": [
              "No                          0.889300\n",
              "Patient declined            0.070140\n",
              "Patient unable to answer    0.025098\n",
              "Yes                         0.015462\n",
              "Name: Lack transportation kept from medical appointments or medications?, dtype: float64"
            ]
          },
          "execution_count": 10,
          "metadata": {},
          "output_type": "execute_result"
        }
      ],
      "source": [
        "data['Lack transportation kept from medical appointments or medications?'].value_counts(normalize=True)#.cumsum()"
      ]
    },
    {
      "cell_type": "code",
      "execution_count": null,
      "metadata": {
        "colab": {
          "base_uri": "https://localhost:8080/"
        },
        "id": "MdUbNggGVnt8",
        "outputId": "f34a90ff-841c-4f23-ff53-cd3a230f5727"
      },
      "outputs": [
        {
          "data": {
            "text/plain": [
              "No                          0.891792\n",
              "Patient declined            0.069298\n",
              "Patient unable to answer    0.025454\n",
              "Yes                         0.013456\n",
              "Name: Lack transportation kept from meetings, work, or things needed for daily living?, dtype: float64"
            ]
          },
          "execution_count": 11,
          "metadata": {},
          "output_type": "execute_result"
        }
      ],
      "source": [
        "data['Lack transportation kept from meetings, work, or things needed for daily living?'].value_counts(normalize=True)#.cumsum()"
      ]
    },
    {
      "cell_type": "code",
      "execution_count": null,
      "metadata": {
        "colab": {
          "base_uri": "https://localhost:8080/"
        },
        "id": "2NoczpGxVnzV",
        "outputId": "555f984a-8c98-4134-985d-a402e617fd6c"
      },
      "outputs": [
        {
          "data": {
            "text/plain": [
              "No                          0.919479\n",
              "Patient declined            0.036421\n",
              "Patient unable to answer    0.026530\n",
              "Yes                         0.017570\n",
              "Name: Not able to pay the mortgage or rent on time?, dtype: float64"
            ]
          },
          "execution_count": 12,
          "metadata": {},
          "output_type": "execute_result"
        }
      ],
      "source": [
        "data['Not able to pay the mortgage or rent on time?'].value_counts(normalize=True)#.cumsum()"
      ]
    },
    {
      "cell_type": "code",
      "execution_count": null,
      "metadata": {
        "colab": {
          "base_uri": "https://localhost:8080/"
        },
        "id": "cX9KUAxPVn39",
        "outputId": "694c7fa5-33d8-4326-eff9-dc9840cba8dd"
      },
      "outputs": [
        {
          "data": {
            "text/plain": [
              "No                          0.925594\n",
              "Patient declined            0.035864\n",
              "Patient unable to answer    0.025966\n",
              "Yes                         0.012576\n",
              "Name: Not have a steady place to sleep or slept in a shelter?, dtype: float64"
            ]
          },
          "execution_count": 13,
          "metadata": {},
          "output_type": "execute_result"
        }
      ],
      "source": [
        "data['Not have a steady place to sleep or slept in a shelter?'].value_counts(normalize=True)#.cumsum()"
      ]
    },
    {
      "cell_type": "code",
      "execution_count": null,
      "metadata": {
        "colab": {
          "base_uri": "https://localhost:8080/"
        },
        "id": "HMkwcjyRVn78",
        "outputId": "9c16d745-5679-43a9-fbfb-2593e2a3620f"
      },
      "outputs": [
        {
          "data": {
            "text/plain": [
              "No                          0.893904\n",
              "Patient declined            0.068710\n",
              "Patient unable to answer    0.026496\n",
              "Yes                         0.009094\n",
              "Already Shut Off            0.001796\n",
              "Name: Electric, gas, oil, or water company threatened to shut off services?, dtype: float64"
            ]
          },
          "execution_count": 14,
          "metadata": {},
          "output_type": "execute_result"
        }
      ],
      "source": [
        "data['Electric, gas, oil, or water company threatened to shut off services?'].value_counts(normalize=True)#.cumsum()"
      ]
    },
    {
      "cell_type": "code",
      "execution_count": null,
      "metadata": {
        "colab": {
          "base_uri": "https://localhost:8080/"
        },
        "id": "WzQaDTYnVoBG",
        "outputId": "b9de82ed-3600-4e6f-d445-23b17d7a827a"
      },
      "outputs": [
        {
          "data": {
            "text/plain": [
              "No                  0.903800\n",
              "Patient declined    0.079335\n",
              "Yes                 0.016865\n",
              "Name: Fearful of physical/emotional abuse from relative?, dtype: float64"
            ]
          },
          "execution_count": 15,
          "metadata": {},
          "output_type": "execute_result"
        }
      ],
      "source": [
        "data['Fearful of physical/emotional abuse from relative?'].value_counts(normalize=True)#.cumsum()"
      ]
    },
    {
      "cell_type": "markdown",
      "metadata": {
        "id": "BfHLi3U2W6mS"
      },
      "source": [
        "# **Decision Tree Classifier**"
      ]
    },
    {
      "cell_type": "code",
      "execution_count": null,
      "metadata": {
        "id": "8lSdVZIyXq8O"
      },
      "outputs": [],
      "source": [
        "# Only get the first three columns - predictor, and only question column - label\n",
        "tree_data = data[['age', 'race', 'ethnicity', 'gender',\n",
        "       'food would run out']]\n",
        "\n",
        "# Drop NAs\n",
        "tree_data = tree_data.dropna()"
      ]
    },
    {
      "cell_type": "markdown",
      "metadata": {
        "id": "pg2iI1vDXVSL"
      },
      "source": [
        "## Keep all the answers"
      ]
    },
    {
      "cell_type": "markdown",
      "metadata": {
        "id": "_EDKc6lXeLYN"
      },
      "source": [
        "**Data Split**"
      ]
    },
    {
      "cell_type": "code",
      "execution_count": null,
      "metadata": {
        "id": "LLFfdy2keOXK"
      },
      "outputs": [],
      "source": [
        "X_1 = tree_data.drop(columns = 'food would run out')\n",
        "y_1 = tree_data['food would run out']"
      ]
    },
    {
      "cell_type": "markdown",
      "metadata": {
        "id": "71rw5FmZZ1MX"
      },
      "source": [
        "**Label Encoding**\n",
        "\n",
        "\n",
        "```\n",
        "{'Patient unable to answer':0, 'Patient declined':1, 'Never True':2, 'Sometimes True':3, 'Often True':4}\n",
        "```\n",
        "\n"
      ]
    },
    {
      "cell_type": "code",
      "execution_count": null,
      "metadata": {
        "id": "77w7Dx41W5Fr"
      },
      "outputs": [],
      "source": [
        "mapping = {'Never True':2, 'Patient unable to answer':0, 'Patient declined':1,\n",
        "       'Sometimes True':3, 'Often True':4}\n",
        "\n",
        "reverse_mapping = {0:'Patient unable to answer', 1:'Patient declined', 2:'Never True',3:'Sometimes True', 4:'Often True'}\n",
        "\n",
        "y_1 = y_1.map(mapping)"
      ]
    },
    {
      "cell_type": "markdown",
      "metadata": {
        "id": "VFgMPDcHd_Pr"
      },
      "source": [
        "**One-Hot-Encoding**"
      ]
    },
    {
      "cell_type": "code",
      "execution_count": null,
      "metadata": {
        "id": "PSKqexwQic-i"
      },
      "outputs": [],
      "source": [
        "categorical_columns = X_1[['race', 'ethnicity']]\n",
        "\n",
        "# One-hot encoding for the categorical columns\n",
        "encoder = OneHotEncoder(sparse_output = False)\n",
        "categorical_encoded = encoder.fit_transform(categorical_columns)\n",
        "\n",
        "col_one_hot = list(encoder.get_feature_names_out())\n",
        "# Convert the one-hot encoded array into a DataFrame with the created column names\n",
        "one_hot_df = pd.DataFrame(categorical_encoded, columns=col_one_hot)\n",
        "\n",
        "one_hot_df['age'] = list(X_1['age'])\n",
        "X_1 = one_hot_df.copy()"
      ]
    },
    {
      "cell_type": "markdown",
      "metadata": {
        "id": "bKB-Px3uaOIW"
      },
      "source": [
        "**Train - Test Split**"
      ]
    },
    {
      "cell_type": "code",
      "execution_count": null,
      "metadata": {
        "id": "haiWPH5zaMvw"
      },
      "outputs": [],
      "source": [
        "from sklearn.model_selection import train_test_split\n",
        "\n",
        "# Data Split\n",
        "X_train, X_test, y_train, y_test = train_test_split(X_1, y_1, test_size = 0.4, random_state = 0)#, stratify=y_1)"
      ]
    },
    {
      "cell_type": "code",
      "execution_count": null,
      "metadata": {
        "id": "1gBMhDFUoEOg"
      },
      "outputs": [],
      "source": [
        "#!pip install --upgrade scikit-learn"
      ]
    },
    {
      "cell_type": "code",
      "execution_count": null,
      "metadata": {
        "colab": {
          "base_uri": "https://localhost:8080/",
          "height": 711
        },
        "id": "ABMFytx5bmLp",
        "outputId": "140c5218-1a24-48fc-8506-5dca02c6fd01"
      },
      "outputs": [
        {
          "name": "stdout",
          "output_type": "stream",
          "text": [
            "0.9162428956027521\n",
            "0.9091520861372813\n",
            "              precision    recall  f1-score   support\n",
            "\n",
            "           0       0.00      0.00      0.00        89\n",
            "           1       0.17      0.04      0.06       217\n",
            "           2       0.92      0.99      0.95      4090\n",
            "           3       0.20      0.02      0.04        41\n",
            "           4       0.00      0.00      0.00        21\n",
            "\n",
            "    accuracy                           0.91      4458\n",
            "   macro avg       0.26      0.21      0.21      4458\n",
            "weighted avg       0.85      0.91      0.88      4458\n",
            "\n"
          ]
        },
        {
          "data": {
            "text/plain": [
              "<sklearn.metrics._plot.confusion_matrix.ConfusionMatrixDisplay at 0x7cfdebba27a0>"
            ]
          },
          "execution_count": 22,
          "metadata": {},
          "output_type": "execute_result"
        },
        {
          "data": {
            "image/png": "[encoded data removed]",
            "text/plain": [
              "<Figure size 640x480 with 2 Axes>"
            ]
          },
          "metadata": {},
          "output_type": "display_data"
        }
      ],
      "source": [
        "from sklearn.metrics import classification_report, confusion_matrix, ConfusionMatrixDisplay\n",
        "\n",
        "# Fit the pipeline on the training data\n",
        "dt = DecisionTreeClassifier().fit(X_train, y_train)\n",
        "\n",
        "# Make predictions on the testing data\n",
        "y_train_pred = dt.predict(X_train)\n",
        "y_test_pred = dt.predict(X_test)\n",
        "\n",
        "print(accuracy_score(y_train, y_train_pred))\n",
        "print(accuracy_score(y_test, y_test_pred))\n",
        "print(classification_report(y_test, y_test_pred))\n",
        "cm = confusion_matrix(y_test, y_test_pred)\n",
        "dist= ConfusionMatrixDisplay(cm, display_labels=dt.classes_)\n",
        "dist.plot()"
      ]
    },
    {
      "cell_type": "code",
      "execution_count": null,
      "metadata": {
        "colab": {
          "base_uri": "https://localhost:8080/"
        },
        "id": "PHFHe6t0x45a",
        "outputId": "74c1f954-ebc0-429f-9abc-2a4c5844b65e"
      },
      "outputs": [
        {
          "name": "stdout",
          "output_type": "stream",
          "text": [
            "Requirement already satisfied: graphviz in /usr/local/lib/python3.10/dist-packages (0.20.3)\n"
          ]
        }
      ],
      "source": [
        "pip install graphviz"
      ]
    },
    {
      "cell_type": "code",
      "execution_count": null,
      "metadata": {
        "colab": {
          "base_uri": "https://localhost:8080/"
        },
        "id": "qAQtWiPo8JKC",
        "outputId": "4ca8cf56-8cab-4b37-c266-8d13d6ee28c6"
      },
      "outputs": [
        {
          "data": {
            "text/plain": [
              "0    Patient unable to answer\n",
              "1            Patient declined\n",
              "2                  Never True\n",
              "3                  Often True\n",
              "dtype: object"
            ]
          },
          "execution_count": 24,
          "metadata": {},
          "output_type": "execute_result"
        }
      ],
      "source": [
        "pd.Series([0,1,2,4]).map(reverse_mapping)"
      ]
    },
    {
      "cell_type": "markdown",
      "metadata": {
        "id": "YF_lmfLz4uYY"
      },
      "source": [
        "**Print Decison Tree Figure**"
      ]
    },
    {
      "cell_type": "code",
      "execution_count": null,
      "metadata": {
        "colab": {
          "base_uri": "https://localhost:8080/",
          "height": 35
        },
        "id": "hmzQ75G64uYY",
        "outputId": "aa40e120-ab21-4eff-a79b-4b768c63d281"
      },
      "outputs": [
        {
          "data": {
            "application/vnd.google.colaboratory.intrinsic+json": {
              "type": "string"
            },
            "text/plain": [
              "'decision_tree_graphivz.png'"
            ]
          },
          "execution_count": 27,
          "metadata": {},
          "output_type": "execute_result"
        }
      ],
      "source": [
        "import graphviz\n",
        "dot_data = tree.export_graphviz(dt,\n",
        "                                out_file=None,\n",
        "                                feature_names=X_1.columns,\n",
        "                                class_names=pd.Series([0,1,2,3,4]).map(reverse_mapping),\n",
        "                                filled=True)\n",
        "\n",
        "# Draw graph\n",
        "graph = graphviz.Source(dot_data, format=\"png\")\n",
        "graph.render(\"decision_tree_graphivz\")"
      ]
    },
    {
      "cell_type": "markdown",
      "metadata": {
        "id": "GII3bfIM0hou"
      },
      "source": [
        "## Only True and False Labels"
      ]
    },
    {
      "cell_type": "markdown",
      "metadata": {
        "id": "I1Tt_BOw044J"
      },
      "source": [
        "**Data Split**"
      ]
    },
    {
      "cell_type": "code",
      "execution_count": null,
      "metadata": {
        "id": "k5f_7OS5044K"
      },
      "outputs": [],
      "source": [
        "X_2 = tree_data.drop(columns = 'food would run out')\n",
        "y_2 = tree_data['food would run out']"
      ]
    },
    {
      "cell_type": "markdown",
      "metadata": {
        "id": "kYrUl-nP044K"
      },
      "source": [
        "**Label Encoding**\n",
        "\n",
        "\n",
        "```\n",
        "{'Patient unable to answer':0, 'Never True':1, 'Patient declined':0,\n",
        "       'Sometimes True':2, 'Often True':2}\n",
        "```\n",
        "\n"
      ]
    },
    {
      "cell_type": "code",
      "execution_count": null,
      "metadata": {
        "id": "wqkkTu9F044K"
      },
      "outputs": [],
      "source": [
        "mapping = {'Never True':1, 'Patient unable to answer':0, 'Patient declined':0,\n",
        "       'Sometimes True':2, 'Often True':2}\n",
        "\n",
        "reverse_mapping = {0:'No Answer', 1:'Never True', 2: 'True'}\n",
        "\n",
        "y_2 = y_2.map(mapping)"
      ]
    },
    {
      "cell_type": "markdown",
      "metadata": {
        "id": "rZYK2zAL044K"
      },
      "source": [
        "**One-Hot-Encoding**"
      ]
    },
    {
      "cell_type": "code",
      "execution_count": null,
      "metadata": {
        "id": "j6mGGOMQ044K"
      },
      "outputs": [],
      "source": [
        "categorical_columns = X_2[['race', 'ethnicity']]\n",
        "\n",
        "# One-hot encoding for the categorical columns\n",
        "encoder = OneHotEncoder(sparse_output = False)\n",
        "categorical_encoded = encoder.fit_transform(categorical_columns)\n",
        "\n",
        "col_one_hot = list(encoder.get_feature_names_out())\n",
        "# Convert the one-hot encoded array into a DataFrame with the created column names\n",
        "one_hot_df = pd.DataFrame(categorical_encoded, columns=col_one_hot)\n",
        "\n",
        "one_hot_df['age'] = list(X_2['age'])\n",
        "X_2 = one_hot_df.copy()"
      ]
    },
    {
      "cell_type": "markdown",
      "metadata": {
        "id": "Uu1Zljg2044L"
      },
      "source": [
        "**Train - Test Split**"
      ]
    },
    {
      "cell_type": "code",
      "execution_count": null,
      "metadata": {
        "id": "w-5O1kI3044L"
      },
      "outputs": [],
      "source": [
        "from sklearn.model_selection import train_test_split\n",
        "\n",
        "# Data Split\n",
        "X_train_2, X_test_2, y_train_2, y_test_2 = train_test_split(X_2, y_2, test_size = 0.4, random_state = 0)#, stratify=y_1)"
      ]
    },
    {
      "cell_type": "code",
      "execution_count": null,
      "metadata": {
        "id": "YC4nONsg044L"
      },
      "outputs": [],
      "source": [
        "#!pip install --upgrade scikit-learn"
      ]
    },
    {
      "cell_type": "markdown",
      "metadata": {
        "id": "zlCAmDz04bSz"
      },
      "source": [
        "**Fit the Decision Tree and Print Metrics**"
      ]
    },
    {
      "cell_type": "code",
      "execution_count": null,
      "metadata": {
        "colab": {
          "base_uri": "https://localhost:8080/",
          "height": 677
        },
        "id": "pyXSZHBX044L",
        "outputId": "0e7a6d4a-1452-43f1-b315-8077aeefa301"
      },
      "outputs": [
        {
          "name": "stdout",
          "output_type": "stream",
          "text": [
            "0.9165420281184565\n",
            "0.9087034544638851\n",
            "              precision    recall  f1-score   support\n",
            "\n",
            "           0       0.16      0.03      0.05       306\n",
            "           1       0.92      0.99      0.95      4090\n",
            "           2       0.17      0.02      0.03        62\n",
            "\n",
            "    accuracy                           0.91      4458\n",
            "   macro avg       0.42      0.34      0.34      4458\n",
            "weighted avg       0.86      0.91      0.88      4458\n",
            "\n"
          ]
        },
        {
          "data": {
            "text/plain": [
              "<sklearn.metrics._plot.confusion_matrix.ConfusionMatrixDisplay at 0x7cfde846fb50>"
            ]
          },
          "execution_count": 33,
          "metadata": {},
          "output_type": "execute_result"
        },
        {
          "data": {
            "image/png": "[encoded data removed]",
            "text/plain": [
              "<Figure size 640x480 with 2 Axes>"
            ]
          },
          "metadata": {},
          "output_type": "display_data"
        }
      ],
      "source": [
        "from sklearn.metrics import classification_report, confusion_matrix, ConfusionMatrixDisplay\n",
        "\n",
        "# Fit the pipeline on the training data\n",
        "dt2 = DecisionTreeClassifier().fit(X_train_2, y_train_2)\n",
        "\n",
        "# Make predictions on the testing data\n",
        "y_train_2_pred = dt2.predict(X_train_2)\n",
        "y_test_2_pred = dt2.predict(X_test_2)\n",
        "\n",
        "print(accuracy_score(y_train_2, y_train_2_pred))\n",
        "print(accuracy_score(y_test_2, y_test_2_pred))\n",
        "print(classification_report(y_test_2, y_test_2_pred))\n",
        "cm = confusion_matrix(y_test_2, y_test_2_pred)\n",
        "dist= ConfusionMatrixDisplay(cm, display_labels=dt2.classes_)\n",
        "dist.plot()"
      ]
    },
    {
      "cell_type": "markdown",
      "metadata": {
        "id": "kgQUMpe04hRV"
      },
      "source": [
        "**Print Decison Tree Figure**"
      ]
    },
    {
      "cell_type": "code",
      "execution_count": null,
      "metadata": {
        "colab": {
          "base_uri": "https://localhost:8080/",
          "height": 35
        },
        "id": "WTrTMH1p044L",
        "outputId": "7e8a6c3a-9b3d-4676-ea8a-8e2edcac4c7d"
      },
      "outputs": [
        {
          "data": {
            "application/vnd.google.colaboratory.intrinsic+json": {
              "type": "string"
            },
            "text/plain": [
              "'decision_tree_true_false_noanswer.png'"
            ]
          },
          "execution_count": 34,
          "metadata": {},
          "output_type": "execute_result"
        }
      ],
      "source": [
        "dot_data = tree.export_graphviz(dt2, out_file=None,\n",
        "                                feature_names=X_2.columns,\n",
        "                                class_names=pd.Series([0,1,2]).map(reverse_mapping),\n",
        "                                filled=True)\n",
        "\n",
        "# Draw graph\n",
        "graph = graphviz.Source(dot_data, format=\"png\")\n",
        "graph.render(\"decision_tree_true_false_noanswer\")"
      ]
    },
    {
      "cell_type": "markdown",
      "metadata": {
        "id": "AKt-Wai33-a8"
      },
      "source": [
        "# Dealing with unbalanced classes"
      ]
    },
    {
      "cell_type": "code",
      "execution_count": null,
      "metadata": {
        "colab": {
          "base_uri": "https://localhost:8080/"
        },
        "id": "_w8YzMgM39zW",
        "outputId": "c662ce4b-d4d5-4387-f3b2-6d08372bbd1c"
      },
      "outputs": [
        {
          "name": "stdout",
          "output_type": "stream",
          "text": [
            "0.018393898609241812\n"
          ]
        }
      ],
      "source": [
        "from sklearn import svm\n",
        "model = svm.SVC(gamma='scale',\n",
        "            class_weight='balanced',\n",
        "                probability=True)\n",
        "model.fit(X_train, y_train)\n",
        "predictions = model.predict(X_test)\n",
        "\n",
        "print(accuracy_score(y_test, predictions))\n"
      ]
    },
    {
      "cell_type": "markdown",
      "metadata": {
        "id": "EPUuPj5aK9DG"
      },
      "source": [
        "**Gradient Boost**"
      ]
    },
    {
      "cell_type": "code",
      "execution_count": null,
      "metadata": {
        "id": "hokG1Jc0BV1x"
      },
      "outputs": [],
      "source": [
        "condition = (tree_data['food would run out'] == 'Patient unable to answer') | (tree_data['food would run out'] == 'Patient declined')\n",
        "\n",
        "sample_data = tree_data[~condition]\n",
        "\n",
        "X_sample = sample_data.drop(columns = ['food would run out'])\n",
        "y_sample = sample_data['food would run out']\n",
        "\n",
        "mapping = {'Never True':0,\n",
        "       'Sometimes True':1, 'Often True':1}\n",
        "\n",
        "y_sample = y_sample.map(mapping)\n"
      ]
    },
    {
      "cell_type": "code",
      "execution_count": null,
      "metadata": {
        "id": "fhYiDFRgJjNX"
      },
      "outputs": [],
      "source": [
        "categorical_columns = X_sample[['race', 'ethnicity']]\n",
        "\n",
        "# One-hot encoding for the categorical columns\n",
        "encoder = OneHotEncoder(sparse_output = False)\n",
        "categorical_encoded = encoder.fit_transform(categorical_columns)\n",
        "\n",
        "col_one_hot = list(encoder.get_feature_names_out())\n",
        "# Convert the one-hot encoded array into a DataFrame with the created column names\n",
        "one_hot_df = pd.DataFrame(categorical_encoded, columns=col_one_hot)\n",
        "\n",
        "one_hot_df['age'] = list(X_sample['age'])\n",
        "X_sample = one_hot_df.copy()\n",
        "\n",
        "# Data Split\n",
        "X_train, X_test, y_train, y_test = train_test_split(X_sample, y_sample, test_size = 0.4, random_state = 0)#, stratify=y_sample)"
      ]
    },
    {
      "cell_type": "code",
      "execution_count": null,
      "metadata": {
        "colab": {
          "base_uri": "https://localhost:8080/",
          "height": 764
        },
        "id": "0c4jw94V4Fvs",
        "outputId": "3267a8cb-a72a-425a-f9f3-31fffe2fedbd"
      },
      "outputs": [
        {
          "name": "stdout",
          "output_type": "stream",
          "text": [
            "0.9857315598548972\n",
            "              precision    recall  f1-score   support\n",
            "\n",
            "           0       0.99      1.00      0.99      4076\n",
            "           1       0.00      0.00      0.00        59\n",
            "\n",
            "    accuracy                           0.99      4135\n",
            "   macro avg       0.49      0.50      0.50      4135\n",
            "weighted avg       0.97      0.99      0.98      4135\n",
            "\n"
          ]
        },
        {
          "name": "stderr",
          "output_type": "stream",
          "text": [
            "/usr/local/lib/python3.10/dist-packages/sklearn/metrics/_classification.py:1344: UndefinedMetricWarning: Precision and F-score are ill-defined and being set to 0.0 in labels with no predicted samples. Use `zero_division` parameter to control this behavior.\n",
            "  _warn_prf(average, modifier, msg_start, len(result))\n",
            "/usr/local/lib/python3.10/dist-packages/sklearn/metrics/_classification.py:1344: UndefinedMetricWarning: Precision and F-score are ill-defined and being set to 0.0 in labels with no predicted samples. Use `zero_division` parameter to control this behavior.\n",
            "  _warn_prf(average, modifier, msg_start, len(result))\n",
            "/usr/local/lib/python3.10/dist-packages/sklearn/metrics/_classification.py:1344: UndefinedMetricWarning: Precision and F-score are ill-defined and being set to 0.0 in labels with no predicted samples. Use `zero_division` parameter to control this behavior.\n",
            "  _warn_prf(average, modifier, msg_start, len(result))\n"
          ]
        },
        {
          "data": {
            "text/plain": [
              "<sklearn.metrics._plot.confusion_matrix.ConfusionMatrixDisplay at 0x7cfde8333310>"
            ]
          },
          "execution_count": 38,
          "metadata": {},
          "output_type": "execute_result"
        },
        {
          "data": {
            "image/png": "[encoded data removed]",
            "text/plain": [
              "<Figure size 640x480 with 2 Axes>"
            ]
          },
          "metadata": {},
          "output_type": "display_data"
        }
      ],
      "source": [
        "import xgboost as xgb\n",
        "xgb_model = xgb.XGBClassifier(learning_rate=0.001,\n",
        "                            max_depth = 1,\n",
        "                            n_estimators = 100,\n",
        "                              scale_pos_weight=3)\n",
        "xgb_model.fit(X_train, y_train)\n",
        "\n",
        "predictions = xgb_model.predict(X_test)\n",
        "\n",
        "print(accuracy_score(y_test, predictions))\n",
        "print(classification_report(y_test, predictions))\n",
        "cm = confusion_matrix(y_test, predictions)\n",
        "dist= ConfusionMatrixDisplay(cm, display_labels=xgb_model.classes_)\n",
        "dist.plot()\n"
      ]
    },
    {
      "cell_type": "markdown",
      "metadata": {
        "id": "DNFdZdMJLBvG"
      },
      "source": [
        "**Smote**"
      ]
    },
    {
      "cell_type": "code",
      "execution_count": null,
      "metadata": {
        "id": "r9dskfybLPU2"
      },
      "outputs": [],
      "source": [
        "X_smt = tree_data.drop(columns = 'food would run out')\n",
        "y_smt = tree_data['food would run out']"
      ]
    },
    {
      "cell_type": "code",
      "execution_count": null,
      "metadata": {
        "id": "CFSEHDCoLPVF"
      },
      "outputs": [],
      "source": [
        "mapping = {'Never True':2, 'Patient unable to answer':0, 'Patient declined':1,\n",
        "       'Sometimes True':3, 'Often True':4}\n",
        "\n",
        "reverse_mapping = {0:'Patient unable to answer', 1:'Patient declined', 2:'Never True',3:'Sometimes True', 4:'Often True'}\n",
        "\n",
        "y_smt = y_smt.map(mapping)"
      ]
    },
    {
      "cell_type": "code",
      "execution_count": null,
      "metadata": {
        "colab": {
          "base_uri": "https://localhost:8080/"
        },
        "id": "I3c-S-r7LYXS",
        "outputId": "a76ab483-6d9f-426f-bfd6-2ec4f4e0eec4"
      },
      "outputs": [
        {
          "data": {
            "text/plain": [
              "2    0.913855\n",
              "1    0.052046\n",
              "0    0.020459\n",
              "3    0.009512\n",
              "4    0.004128\n",
              "Name: food would run out, dtype: float64"
            ]
          },
          "execution_count": 41,
          "metadata": {},
          "output_type": "execute_result"
        }
      ],
      "source": [
        "y_smt.value_counts(normalize=True)"
      ]
    },
    {
      "cell_type": "code",
      "execution_count": null,
      "metadata": {
        "id": "7nayk_bNLPVG"
      },
      "outputs": [],
      "source": [
        "categorical_columns = X_smt[['race', 'ethnicity']]\n",
        "\n",
        "# One-hot encoding for the categorical columns\n",
        "encoder = OneHotEncoder(sparse_output = False)\n",
        "categorical_encoded = encoder.fit_transform(categorical_columns)\n",
        "\n",
        "col_one_hot = list(encoder.get_feature_names_out())\n",
        "# Convert the one-hot encoded array into a DataFrame with the created column names\n",
        "one_hot_df = pd.DataFrame(categorical_encoded, columns=col_one_hot)\n",
        "\n",
        "one_hot_df['age'] = list(X_smt['age'])\n",
        "X_smt = one_hot_df.copy()"
      ]
    },
    {
      "cell_type": "code",
      "execution_count": null,
      "metadata": {
        "id": "r0yvm8BYLPVG"
      },
      "outputs": [],
      "source": [
        "from sklearn.model_selection import train_test_split\n",
        "\n",
        "# Data Split\n",
        "X_train, X_test, y_train, y_test = train_test_split(X_smt, y_smt, test_size = 0.4, random_state = 0, stratify=y_smt)"
      ]
    },
    {
      "cell_type": "code",
      "execution_count": null,
      "metadata": {
        "id": "2JZuQj6O4ob-"
      },
      "outputs": [],
      "source": [
        "from imblearn.over_sampling import SMOTE\n",
        "oversample = SMOTE()\n",
        "X_smt_train, y_smt_train = oversample.fit_resample(X_train, y_train)"
      ]
    },
    {
      "cell_type": "code",
      "execution_count": null,
      "metadata": {
        "colab": {
          "base_uri": "https://localhost:8080/",
          "height": 709
        },
        "id": "MrYZ0m7B6YWV",
        "outputId": "4e4741b3-8cbd-4b69-fadf-455a372b47c2"
      },
      "outputs": [
        {
          "name": "stdout",
          "output_type": "stream",
          "text": [
            "0.7260556464811784\n",
            "0.4230596680125617\n",
            "              precision    recall  f1-score   support\n",
            "\n",
            "           0       0.03      0.37      0.05        91\n",
            "           1       0.05      0.16      0.07       232\n",
            "           2       0.91      0.44      0.60      4074\n",
            "           3       0.04      0.14      0.06        43\n",
            "           4       0.01      0.22      0.03        18\n",
            "\n",
            "    accuracy                           0.42      4458\n",
            "   macro avg       0.21      0.27      0.16      4458\n",
            "weighted avg       0.84      0.42      0.55      4458\n",
            "\n"
          ]
        },
        {
          "data": {
            "text/plain": [
              "<sklearn.metrics._plot.confusion_matrix.ConfusionMatrixDisplay at 0x7cfdeb7bd240>"
            ]
          },
          "execution_count": 45,
          "metadata": {},
          "output_type": "execute_result"
        },
        {
          "data": {
            "image/png": "[encoded data removed]",
            "text/plain": [
              "<Figure size 640x480 with 2 Axes>"
            ]
          },
          "metadata": {},
          "output_type": "display_data"
        }
      ],
      "source": [
        "# Fit the pipeline on the training data\n",
        "dtsmt = DecisionTreeClassifier().fit(X_smt_train, y_smt_train)\n",
        "\n",
        "# Make predictions on the testing data\n",
        "y_train_smt_pred = dtsmt.predict(X_smt_train)\n",
        "y_test_smt_pred = dtsmt.predict(X_test)\n",
        "\n",
        "print(accuracy_score(y_smt_train, y_train_smt_pred))\n",
        "print(accuracy_score(y_test, y_test_smt_pred))\n",
        "print(classification_report(y_test, y_test_smt_pred))\n",
        "cm = confusion_matrix(y_test, y_test_smt_pred)\n",
        "dist= ConfusionMatrixDisplay(cm, display_labels=dtsmt.classes_)\n",
        "dist.plot()"
      ]
    },
    {
      "cell_type": "markdown",
      "metadata": {
        "id": "Tdn94uwHNjrr"
      },
      "source": [
        "**Decision Trees**"
      ]
    },
    {
      "cell_type": "code",
      "execution_count": null,
      "metadata": {
        "id": "AbQ_OJ21Nwiw"
      },
      "outputs": [],
      "source": [
        "X_dt = tree_data.drop(columns = 'food would run out')\n",
        "y_dt = tree_data['food would run out']"
      ]
    },
    {
      "cell_type": "code",
      "execution_count": null,
      "metadata": {
        "id": "qJdFtt13NwjA"
      },
      "outputs": [],
      "source": [
        "mapping = {'Never True':2, 'Patient unable to answer':0, 'Patient declined':1,\n",
        "       'Sometimes True':3, 'Often True':4}\n",
        "\n",
        "reverse_mapping = {0:'Patient unable to answer', 1:'Patient declined', 2:'Never True',3:'Sometimes True', 4:'Often True'}\n",
        "\n",
        "y_dt = y_dt.map(mapping)"
      ]
    },
    {
      "cell_type": "code",
      "execution_count": null,
      "metadata": {
        "colab": {
          "base_uri": "https://localhost:8080/"
        },
        "id": "WbtHJcgqNwjA",
        "outputId": "db7bbd8d-a343-4122-dad2-c0983db6a29c"
      },
      "outputs": [
        {
          "data": {
            "text/plain": [
              "2    0.913855\n",
              "1    0.052046\n",
              "0    0.020459\n",
              "3    0.009512\n",
              "4    0.004128\n",
              "Name: food would run out, dtype: float64"
            ]
          },
          "execution_count": 48,
          "metadata": {},
          "output_type": "execute_result"
        }
      ],
      "source": [
        "y_dt.value_counts(normalize=True)"
      ]
    },
    {
      "cell_type": "code",
      "execution_count": null,
      "metadata": {
        "id": "_YwBUi0AOXTC"
      },
      "outputs": [],
      "source": [
        "categorical_columns = X_dt[['race', 'ethnicity']]\n",
        "\n",
        "# One-hot encoding for the categorical columns\n",
        "encoder = OneHotEncoder(sparse_output = False)\n",
        "categorical_encoded = encoder.fit_transform(categorical_columns)\n",
        "\n",
        "col_one_hot = list(encoder.get_feature_names_out())\n",
        "# Convert the one-hot encoded array into a DataFrame with the created column names\n",
        "one_hot_df = pd.DataFrame(categorical_encoded, columns=col_one_hot)\n",
        "\n",
        "one_hot_df['age'] = list(X_dt['age'])\n",
        "X_dt = one_hot_df.copy()"
      ]
    },
    {
      "cell_type": "code",
      "execution_count": null,
      "metadata": {
        "id": "DLd2VDbzOXTD"
      },
      "outputs": [],
      "source": [
        "from sklearn.model_selection import train_test_split\n",
        "\n",
        "# Data Split\n",
        "X_train, X_test, y_train, y_test = train_test_split(X_dt, y_dt, test_size = 0.4, random_state = 0, stratify=y_smt)"
      ]
    },
    {
      "cell_type": "code",
      "execution_count": null,
      "metadata": {
        "colab": {
          "base_uri": "https://localhost:8080/"
        },
        "id": "Ff4PXuwBww_T",
        "outputId": "9822ecc6-d752-4115-9503-fe4b29f15f9f"
      },
      "outputs": [
        {
          "data": {
            "text/plain": [
              "2    0.002627\n",
              "1    0.046123\n",
              "0    0.117330\n",
              "3    0.252371\n",
              "4    0.581550\n",
              "Name: food would run out, dtype: float64"
            ]
          },
          "execution_count": 60,
          "metadata": {},
          "output_type": "execute_result"
        }
      ],
      "source": [
        "1/y_dt.value_counts(normalize=True)/sum(1/y_dt.value_counts(normalize=True))"
      ]
    },
    {
      "cell_type": "code",
      "execution_count": null,
      "metadata": {
        "colab": {
          "base_uri": "https://localhost:8080/",
          "height": 709
        },
        "id": "GTX47f-dNjKr",
        "outputId": "c108b60e-ef61-4400-b135-03d703d0a7ea"
      },
      "outputs": [
        {
          "name": "stdout",
          "output_type": "stream",
          "text": [
            "Classification Report:\n",
            "              precision    recall  f1-score   support\n",
            "\n",
            "           0       0.03      0.43      0.05        91\n",
            "           1       0.04      0.15      0.06       232\n",
            "           2       0.91      0.30      0.46      4074\n",
            "           3       0.01      0.12      0.02        43\n",
            "           4       0.01      0.28      0.02        18\n",
            "\n",
            "    accuracy                           0.30      4458\n",
            "   macro avg       0.20      0.25      0.12      4458\n",
            "weighted avg       0.83      0.30      0.42      4458\n",
            "\n",
            "Confusion Matrix:\n"
          ]
        },
        {
          "data": {
            "text/plain": [
              "<sklearn.metrics._plot.confusion_matrix.ConfusionMatrixDisplay at 0x7cfde846fbe0>"
            ]
          },
          "execution_count": 65,
          "metadata": {},
          "output_type": "execute_result"
        },
        {
          "data": {
            "image/png": "[encoded data removed]",
            "text/plain": [
              "<Figure size 640x480 with 2 Axes>"
            ]
          },
          "metadata": {},
          "output_type": "display_data"
        }
      ],
      "source": [
        "from sklearn.model_selection import train_test_split\n",
        "from sklearn.tree import DecisionTreeClassifier\n",
        "from sklearn.metrics import classification_report, confusion_matrix\n",
        "\n",
        "# Define the class weights based on the imbalance in your dataset\n",
        "\n",
        "\n",
        "class_weights = {0: 0.117330, 1: 0.046123, 2: 0.002627, 3: 0.252371, 4: 0.581550}\n",
        "\n",
        "# Create a Decision Tree Classifier with class weighting\n",
        "dt_classifier = DecisionTreeClassifier(class_weight=class_weights, random_state=42)\n",
        "\n",
        "# Fit the classifier to the training data\n",
        "dt_classifier.fit(X_train, y_train)\n",
        "\n",
        "# Make predictions on the test data\n",
        "y_pred = dt_classifier.predict(X_test)\n",
        "\n",
        "# Evaluate the model using classification report and confusion matrix\n",
        "print(\"Classification Report:\")\n",
        "print(classification_report(y_test, y_pred))\n",
        "\n",
        "print(\"Confusion Matrix:\")\n",
        "cm = confusion_matrix(y_test, y_pred)\n",
        "dist= ConfusionMatrixDisplay(cm, display_labels=dtsmt.classes_)\n",
        "dist.plot()"
      ]
    }
  ],
  "metadata": {
    "colab": {
      "authorship_tag": "ABX9TyPk+j84Z4M8UpTuYqtqAVfN",
      "include_colab_link": true,
      "provenance": []
    },
    "kernelspec": {
      "display_name": "Python 3",
      "name": "python3"
    },
    "language_info": {
      "name": "python",
      "version": "3.11.7"
    }
  },
  "nbformat": 4,
  "nbformat_minor": 0
}
